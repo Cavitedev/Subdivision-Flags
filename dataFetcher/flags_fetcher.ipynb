{
    "cells": [
        {
            "cell_type": "markdown",
            "metadata": {},
            "source": [
                "# Data fetcher for flags\n",
                "\n",
                "Gets data from different places and combines/saves them in a single file. In order to support OsuWorld"
            ]
        },
        {
            "cell_type": "code",
            "execution_count": null,
            "metadata": {},
            "outputs": [],
            "source": [
                "import requests\n",
                "from bs4 import BeautifulSoup\n",
                "import json\n",
                "import copy\n"
            ]
        },
        {
            "cell_type": "code",
            "execution_count": null,
            "metadata": {},
            "outputs": [],
            "source": [
                "def fetchData(api_url):\n",
                "    try:\n",
                "        response = requests.get(api_url)\n",
                "\n",
                "        if response.status_code == 200:\n",
                "\n",
                "            data = response.json()\n",
                "            return data\n",
                "        else:\n",
                "            print(f\"Request failed with status code: {response.status_code}\")\n",
                "    except requests.exceptions.RequestException as e:\n",
                "        print(\"An error occurred:\", e)\n"
            ]
        },
        {
            "cell_type": "markdown",
            "metadata": {},
            "source": [
                "# Wikimedia flags Fetcher\n",
                "\n",
                "Retrieves the flags from: https://commons.wikimedia.org/wiki/Flags_of_country_subdivisions\n"
            ]
        },
        {
            "cell_type": "code",
            "execution_count": null,
            "metadata": {},
            "outputs": [],
            "source": [
                "url = \"https://commons.wikimedia.org/wiki/Flags_of_country_subdivisions\"\n"
            ]
        },
        {
            "cell_type": "code",
            "execution_count": null,
            "metadata": {},
            "outputs": [],
            "source": [
                "\n",
                "def parseUrl(url):\n",
                "    response = requests.get(url)\n",
                "\n",
                "    if response.status_code == 200:\n",
                "        soup = BeautifulSoup(response.content, \"html.parser\")\n",
                "        return soup\n",
                "\n",
                "    else:\n",
                "        print(\"Failed to fetch the webpage\")\n"
            ]
        },
        {
            "cell_type": "code",
            "execution_count": null,
            "metadata": {},
            "outputs": [],
            "source": [
                "parsed = parseUrl(url)\n"
            ]
        },
        {
            "cell_type": "code",
            "execution_count": null,
            "metadata": {},
            "outputs": [],
            "source": [
                "\n",
                "\n",
                "content = parsed.find(id=\"mw-content-text\").find(\"div\")\n",
                "\n",
                "flagsRaw = {\n",
                "\n",
                "}\n",
                "country = \"\"\n",
                "for element in content.children:\n",
                "\n",
                "    if element.name == \"h2\":\n",
                "        titleText = element.find(\"span\").text\n",
                "        if titleText == \"\" or titleText == \"See also\":\n",
                "            continue\n",
                "        country = titleText\n",
                "        flagsRaw[country] = []\n",
                "    elif element.name == \"table\":\n",
                "        if country == \"\":\n",
                "            continue\n",
                "        flagsAnchor = element.findAll(class_=\"mw-file-description\")\n",
                "        for flagAnchor in flagsAnchor:\n",
                "            name = flagAnchor.attrs['title']\n",
                "            flagImg = flagAnchor.find(class_=\"mw-file-element\")\n",
                "            flagRaw = flagImg.attrs['src']\n",
                "            flag: str = flagRaw.replace(\"thumb/\", \"\")\n",
                "\n",
                "            matchEnd = \".svg\"\n",
                "            svgIndex = flag.find(matchEnd)\n",
                "            if svgIndex == -1:\n",
                "                flag = flagRaw\n",
                "            else:\n",
                "                flag = flag[:svgIndex+len(matchEnd)]\n",
                "\n",
                "            flag = {\n",
                "                \"name\": name,\n",
                "                \"flag\": flag,\n",
                "                \"flagRaw\": flagRaw\n",
                "            }\n",
                "\n",
                "            flagsRaw[country].append(flag)\n"
            ]
        },
        {
            "cell_type": "markdown",
            "metadata": {},
            "source": [
                "## Check the svg links status\n"
            ]
        },
        {
            "cell_type": "code",
            "execution_count": null,
            "metadata": {},
            "outputs": [],
            "source": [
                "json_data = json.dumps(flagsRaw, indent=4, ensure_ascii=False).encode('utf8').decode()\n",
                "flagsRaw = \"out/flags_raw.json\"\n",
                "with open(flagsRaw, \"w\") as json_file:\n",
                "    json_file.write(json_data)\n",
                "\n",
                "print(\"JSON data has been saved to\", file_path)\n"
            ]
        },
        {
            "cell_type": "code",
            "execution_count": null,
            "metadata": {},
            "outputs": [],
            "source": [
                "flagsRaw = \"out/flags_raw.json\"\n",
                "\n",
                "with open(flagsRaw, \"r\", encoding=\"utf-8\") as json_file:\n",
                "    flagsRaw = json.load(json_file)\n"
            ]
        },
        {
            "cell_type": "markdown",
            "metadata": {},
            "source": [
                "## Remove heavy links"
            ]
        },
        {
            "cell_type": "code",
            "execution_count": null,
            "metadata": {},
            "outputs": [],
            "source": [
                "import requests\n",
                "\n",
                "image_url = \"https://upload.wikimedia.org/wikipedia/commons/4/43/Flag_of_Southwest_Papua.svg\"\n",
                "headers = {\n",
                "    \"User-Agent\": \"Mozilla/5.0 (Windows NT 10.0; Win64; x64) AppleWebKit/537.36 (KHTML, like Gecko) Chrome/58.0.3029.110 Safari/537.36\"}\n",
                "\n",
                "\n",
                "def urlContentSize(url):\n",
                "    response = requests.get(url, headers=headers)\n",
                "\n",
                "    if response.status_code == 200:\n",
                "        file_size_bytes = len(response.content)\n",
                "        return file_size_bytes / 1024\n",
                "    else:\n",
                "        print(\n",
                "            f\"Failed to fetch the image. Status code: {response.status_code}\")\n"
            ]
        },
        {
            "cell_type": "code",
            "execution_count": null,
            "metadata": {},
            "outputs": [],
            "source": [
                "maxSvgSize = 100\n",
                "\n",
                "for country in flagsRaw:\n",
                "    for flagData in flagsRaw[country]:\n",
                "        flag: str = flagData[\"flag\"]\n",
                "        extension = flag.split(\".\")[-1]\n",
                "        if extension != \"svg\" or \"upload.wikimedia.org\" not in flag:\n",
                "            continue\n",
                "        size = urlContentSize(flag)\n",
                "        if size > maxSvgSize:\n",
                "            print(\"Flag:\", flag, \"Size:\", size, \"KB\")\n",
                "\n",
                "            sections = flag.split(\"/\")\n",
                "            commons_index = sections.index('commons')\n",
                "            sections.insert(commons_index + 1, 'thumb')\n",
                "\n",
                "            filename = sections[-1]\n",
                "            addedFilename = \"/128px-\" + filename + \".png\"\n",
                "            sections.append(addedFilename)\n",
                "\n",
                "            newFlag = '/'.join(sections[:])\n",
                "            # print(\"New flag:\", newFlag, \"Size:\", urlContentSize(newFlag), \"KB\")\n",
                "            flagData[\"flag\"] = newFlag\n"
            ]
        },
        {
            "cell_type": "code",
            "execution_count": null,
            "metadata": {},
            "outputs": [],
            "source": [
                "flags = {\n",
                "    country: [\n",
                "        {key: value for key, value in county.items() if key != 'flagRaw'}\n",
                "        for county in counties\n",
                "    ]\n",
                "    for country, counties in flagsRaw.items()\n",
                "}\n"
            ]
        },
        {
            "cell_type": "markdown",
            "metadata": {},
            "source": [
                "## Convert names to ISO 3166 codes\n"
            ]
        },
        {
            "cell_type": "code",
            "execution_count": null,
            "metadata": {},
            "outputs": [],
            "source": [
                "countriesJsonPath = \"./in/countries.json\"\n",
                "\n",
                "with open(countriesJsonPath, \"r\", encoding=\"utf-8\") as json_file:\n",
                "    countriesJson = json.load(json_file)\n"
            ]
        },
        {
            "cell_type": "code",
            "execution_count": null,
            "metadata": {},
            "outputs": [],
            "source": [
                "FlagsCodes = {}\n",
                "\n",
                "for country, regions in flags.items():\n",
                "    code = None\n",
                "    for countryJson in countriesJson:\n",
                "        countryName: str = countryJson[\"name\"]\n",
                "        if countryName.find(country) != -1 or country.find(countryName) != -1:\n",
                "            code = countryJson[\"alpha-2\"]\n",
                "            break\n",
                "        \n",
                "    if code is None:\n",
                "        print(f\"Country {country} not found in countries.json\")\n",
                "        continue\n",
                "\n",
                "    FlagsCodes[code] = {\n",
                "        \"name\": country,\n",
                "        \"regions\": regions\n",
                "    }\n"
            ]
        },
        {
            "cell_type": "code",
            "execution_count": null,
            "metadata": {},
            "outputs": [],
            "source": [
                "flags = FlagsCodes\n"
            ]
        },
        {
            "cell_type": "code",
            "execution_count": null,
            "metadata": {},
            "outputs": [],
            "source": [
                "json_data = json.dumps(FlagsCodes, indent=4, ensure_ascii=False).encode('utf8').decode()\n",
                "with open(\"out/flags_codes.json\", \"w\") as json_file:\n",
                "    json_file.write(json_data)"
            ]
        },
        {
            "cell_type": "markdown",
            "metadata": {},
            "source": [
                "## Add Native name to countries\n"
            ]
        },
        {
            "cell_type": "code",
            "execution_count": null,
            "metadata": {},
            "outputs": [],
            "source": [
                "countriesNativeJson = fetchData(\n",
                "    \"https://raw.githubusercontent.com/tomeralmog/zipcode-kml/master/countries.json\")\n"
            ]
        },
        {
            "cell_type": "code",
            "execution_count": null,
            "metadata": {},
            "outputs": [],
            "source": [
                "for countryCode, country in flags.items():\n",
                "    countryName = country[\"name\"]\n",
                "    nativeCountryRows = [\n",
                "        countryRow for countryRow in countriesNativeJson if countryRow[\"countryName\"] == countryName]\n",
                "\n",
                "    if len(nativeCountryRows) == 0:\n",
                "        # Fix Netherlands and The Netherlands mismatch exception\n",
                "        exceptionCountries = {\"NL\": \"The Netherlands\",\n",
                "                              \"PT\": \"Portugual\", \"HR\": \"Czechia\", \"DO\": \"Dominica Republic\"}\n",
                "        if countryCode in exceptionCountries.keys():\n",
                "            countryName = exceptionCountries[countryCode]\n",
                "            nativeCountryRows = [\n",
                "                countryRow for countryRow in countriesNativeJson if countryRow[\"countryName\"] == countryName]\n",
                "        else:\n",
                "            print(\n",
                "                f\"Country {countryCode} {countryName} not found in countries.json\")\n",
                "            continue\n",
                "\n",
                "    nativeCountryRow = nativeCountryRows[0]\n",
                "    nativeCountryName: str = nativeCountryRow[\"nativeCountryName\"]\n",
                "    nativeCountryName = nativeCountryName.split(\",\")[0].split(\"|\")[0]\n",
                "    country[\"nativeName\"] = nativeCountryName\n",
                "    # Reorder regions to appear after nativeName\n",
                "    regCopy = country[\"regions\"]\n",
                "    del country[\"regions\"]\n",
                "    country[\"regions\"] = regCopy\n"
            ]
        },
        {
            "cell_type": "markdown",
            "metadata": {},
            "source": [
                "## Add ISO 3166-2 codes to regions\n",
                "\n",
                "Using Open Street Maps API: https://nominatim.openstreetmap.org/ui/search.html\n"
            ]
        },
        {
            "cell_type": "code",
            "execution_count": null,
            "metadata": {},
            "outputs": [],
            "source": [
                "urlSearch = \"https://nominatim.openstreetmap.org/search.php?q=$1&countrycodes=$2&format=jsonv2\"\n",
                "\n",
                "\n",
                "def getSearchURL(regionName, countryCode):\n",
                "    return urlSearch.replace(\"$1\", regionName).replace(\"$2\", countryCode)\n",
                "\n",
                "\n",
                "urlReverseId = \"https://nominatim.openstreetmap.org/details.php?osmtype=R&osmid=$1&format=json\"\n",
                "\n",
                "\n",
                "def getReverseIdURL(id):\n",
                "    return urlReverseId.replace(\"$1\", id)\n"
            ]
        },
        {
            "cell_type": "code",
            "execution_count": null,
            "metadata": {},
            "outputs": [],
            "source": [
                "flagsRegionCodes = copy.deepcopy(FlagsCodes)\n",
                "\n",
                "\n",
                "def addResult(regionsMap, region, name, matchData):\n",
                "    id = matchData['osm_id']\n",
                "    detailsUrl = getReverseIdURL(str(id))\n",
                "    print(id)\n",
                "    detailsData = fetchData(detailsUrl)\n",
                "\n",
                "    if detailsData is None:\n",
                "        print(\"No details data\")\n",
                "        print(region)\n",
                "        return False\n",
                "\n",
                "    isoCode = detailsData['names'].get('ISO3166-2')\n",
                "\n",
                "    if isoCode is None:\n",
                "        print(\"No ISO Code\")\n",
                "        print(region)\n",
                "        return False\n",
                "\n",
                "    nativeName = detailsData['names'].get('name')\n",
                "\n",
                "    if isoCode in regionsMap:\n",
                "        print(\"ISO code already exists ISO: \" + isoCode)\n",
                "        print(region)\n",
                "        return False\n",
                "\n",
                "    regionsMap[isoCode] = {\n",
                "        \"name\": name,\n",
                "        \"nativeName\": nativeName,\n",
                "        \"flag\": region['flag']\n",
                "    }\n",
                "    return True\n",
                "\n",
                "\n",
                "for countryCode, country in FlagsCodes.items():\n",
                "    print(countryCode)\n",
                "    regionsMap = {}\n",
                "\n",
                "    for region in country['regions']:\n",
                "        name = region['name']\n",
                "        api_url = getSearchURL(name, countryCode)\n",
                "\n",
                "        data = fetchData(api_url)\n",
                "        if data:\n",
                "            it = (d for d in data if d.get(\"type\") == \"administrative\")\n",
                "\n",
                "            matchData = next(it, None)\n",
                "\n",
                "            while matchData:\n",
                "                suceed = addResult(regionsMap, region, name, matchData)\n",
                "                if not suceed:\n",
                "                    matchData = next(it, None)\n",
                "                    if matchData is not None:\n",
                "                        print(\"Trying next match\")\n",
                "                else:\n",
                "                    matchData = None\n",
                "\n",
                "        else:\n",
                "            print(\"No match data\")\n",
                "\n",
                "    flagsRegionCodes[countryCode]['regions'] = regionsMap\n"
            ]
        },
        {
            "cell_type": "markdown",
            "metadata": {},
            "source": [
                "## Save final auto flags\n"
            ]
        },
        {
            "cell_type": "code",
            "execution_count": null,
            "metadata": {},
            "outputs": [],
            "source": [
                "json_data = json.dumps(\n",
                "    flags, indent=4, ensure_ascii=False).encode('utf8').decode()\n",
                "file_path = \"out/flags_auto.json\"\n",
                "with open(file_path, \"w\") as json_file:\n",
                "    json_file.write(json_data)\n",
                "\n",
                "print(\"JSON data has been saved to\", file_path)\n"
            ]
        }
    ],
    "metadata": {
        "kernelspec": {
            "display_name": "base",
            "language": "python",
            "name": "python3"
        },
        "language_info": {
            "codemirror_mode": {
                "name": "ipython",
                "version": 3
            },
            "file_extension": ".py",
            "mimetype": "text/x-python",
            "name": "python",
            "nbconvert_exporter": "python",
            "pygments_lexer": "ipython3",
            "version": "3.10.12"
        },
        "orig_nbformat": 4
    },
    "nbformat": 4,
    "nbformat_minor": 2
}
