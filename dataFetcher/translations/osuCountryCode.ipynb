{
 "cells": [
  {
   "cell_type": "markdown",
   "metadata": {},
   "source": [
    "# Osu Country Codes\n",
    "\n",
    "Loads the list of countries linking their name to their country code."
   ]
  },
  {
   "cell_type": "code",
   "execution_count": 1,
   "metadata": {},
   "outputs": [],
   "source": [
    "from bs4 import BeautifulSoup\n"
   ]
  },
  {
   "cell_type": "markdown",
   "metadata": {},
   "source": [
    "## Osu page"
   ]
  },
  {
   "cell_type": "code",
   "execution_count": 2,
   "metadata": {},
   "outputs": [],
   "source": [
    "url = \"https://osu.ppy.sh/rankings/osu/performance\"\n"
   ]
  },
  {
   "cell_type": "markdown",
   "metadata": {},
   "source": [
    "## install Selenium Driver in project"
   ]
  },
  {
   "cell_type": "code",
   "execution_count": 18,
   "metadata": {},
   "outputs": [],
   "source": [
    "from playwright.async_api import async_playwright\n",
    "\n",
    "async def main():\n",
    "    playwright = await async_playwright().start()\n",
    "    browser = await playwright.chromium.launch(headless = False)\n",
    "    page = await browser.new_page()\n",
    "    await page.goto(url)\n",
    "    await page.wait_for_timeout(1000)\n",
    "    htmlContent = await page.content()\n",
    "    with open('out/osu_ranking.html', 'w', encoding='utf-8') as file:\n",
    "        file.write(htmlContent)\n",
    "\n",
    "    await browser.close()\n",
    "\n",
    "await main()"
   ]
  },
  {
   "cell_type": "code",
   "execution_count": 15,
   "metadata": {},
   "outputs": [
    {
     "ename": "NameError",
     "evalue": "name 'parsed' is not defined",
     "output_type": "error",
     "traceback": [
      "\u001b[1;31m---------------------------------------------------------------------------\u001b[0m",
      "\u001b[1;31mNameError\u001b[0m                                 Traceback (most recent call last)",
      "\u001b[1;32mc:\\Users\\Cavi\\OneDrive - Universidad de Castilla-La Mancha\\Juegos\\Osu\\Subdivision Flags\\dataFetcher\\translations\\osuCountryCode.ipynb Cell 7\u001b[0m line \u001b[0;36m1\n\u001b[1;32m----> <a href='vscode-notebook-cell:/c%3A/Users/Cavi/OneDrive%20-%20Universidad%20de%20Castilla-La%20Mancha/Juegos/Osu/Subdivision%20Flags/dataFetcher/translations/osuCountryCode.ipynb#X20sZmlsZQ%3D%3D?line=0'>1</a>\u001b[0m \u001b[39mprint\u001b[39m(parsed)\n",
      "\u001b[1;31mNameError\u001b[0m: name 'parsed' is not defined"
     ]
    }
   ],
   "source": [
    "print(parsed)"
   ]
  },
  {
   "cell_type": "code",
   "execution_count": null,
   "metadata": {},
   "outputs": [
    {
     "name": "stdout",
     "output_type": "stream",
     "text": [
      "<div class=\"select-options select-options--ranking\">\n",
      "<div class=\"select-options__select\">\n",
      "<div class=\"select-options__option\">All</div>\n",
      "</div>\n",
      "</div>\n"
     ]
    }
   ],
   "source": [
    "content = parsed.find(class_ = \"select-options\")\n",
    "\n",
    "print(content)"
   ]
  }
 ],
 "metadata": {
  "kernelspec": {
   "display_name": "base",
   "language": "python",
   "name": "python3"
  },
  "language_info": {
   "codemirror_mode": {
    "name": "ipython",
    "version": 3
   },
   "file_extension": ".py",
   "mimetype": "text/x-python",
   "name": "python",
   "nbconvert_exporter": "python",
   "pygments_lexer": "ipython3",
   "version": "3.10.13"
  },
  "orig_nbformat": 4
 },
 "nbformat": 4,
 "nbformat_minor": 2
}
