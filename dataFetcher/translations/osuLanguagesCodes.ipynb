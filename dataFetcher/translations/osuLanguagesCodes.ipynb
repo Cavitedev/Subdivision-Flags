{
 "cells": [
  {
   "cell_type": "markdown",
   "metadata": {},
   "source": [
    "# Map with languages codes from their names"
   ]
  },
  {
   "cell_type": "code",
   "execution_count": 1,
   "metadata": {},
   "outputs": [],
   "source": [
    "from bs4 import BeautifulSoup\n",
    "from bs4 import Tag\n",
    "import json\n",
    "import requests\n",
    "from urllib.parse import urlparse, parse_qs\n"
   ]
  },
  {
   "cell_type": "code",
   "execution_count": 2,
   "metadata": {},
   "outputs": [],
   "source": [
    "def fetchData(api_url):\n",
    "    try:\n",
    "        response = requests.get(api_url)\n",
    "\n",
    "        if response.status_code == 200:\n",
    "\n",
    "            data = response.json()\n",
    "            return data\n",
    "        else:\n",
    "            print(f\"Request failed with status code: {response.status_code}\")\n",
    "    except requests.exceptions.RequestException as e:\n",
    "        print(\"An error occurred:\", e)\n"
   ]
  },
  {
   "cell_type": "code",
   "execution_count": 3,
   "metadata": {},
   "outputs": [],
   "source": [
    "def parseUrl(url):\n",
    "    response = requests.get(url)\n",
    "\n",
    "    if response.status_code == 200:\n",
    "        soup = BeautifulSoup(response.content, \"html.parser\")\n",
    "        return soup\n",
    "\n",
    "    else:\n",
    "        print(\"Failed to fetch the webpage\")\n"
   ]
  },
  {
   "cell_type": "code",
   "execution_count": 4,
   "metadata": {},
   "outputs": [],
   "source": [
    "url = \"https://osu.ppy.sh/home\"\n"
   ]
  },
  {
   "cell_type": "code",
   "execution_count": 5,
   "metadata": {},
   "outputs": [],
   "source": [
    "parsed = parseUrl(url)"
   ]
  },
  {
   "cell_type": "code",
   "execution_count": 6,
   "metadata": {},
   "outputs": [],
   "source": [
    "locales = parsed.select(\"ul[data-click-menu-id='nav-mobile-locale']\")[0]\n"
   ]
  },
  {
   "cell_type": "code",
   "execution_count": 7,
   "metadata": {},
   "outputs": [],
   "source": [
    "nameToCode = {}\n",
    "\n",
    "for liElement in locales:\n",
    "    if not isinstance(liElement, Tag):\n",
    "        continue\n",
    "    href = liElement.select(\"a\")[0][\"href\"]\n",
    "    parsed_url = urlparse(href)\n",
    "    query_params = parse_qs(parsed_url.query)\n",
    "    locale_value = query_params.get(\"locale\", [\"\"])[0]\n",
    "\n",
    "    name = liElement.select(\"a\")[0].text.strip()\n",
    "    nameToCode[name] = locale_value\n",
    "\n"
   ]
  },
  {
   "cell_type": "code",
   "execution_count": 8,
   "metadata": {},
   "outputs": [
    {
     "name": "stdout",
     "output_type": "stream",
     "text": [
      "JSON data has been saved to out/nameToLanguage.json\n"
     ]
    }
   ],
   "source": [
    "json_data = json.dumps(\n",
    "    nameToCode, indent=4, ensure_ascii=False).encode('utf8').decode()\n",
    "filePath = \"out/nameToLanguage.json\"\n",
    "with open(filePath, \"w\") as json_file:\n",
    "    json_file.write(json_data)\n",
    "\n",
    "print(\"JSON data has been saved to\", filePath)"
   ]
  }
 ],
 "metadata": {
  "kernelspec": {
   "display_name": "base",
   "language": "python",
   "name": "python3"
  },
  "language_info": {
   "codemirror_mode": {
    "name": "ipython",
    "version": 3
   },
   "file_extension": ".py",
   "mimetype": "text/x-python",
   "name": "python",
   "nbconvert_exporter": "python",
   "pygments_lexer": "ipython3",
   "version": "3.10.13"
  }
 },
 "nbformat": 4,
 "nbformat_minor": 2
}
