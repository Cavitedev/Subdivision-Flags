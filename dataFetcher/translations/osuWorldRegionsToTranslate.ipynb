{
 "cells": [
  {
   "cell_type": "markdown",
   "metadata": {},
   "source": [
    "# OsuWorld countries to add translations for\n",
    "This gets what should be added to the messages so that the region names are translated"
   ]
  },
  {
   "cell_type": "code",
   "execution_count": 1,
   "metadata": {},
   "outputs": [],
   "source": [
    "import requests\n",
    "from bs4 import BeautifulSoup\n",
    "import json\n"
   ]
  },
  {
   "cell_type": "code",
   "execution_count": 2,
   "metadata": {},
   "outputs": [],
   "source": [
    "def fetchData(api_url):\n",
    "    try:\n",
    "        response = requests.get(api_url)\n",
    "\n",
    "        if response.status_code == 200:\n",
    "\n",
    "            data = response.json()\n",
    "            return data\n",
    "        else:\n",
    "            print(f\"Request failed with status code: {response.status_code}\")\n",
    "    except requests.exceptions.RequestException as e:\n",
    "        print(\"An error occurred:\", e)\n"
   ]
  },
  {
   "cell_type": "code",
   "execution_count": 3,
   "metadata": {},
   "outputs": [],
   "source": [
    "countries: dict = fetchData(\"https://osuworld.octo.moe/locales/en/countries.json\")"
   ]
  },
  {
   "cell_type": "code",
   "execution_count": 9,
   "metadata": {},
   "outputs": [],
   "source": [
    "reformatted_countries = {}\n",
    "for code in countries:\n",
    "    country = countries[code]\n",
    "    msg = {\n",
    "        \"message\": \"Region x\",\n",
    "        \"description\": f\"{country} region name by osuworld subdivisions\" \n",
    "    }\n",
    "    reformatted_countries[f\"region_{code.lower()}\"] = msg"
   ]
  },
  {
   "cell_type": "code",
   "execution_count": 11,
   "metadata": {},
   "outputs": [
    {
     "name": "stdout",
     "output_type": "stream",
     "text": [
      "JSON data has been saved to out/addedKeysOsuWorld.json\n"
     ]
    }
   ],
   "source": [
    "json_data = json.dumps(\n",
    "    reformatted_countries, indent=4, ensure_ascii=False).encode('utf8').decode()\n",
    "filePath = \"out/addedKeysOsuWorld.json\"\n",
    "with open(filePath, \"w\") as json_file:\n",
    "    json_file.write(json_data)\n",
    "\n",
    "print(\"JSON data has been saved to\", filePath)"
   ]
  },
  {
   "cell_type": "code",
   "execution_count": 10,
   "metadata": {},
   "outputs": [
    {
     "data": {
      "text/plain": [
       "{'region_ru': {'message': 'Region x',\n",
       "  'description': 'Russia region name by osuworld subdivisions'},\n",
       " 'region_ar': {'message': 'Region x',\n",
       "  'description': 'Argentina region name by osuworld subdivisions'},\n",
       " 'region_at': {'message': 'Region x',\n",
       "  'description': 'Austria region name by osuworld subdivisions'},\n",
       " 'region_au': {'message': 'Region x',\n",
       "  'description': 'Australia region name by osuworld subdivisions'},\n",
       " 'region_be': {'message': 'Region x',\n",
       "  'description': 'Belgium region name by osuworld subdivisions'},\n",
       " 'region_br': {'message': 'Region x',\n",
       "  'description': 'Brazil region name by osuworld subdivisions'},\n",
       " 'region_by': {'message': 'Region x',\n",
       "  'description': 'Belarus region name by osuworld subdivisions'},\n",
       " 'region_ca': {'message': 'Region x',\n",
       "  'description': 'Canada region name by osuworld subdivisions'},\n",
       " 'region_cl': {'message': 'Region x',\n",
       "  'description': 'Chile region name by osuworld subdivisions'},\n",
       " 'region_cn': {'message': 'Region x',\n",
       "  'description': 'China region name by osuworld subdivisions'},\n",
       " 'region_co': {'message': 'Region x',\n",
       "  'description': 'Colombia region name by osuworld subdivisions'},\n",
       " 'region_cz': {'message': 'Region x',\n",
       "  'description': 'Czechia region name by osuworld subdivisions'},\n",
       " 'region_de': {'message': 'Region x',\n",
       "  'description': 'Germany region name by osuworld subdivisions'},\n",
       " 'region_es': {'message': 'Region x',\n",
       "  'description': 'Spain region name by osuworld subdivisions'},\n",
       " 'region_fi': {'message': 'Region x',\n",
       "  'description': 'Finland region name by osuworld subdivisions'},\n",
       " 'region_fr': {'message': 'Region x',\n",
       "  'description': 'France region name by osuworld subdivisions'},\n",
       " 'region_hu': {'message': 'Region x',\n",
       "  'description': 'Hungary region name by osuworld subdivisions'},\n",
       " 'region_id': {'message': 'Region x',\n",
       "  'description': 'Indonesia region name by osuworld subdivisions'},\n",
       " 'region_it': {'message': 'Region x',\n",
       "  'description': 'Italy region name by osuworld subdivisions'},\n",
       " 'region_jp': {'message': 'Region x',\n",
       "  'description': 'Japan region name by osuworld subdivisions'},\n",
       " 'region_kr': {'message': 'Region x',\n",
       "  'description': 'South Korea region name by osuworld subdivisions'},\n",
       " 'region_kz': {'message': 'Region x',\n",
       "  'description': 'Kazakhstan region name by osuworld subdivisions'},\n",
       " 'region_lv': {'message': 'Region x',\n",
       "  'description': 'Latvia region name by osuworld subdivisions'},\n",
       " 'region_mx': {'message': 'Region x',\n",
       "  'description': 'Mexico region name by osuworld subdivisions'},\n",
       " 'region_my': {'message': 'Region x',\n",
       "  'description': 'Malaysia region name by osuworld subdivisions'},\n",
       " 'region_nl': {'message': 'Region x',\n",
       "  'description': 'Netherlands region name by osuworld subdivisions'},\n",
       " 'region_no': {'message': 'Region x',\n",
       "  'description': 'Norway region name by osuworld subdivisions'},\n",
       " 'region_pe': {'message': 'Region x',\n",
       "  'description': 'Peru region name by osuworld subdivisions'},\n",
       " 'region_ph': {'message': 'Region x',\n",
       "  'description': 'Philippines region name by osuworld subdivisions'},\n",
       " 'region_pl': {'message': 'Region x',\n",
       "  'description': 'Poland region name by osuworld subdivisions'},\n",
       " 'region_pt': {'message': 'Region x',\n",
       "  'description': 'Portugal region name by osuworld subdivisions'},\n",
       " 'region_ro': {'message': 'Region x',\n",
       "  'description': 'Romania region name by osuworld subdivisions'},\n",
       " 'region_se': {'message': 'Region x',\n",
       "  'description': 'Sweden region name by osuworld subdivisions'},\n",
       " 'region_sg': {'message': 'Region x',\n",
       "  'description': 'Singapore region name by osuworld subdivisions'},\n",
       " 'region_th': {'message': 'Region x',\n",
       "  'description': 'Thailand region name by osuworld subdivisions'},\n",
       " 'region_tr': {'message': 'Region x',\n",
       "  'description': 'Turkey region name by osuworld subdivisions'},\n",
       " 'region_tw': {'message': 'Region x',\n",
       "  'description': 'Taiwan region name by osuworld subdivisions'},\n",
       " 'region_ua': {'message': 'Region x',\n",
       "  'description': 'Ukraine region name by osuworld subdivisions'},\n",
       " 'region_us': {'message': 'Region x',\n",
       "  'description': 'United States of America region name by osuworld subdivisions'},\n",
       " 'region_vn': {'message': 'Region x',\n",
       "  'description': 'Vietnam region name by osuworld subdivisions'}}"
      ]
     },
     "execution_count": 10,
     "metadata": {},
     "output_type": "execute_result"
    }
   ],
   "source": [
    "reformatted_countries"
   ]
  }
 ],
 "metadata": {
  "kernelspec": {
   "display_name": "base",
   "language": "python",
   "name": "python3"
  },
  "language_info": {
   "codemirror_mode": {
    "name": "ipython",
    "version": 3
   },
   "file_extension": ".py",
   "mimetype": "text/x-python",
   "name": "python",
   "nbconvert_exporter": "python",
   "pygments_lexer": "ipython3",
   "version": "3.10.13"
  }
 },
 "nbformat": 4,
 "nbformat_minor": 2
}
