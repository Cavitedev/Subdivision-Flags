{
    "cells": [
        {
            "cell_type": "markdown",
            "metadata": {},
            "source": [
                "# Data fetcher for flags\n",
                "\n",
                "Gets data from different places and combines/saves them in a single file. In order to support OsuWorld"
            ]
        },
        {
            "cell_type": "code",
            "execution_count": 2,
            "metadata": {},
            "outputs": [],
            "source": [
                "import requests\n",
                "from bs4 import BeautifulSoup\n",
                "import json\n",
                "import copy\n",
                "import urllib"
            ]
        },
        {
            "cell_type": "code",
            "execution_count": 3,
            "metadata": {},
            "outputs": [],
            "source": [
                "def fetchData(api_url):\n",
                "    try:\n",
                "        response = requests.get(api_url)\n",
                "\n",
                "        if response.status_code == 200:\n",
                "\n",
                "            data = response.json()\n",
                "            return data\n",
                "        else:\n",
                "            print(f\"Request failed with status code: {response.status_code}\")\n",
                "    except requests.exceptions.RequestException as e:\n",
                "        print(\"An error occurred:\", e)\n"
            ]
        },
        {
            "cell_type": "markdown",
            "metadata": {},
            "source": [
                "# Wikimedia flags Fetcher\n",
                "\n",
                "Retrieves the flags from: https://commons.wikimedia.org/wiki/Flags_of_country_subdivisions\n"
            ]
        },
        {
            "cell_type": "code",
            "execution_count": 4,
            "metadata": {},
            "outputs": [],
            "source": [
                "url = \"https://commons.wikimedia.org/wiki/Flags_of_country_subdivisions\"\n"
            ]
        },
        {
            "cell_type": "code",
            "execution_count": 5,
            "metadata": {},
            "outputs": [],
            "source": [
                "\n",
                "def parseUrl(url):\n",
                "    response = requests.get(url)\n",
                "\n",
                "    if response.status_code == 200:\n",
                "        soup = BeautifulSoup(response.content, \"html.parser\")\n",
                "        return soup\n",
                "\n",
                "    else:\n",
                "        print(\"Failed to fetch the webpage\")\n"
            ]
        },
        {
            "cell_type": "code",
            "execution_count": 21,
            "metadata": {},
            "outputs": [],
            "source": [
                "parsed = parseUrl(url)\n"
            ]
        },
        {
            "cell_type": "code",
            "execution_count": 22,
            "metadata": {},
            "outputs": [],
            "source": [
                "\n",
                "\n",
                "content = parsed.find(id=\"mw-content-text\").find(\"div\")\n",
                "\n",
                "flagsRaw = {\n",
                "\n",
                "}\n",
                "country = \"\"\n",
                "for element in content.children:\n",
                "    if element.name == \"div\" and element.has_attr(\"class\") and \"mw-heading2\" in element.attrs[\"class\"]:\n",
                "        element = element.contents[0] if element.contents else None\n",
                "        if element is None:\n",
                "            continue\n",
                "        if element.name == \"h2\":\n",
                "            titleText = element.text\n",
                "            if titleText == \"\" or titleText == \"See also\":\n",
                "                continue\n",
                "            country = titleText\n",
                "            if country in flagsRaw:\n",
                "                continue\n",
                "            flagsRaw[country] =  []\n",
                "\n",
                "    elif element.name == \"table\":\n",
                "        if country == \"\":\n",
                "            continue\n",
                "        flagsAnchor = element.findAll(class_=\"mw-file-description\")\n",
                "        for flagAnchor in flagsAnchor:\n",
                "            name = flagAnchor.attrs['title']\n",
                "            flagImg = flagAnchor.find(class_=\"mw-file-element\")\n",
                "            flagRaw = flagImg.attrs['src']\n",
                "            flag: str = flagRaw.replace(\"thumb/\", \"\")\n",
                "\n",
                "            matchEnd = \".svg\"\n",
                "            svgIndex = flag.find(matchEnd)\n",
                "            if svgIndex == -1:\n",
                "                flag = flagRaw\n",
                "            else:\n",
                "                flag = flag[:svgIndex+len(matchEnd)]\n",
                "\n",
                "            flag = {\n",
                "                \"name\": name,\n",
                "                \"flag\": flag,\n",
                "                \"flagRaw\": flagRaw\n",
                "            }\n",
                "\n",
                "            flagsRaw[country].append(flag)\n"
            ]
        },
        {
            "cell_type": "markdown",
            "metadata": {},
            "source": [
                "## Check the svg links status\n"
            ]
        },
        {
            "cell_type": "code",
            "execution_count": 23,
            "metadata": {},
            "outputs": [
                {
                    "name": "stdout",
                    "output_type": "stream",
                    "text": [
                        "JSON data has been saved to out/flags_raw.json\n"
                    ]
                }
            ],
            "source": [
                "json_data = json.dumps(flagsRaw, indent=4, ensure_ascii=False).encode('utf8').decode()\n",
                "flagsRaw = \"out/flags_raw.json\"\n",
                "with open(flagsRaw, \"w\") as json_file:\n",
                "    json_file.write(json_data)\n",
                "\n",
                "print(\"JSON data has been saved to\", flagsRaw)\n"
            ]
        },
        {
            "cell_type": "code",
            "execution_count": 24,
            "metadata": {},
            "outputs": [],
            "source": [
                "flagsRawPath = \"out/flags_raw.json\"\n",
                "\n",
                "with open(flagsRawPath, \"r\", encoding=\"utf-8\") as json_file:\n",
                "    flagsRaw = json.load(json_file)\n"
            ]
        },
        {
            "cell_type": "markdown",
            "metadata": {},
            "source": [
                "## Remove heavy links"
            ]
        },
        {
            "cell_type": "markdown",
            "metadata": {},
            "source": [
                "### Undo previous png optimization"
            ]
        },
        {
            "cell_type": "code",
            "execution_count": 25,
            "metadata": {},
            "outputs": [],
            "source": [
                "for country in flagsRaw.values():\n",
                "    for flagData in country:\n",
                "        flag: str = flagData[\"flag\"]\n",
                "        if \"upload.wikimedia.org\" not in flag:\n",
                "            continue\n",
                "\n",
                "        textToMatch = \".svg\"\n",
                "        constainsSvg = flag.find(textToMatch)\n",
                "        if constainsSvg != -1:\n",
                "            flagData[\"flag\"] = flag[:constainsSvg + len(textToMatch)]\n"
            ]
        },
        {
            "cell_type": "code",
            "execution_count": 26,
            "metadata": {},
            "outputs": [],
            "source": [
                "import requests\n",
                "\n",
                "image_url = \"https://upload.wikimedia.org/wikipedia/commons/4/43/Flag_of_Southwest_Papua.svg\"\n",
                "headers = {\n",
                "    \"User-Agent\": \"Mozilla/5.0 (Windows NT 10.0; Win64; x64) AppleWebKit/537.36 (KHTML, like Gecko) Chrome/58.0.3029.110 Safari/537.36\"}\n",
                "\n",
                "\n",
                "def urlContentSize(url):\n",
                "    response = requests.get(url, headers=headers)\n",
                "\n",
                "    if response.status_code == 200:\n",
                "        file_size_bytes = len(response.content)\n",
                "        return file_size_bytes / 1024\n",
                "    else:\n",
                "        print(\n",
                "            f\"Failed to fetch the image. Status code: {response.status_code}\")\n"
            ]
        },
        {
            "cell_type": "code",
            "execution_count": 27,
            "metadata": {},
            "outputs": [
                {
                    "name": "stdout",
                    "output_type": "stream",
                    "text": [
                        "Flag: https://upload.wikimedia.org/wikipedia/commons/4/41/Bandera_de_Escaldes-Engordany.svg Size: 103.40234375 KB\n",
                        "Flag: https://upload.wikimedia.org/wikipedia/commons/b/b9/Flag_of_La_Massana.svg Size: 542.236328125 KB\n",
                        "Flag: https://upload.wikimedia.org/wikipedia/commons/5/5e/Flag_of_Ordino.svg Size: 142.2041015625 KB\n",
                        "Flag: https://upload.wikimedia.org/wikipedia/commons/0/02/Bandera_de_San_Juli%C3%A1n_de_Loria.svg Size: 147.54296875 KB\n",
                        "Flag: https://upload.wikimedia.org/wikipedia/commons/f/f5/Bandera_de_la_Ciudad_de_Buenos_Aires.svg Size: 294.55078125 KB\n",
                        "Flag: https://upload.wikimedia.org/wikipedia/commons/4/46/Bandera_de_la_Provincia_de_Corrientes.svg Size: 106.1279296875 KB\n",
                        "Flag: https://upload.wikimedia.org/wikipedia/commons/8/81/Bandera_de_la_Provincia_de_La_Pampa.svg Size: 759.7802734375 KB\n",
                        "Flag: https://upload.wikimedia.org/wikipedia/commons/7/7c/Bandera_de_la_Provincia_de_Mendoza.svg Size: 416.2109375 KB\n",
                        "Flag: https://upload.wikimedia.org/wikipedia/commons/0/0e/Bandera_de_la_Provincia_de_San_Luis.svg Size: 148.291015625 KB\n",
                        "Flag: https://upload.wikimedia.org/wikipedia/commons/9/95/Flag_of_Burgenland_%28state%29.svg Size: 413.7275390625 KB\n",
                        "Flag: https://upload.wikimedia.org/wikipedia/commons/5/57/Flag_of_Styria_%28state%29.svg Size: 120.169921875 KB\n",
                        "Flag: https://upload.wikimedia.org/wikipedia/commons/b/bb/Bahrain_Capital_Governorate_Flag.svg Size: 197.076171875 KB\n",
                        "Flag: https://upload.wikimedia.org/wikipedia/commons/4/49/Flag_of_Homyel_Voblast.svg Size: 393.1953125 KB\n",
                        "Flag: https://upload.wikimedia.org/wikipedia/commons/2/2e/Flag_of_Minsk_Voblast.svg Size: 283.3291015625 KB\n",
                        "Flag: https://upload.wikimedia.org/wikipedia/commons/8/88/Bandeira_de_Alagoas.svg Size: 265.8642578125 KB\n",
                        "Flag: https://upload.wikimedia.org/wikipedia/commons/9/93/Bandeira_do_Paran%C3%A1.svg Size: 550.365234375 KB\n",
                        "Flag: https://upload.wikimedia.org/wikipedia/commons/7/73/Bandeira_do_estado_do_Rio_de_Janeiro.svg Size: 343.474609375 KB\n",
                        "Flag: https://upload.wikimedia.org/wikipedia/commons/3/30/Bandeira_do_Rio_Grande_do_Norte.svg Size: 109.6611328125 KB\n",
                        "Flag: https://upload.wikimedia.org/wikipedia/commons/6/63/Bandeira_do_Rio_Grande_do_Sul.svg Size: 203.27734375 KB\n",
                        "Flag: https://upload.wikimedia.org/wikipedia/commons/d/d7/Flag_of_Prince_Edward_Island.svg Size: 737.7099609375 KB\n",
                        "Flag: https://upload.wikimedia.org/wikipedia/commons/c/cc/Flag_of_Antofagasta_Region%2C_Chile.svg Size: 103.4599609375 KB\n",
                        "Flag: https://upload.wikimedia.org/wikipedia/commons/f/fd/Flag_of_La_Araucan%C3%ADa_Region.svg Size: 2321.990234375 KB\n",
                        "Flag: https://upload.wikimedia.org/wikipedia/commons/c/cd/Flag_of_Biob%C3%ADo_Region%2C_Chile.svg Size: 409.3408203125 KB\n",
                        "Flag: https://upload.wikimedia.org/wikipedia/commons/3/30/Flag_of_%C3%91uble_Region%2C_Chile.svg Size: 150.41015625 KB\n",
                        "Flag: https://upload.wikimedia.org/wikipedia/commons/8/87/Flag_of_Tarapaca%2C_Chile.svg Size: 136.201171875 KB\n",
                        "Flag: https://upload.wikimedia.org/wikipedia/commons/5/50/Flag_of_Valparaiso_Region%2C_Chile.svg Size: 127.1337890625 KB\n",
                        "Flag: https://upload.wikimedia.org/wikipedia/commons/6/65/Flag_of_Cundinamarca.svg Size: 141.3740234375 KB\n",
                        "Flag: https://upload.wikimedia.org/wikipedia/commons/9/9b/Flag_of_Guaviare.svg Size: 231.962890625 KB\n",
                        "Flag: https://upload.wikimedia.org/wikipedia/commons/3/39/Flag_of_Sucre_%28Colombia%29.svg Size: 286.935546875 KB\n",
                        "Flag: https://upload.wikimedia.org/wikipedia/commons/9/91/Bandera_de_la_Provincia_de_Alajuela.svg Size: 139.9892578125 KB\n",
                        "Flag: https://upload.wikimedia.org/wikipedia/commons/3/35/Bandera_de_la_Provincia_de_Heredia.svg Size: 950.666015625 KB\n",
                        "Flag: https://upload.wikimedia.org/wikipedia/commons/0/06/Flag_of_Central_Bohemian_Region.svg Size: 215.8447265625 KB\n",
                        "Flag: https://upload.wikimedia.org/wikipedia/commons/b/bc/Flag_of_Hradec_Kralove_Region.svg Size: 296.390625 KB\n",
                        "Flag: https://upload.wikimedia.org/wikipedia/commons/0/0b/Flag_of_Karlovy_Vary_Region.svg Size: 134.62109375 KB\n",
                        "Flag: https://upload.wikimedia.org/wikipedia/commons/4/45/Flag_of_Liberec_Region.svg Size: 234.8310546875 KB\n",
                        "Flag: https://upload.wikimedia.org/wikipedia/commons/f/f3/Flag_of_Moravian-Silesian_Region.svg Size: 182.2724609375 KB\n",
                        "Flag: https://upload.wikimedia.org/wikipedia/commons/c/c7/Flag_of_Pardubice_Region.svg Size: 294.52734375 KB\n",
                        "Flag: https://upload.wikimedia.org/wikipedia/commons/4/4b/Flag_of_Plzen_Region.svg Size: 177.0791015625 KB\n",
                        "Flag: https://upload.wikimedia.org/wikipedia/commons/f/f7/Flag_of_South_Bohemian_Region.svg Size: 165.423828125 KB\n",
                        "Flag: https://upload.wikimedia.org/wikipedia/commons/d/d7/Flag_of_South_Moravian_Region.svg Size: 125.91796875 KB\n",
                        "Flag: https://upload.wikimedia.org/wikipedia/commons/1/13/Flag_of_Usti_nad_Labem_Region.svg Size: 530.8564453125 KB\n",
                        "Flag: https://upload.wikimedia.org/wikipedia/commons/1/14/Flag_of_Vysocina_Region.svg Size: 210.341796875 KB\n",
                        "Flag: https://upload.wikimedia.org/wikipedia/commons/d/d8/Bandera_de_San_Salvador_%282021%29.svg Size: 171.45703125 KB\n",
                        "Flag: https://upload.wikimedia.org/wikipedia/commons/d/d9/Bandera_de_Santa_Ana%2C_El_Salvador.svg Size: 1098.4599609375 KB\n",
                        "Flag: https://upload.wikimedia.org/wikipedia/commons/2/28/Flag_of_the_region_Bourgogne-Franche-Comt%C3%A9.svg Size: 107.5009765625 KB\n",
                        "Flag: https://upload.wikimedia.org/wikipedia/commons/7/74/Flag_of_Saint-Pierre_and_Miquelon.svg Size: 103.53125 KB\n",
                        "Flag: https://upload.wikimedia.org/wikipedia/commons/f/f7/Flag_of_Saarland.svg Size: 187.294921875 KB\n",
                        "Flag: https://upload.wikimedia.org/wikipedia/commons/7/76/Heiliges_R%C3%B6misches_Reich_-_Reichssturmfahne_vor_1433_%28Nimbierter_Adler%29.svg Size: 111.603515625 KB\n",
                        "Flag: https://upload.wikimedia.org/wikipedia/commons/b/b7/Banner_of_the_Holy_Roman_Emperor_with_Arms_%281437-1493%29.svg Size: 174.5693359375 KB\n",
                        "Flag: https://upload.wikimedia.org/wikipedia/commons/4/4f/Banner_of_the_Holy_Roman_Emperor_with_Arms_%281493-1556%29.svg Size: 178.322265625 KB\n",
                        "Flag: https://upload.wikimedia.org/wikipedia/commons/d/dc/Banner_of_Charles_V_as_Holy_Roman_Emperor.svg Size: 1091.0927734375 KB\n",
                        "Flag: https://upload.wikimedia.org/wikipedia/commons/1/10/Flag_of_the_German_Confederation_%28war%29.svg Size: 176.5556640625 KB\n",
                        "Flag: https://upload.wikimedia.org/wikipedia/commons/1/10/Flag_of_the_German_Confederation_%28war%29.svg Size: 176.5556640625 KB\n",
                        "Flag: https://upload.wikimedia.org/wikipedia/commons/c/c9/War_Ensign_of_Germany_%281903%E2%80%931919%29.svg Size: 323.0185546875 KB\n",
                        "Flag: https://upload.wikimedia.org/wikipedia/commons/6/66/Standarte_f%C3%BCr_die_Leibstandarte_SS_Adolf_Hitler_1940.svg Size: 4257.744140625 KB\n",
                        "Flag: https://upload.wikimedia.org/wikipedia/commons/0/02/Standarte_des_F%C3%BChrerbegleitbataillons_1939.svg Size: 1898.8974609375 KB\n",
                        "Flag: https://upload.wikimedia.org/wikipedia/commons/e/ef/Flag_of_Ducal_Prussia.svg Size: 433.4794921875 KB\n",
                        "Flag: https://upload.wikimedia.org/wikipedia/commons/5/55/Flag_of_the_Kingdom_of_Prussia_%281701-1750%29.svg Size: 314.7705078125 KB\n",
                        "Flag: https://upload.wikimedia.org/wikipedia/commons/9/95/Flag_of_the_Kingdom_of_Prussia_%281750-1801%29.svg Size: 255.2861328125 KB\n",
                        "Flag: https://upload.wikimedia.org/wikipedia/commons/5/5c/Flag_of_the_Kingdom_of_Prussia_%281801-1803%29.svg Size: 386.5224609375 KB\n",
                        "Flag: https://upload.wikimedia.org/wikipedia/commons/c/c1/Flag_of_the_Kingdom_of_Prussia_%281803-1892%29.svg Size: 386.5224609375 KB\n",
                        "Flag: https://upload.wikimedia.org/wikipedia/commons/c/ca/War_Ensign_of_Prussia_%281816%29.svg Size: 372.392578125 KB\n",
                        "Flag: https://upload.wikimedia.org/wikipedia/commons/7/7b/Royal_Standard_of_the_King_of_Prussia_%281871%E2%80%931918%29.svg Size: 20604.52734375 KB\n",
                        "Flag: https://upload.wikimedia.org/wikipedia/commons/1/1d/Royal_Standard_of_the_Crown_Prince_of_Prussia_%281871%E2%80%931892%29.svg Size: 20604.8017578125 KB\n",
                        "Flag: https://upload.wikimedia.org/wikipedia/commons/5/5b/Flag_of_Prussia_%281892-1918%29.svg Size: 591.4755859375 KB\n",
                        "Flag: https://upload.wikimedia.org/wikipedia/commons/1/19/Flag_of_Prussia_%281918%E2%80%931933%29.svg Size: 100.126953125 KB\n",
                        "Flag: https://upload.wikimedia.org/wikipedia/commons/8/80/Bandera_Totonicap%C3%A1n.svg Size: 131.5986328125 KB\n",
                        "Flag: https://upload.wikimedia.org/wikipedia/commons/8/88/Flag_of_Tegucigalpa.svg Size: 631.318359375 KB\n",
                        "Flag: https://upload.wikimedia.org/wikipedia/commons/c/cf/Flag_of_Baranya_County.svg Size: 291.5791015625 KB\n",
                        "Flag: https://upload.wikimedia.org/wikipedia/commons/0/0a/Flag_of_B%C3%A9k%C3%A9s_megye.svg Size: 341.2451171875 KB\n",
                        "Flag: https://upload.wikimedia.org/wikipedia/commons/9/9b/FLAG-Borsod-Aba%C3%BAj-Zempl%C3%A9n-megye.svg Size: 529.92578125 KB\n",
                        "Flag: https://upload.wikimedia.org/wikipedia/commons/3/3d/Flag_of_Csongrad-Csanad_megye.svg Size: 1549.0673828125 KB\n",
                        "Flag: https://upload.wikimedia.org/wikipedia/commons/7/75/FLAG-Fej%C3%A9r-megye.svg Size: 640.6875 KB\n",
                        "Flag: https://upload.wikimedia.org/wikipedia/commons/5/51/FLAG-Gyor-Moson-Sopron-megye.svg Size: 318.0810546875 KB\n",
                        "Flag: https://upload.wikimedia.org/wikipedia/commons/c/c3/FLAG-Hajd%C3%BA-Bihar-megye.svg Size: 1750.41015625 KB\n",
                        "Flag: https://upload.wikimedia.org/wikipedia/commons/b/b7/FLAG-Heves-megye.svg Size: 239.705078125 KB\n",
                        "Flag: https://upload.wikimedia.org/wikipedia/commons/f/f4/FLAG-Jasz-Nagykun-Szolnok.svg Size: 464.62109375 KB\n",
                        "Flag: https://upload.wikimedia.org/wikipedia/commons/7/7a/FLAG-Kom%C3%A1rom-Esztergom-megye.svg Size: 462.763671875 KB\n",
                        "Flag: https://upload.wikimedia.org/wikipedia/commons/8/87/FLAG-Nograd.svg Size: 561.7958984375 KB\n",
                        "Flag: https://upload.wikimedia.org/wikipedia/commons/6/65/FLAG-Pest-megye.svg Size: 420.2119140625 KB\n",
                        "Flag: https://upload.wikimedia.org/wikipedia/commons/f/ff/FLAG-Somogy-megye.svg Size: 1117.146484375 KB\n",
                        "Flag: https://upload.wikimedia.org/wikipedia/commons/d/d8/Flag-Szabolcs-Szatmar-Bereg-megye.svg Size: 727.6298828125 KB\n",
                        "Flag: https://upload.wikimedia.org/wikipedia/commons/d/d2/FLAG-Tolna-megye.svg Size: 2391.4970703125 KB\n",
                        "Flag: https://upload.wikimedia.org/wikipedia/commons/f/f4/FLAG-Vas-megye.svg Size: 490.19921875 KB\n",
                        "Flag: https://upload.wikimedia.org/wikipedia/commons/6/63/FLAG-Veszpr%C3%A9m-megye.svg Size: 401.7822265625 KB\n",
                        "Flag: https://upload.wikimedia.org/wikipedia/commons/d/d9/FLAG-Zala-megye.svg Size: 474.927734375 KB\n",
                        "Flag: https://upload.wikimedia.org/wikipedia/commons/d/d5/Flag_of_Budapest_%282011-%29.svg Size: 2271.6494140625 KB\n",
                        "Flag: https://upload.wikimedia.org/wikipedia/commons/3/36/Flag_of_Aceh%2C_Indonesia.svg Size: 153.779296875 KB\n",
                        "Flag: https://upload.wikimedia.org/wikipedia/commons/a/a3/Flag_of_Bali.svg Size: 179.3427734375 KB\n",
                        "Flag: https://upload.wikimedia.org/wikipedia/commons/1/1d/Flag_of_Bangka-Belitung.svg Size: 144.2724609375 KB\n",
                        "Flag: https://upload.wikimedia.org/wikipedia/commons/e/ec/Flag_of_Bengkulu.svg Size: 107.8740234375 KB\n",
                        "Flag: https://upload.wikimedia.org/wikipedia/commons/e/e2/Flag_of_Province_of_Central_Java.svg Size: 370.5087890625 KB\n",
                        "Flag: https://upload.wikimedia.org/wikipedia/commons/b/bd/Flag_of_Central_Papua_Province.svg Size: 2151.2109375 KB\n",
                        "Flag: https://upload.wikimedia.org/wikipedia/commons/3/3d/Flag_of_East_Java.svg Size: 158.06640625 KB\n",
                        "Flag: https://upload.wikimedia.org/wikipedia/commons/5/57/Flag_of_East_Nusa_Tenggara.svg Size: 329.3642578125 KB\n",
                        "Flag: https://upload.wikimedia.org/wikipedia/commons/d/df/Flag_of_Highland_Papua.svg Size: 1925.9580078125 KB\n",
                        "Flag: https://upload.wikimedia.org/wikipedia/commons/0/09/Flag_of_Lampung.svg Size: 2328.6220703125 KB\n",
                        "Flag: https://upload.wikimedia.org/wikipedia/commons/b/ba/Flag_of_North_Sulawesi.svg Size: 527.4326171875 KB\n",
                        "Flag: https://upload.wikimedia.org/wikipedia/commons/f/f3/Flag_of_North_Sumatra.svg Size: 420.55859375 KB\n",
                        "Flag: https://upload.wikimedia.org/wikipedia/commons/a/a8/Flag_of_Riau.svg Size: 302.9365234375 KB\n",
                        "Flag: https://upload.wikimedia.org/wikipedia/commons/a/ac/Flag_of_Southeast_Sulawesi.svg Size: 258.4814453125 KB\n",
                        "Flag: https://upload.wikimedia.org/wikipedia/commons/1/1f/Flag_of_South_Papua_Province.svg Size: 1917.6865234375 KB\n",
                        "Flag: https://upload.wikimedia.org/wikipedia/commons/8/8d/Flag_of_South_Sulawesi.svg Size: 138.7490234375 KB\n",
                        "Flag: https://upload.wikimedia.org/wikipedia/commons/a/ab/Flag_of_South_Sumatra_%28vectorised%29.svg Size: 108.4892578125 KB\n",
                        "Flag: https://upload.wikimedia.org/wikipedia/commons/4/43/Flag_of_Southwest_Papua.svg Size: 2864.7705078125 KB\n",
                        "Flag: https://upload.wikimedia.org/wikipedia/commons/8/8b/Flag_of_West_Kalimantan.svg Size: 179.7626953125 KB\n",
                        "Flag: https://upload.wikimedia.org/wikipedia/commons/1/1f/Flag_of_West_Nusa_Tenggara.svg Size: 279.6005859375 KB\n",
                        "Flag: https://upload.wikimedia.org/wikipedia/commons/7/70/Flag_of_Yogyakarta.svg Size: 236.6435546875 KB\n",
                        "Flag: https://upload.wikimedia.org/wikipedia/commons/8/8e/Flag_of_Jakarta_%28vectorised%29.svg Size: 201.2685546875 KB\n",
                        "Flag: https://upload.wikimedia.org/wikipedia/commons/5/55/Flag_of_Friuli-Venezia_Giulia.svg Size: 106.6552734375 KB\n",
                        "Flag: https://upload.wikimedia.org/wikipedia/commons/8/84/Sicilian_Flag.svg Size: 116.857421875 KB\n",
                        "Flag: https://upload.wikimedia.org/wikipedia/commons/e/e1/Flag_of_Lazio.svg Size: 171.3544921875 KB\n",
                        "Flag: https://upload.wikimedia.org/wikipedia/commons/f/f2/Flag_of_Tuscany.svg Size: 504.1083984375 KB\n",
                        "Flag: https://upload.wikimedia.org/wikipedia/commons/d/d5/Flag_of_Veneto.svg Size: 567.7236328125 KB\n",
                        "Flag: https://upload.wikimedia.org/wikipedia/commons/0/00/Flag_of_Dobeles_novads.svg Size: 240.837890625 KB\n",
                        "Flag: https://upload.wikimedia.org/wikipedia/commons/8/8a/Jelgavas_novada_karogs.svg Size: 104.7236328125 KB\n",
                        "Flag: https://upload.wikimedia.org/wikipedia/commons/0/00/Flag_of_the_Federal_Territories_of_Malaysia.svg Size: 356.169921875 KB\n",
                        "Flag: https://upload.wikimedia.org/wikipedia/commons/9/9f/Flag_of_Putrajaya.svg Size: 183.646484375 KB\n",
                        "Flag: https://upload.wikimedia.org/wikipedia/commons/1/1b/Flag_of_Aguascalientes.svg Size: 483.5673828125 KB\n",
                        "Flag: https://upload.wikimedia.org/wikipedia/commons/3/37/Flag_of_Campeche.svg Size: 712.1513671875 KB\n",
                        "Flag: https://upload.wikimedia.org/wikipedia/commons/1/1a/Flag_of_Chiapas.svg Size: 2013.705078125 KB\n",
                        "Flag: https://upload.wikimedia.org/wikipedia/commons/1/1b/Flag_of_Chihuahua.svg Size: 168.9609375 KB\n",
                        "Flag: https://upload.wikimedia.org/wikipedia/commons/d/d2/Flag_of_Coahuila.svg Size: 461.38671875 KB\n",
                        "Flag: https://upload.wikimedia.org/wikipedia/commons/5/52/Flag_of_Colima.svg Size: 475.537109375 KB\n",
                        "Flag: https://upload.wikimedia.org/wikipedia/commons/7/70/Flag_of_Durango.svg Size: 312.283203125 KB\n",
                        "Flag: https://upload.wikimedia.org/wikipedia/commons/e/e0/Flag_of_Guanajuato.svg Size: 154.3916015625 KB\n",
                        "Flag: https://upload.wikimedia.org/wikipedia/commons/0/0d/Flag_of_Hidalgo.svg Size: 716.759765625 KB\n",
                        "Flag: https://upload.wikimedia.org/wikipedia/commons/b/b7/Flag_of_the_State_of_Mexico.svg Size: 666.2578125 KB\n",
                        "Flag: https://upload.wikimedia.org/wikipedia/commons/0/02/Flag_of_Michoacan.svg Size: 460.6083984375 KB\n",
                        "Flag: https://upload.wikimedia.org/wikipedia/commons/a/ac/Flag_of_Nayarit.svg Size: 480.3759765625 KB\n",
                        "Flag: https://upload.wikimedia.org/wikipedia/commons/8/80/Flag_of_Nuevo_Leon.svg Size: 132.875 KB\n",
                        "Flag: https://upload.wikimedia.org/wikipedia/commons/b/b2/Flag_of_Oaxaca.svg Size: 1481.76953125 KB\n",
                        "Flag: https://upload.wikimedia.org/wikipedia/commons/c/cd/Flag_of_Puebla.svg Size: 172.6962890625 KB\n",
                        "Flag: https://upload.wikimedia.org/wikipedia/commons/1/18/Flag_of_Queretaro.svg Size: 301.814453125 KB\n",
                        "Flag: https://upload.wikimedia.org/wikipedia/commons/9/99/Flag_of_San_Luis_Potosi.svg Size: 639.4140625 KB\n",
                        "Flag: https://upload.wikimedia.org/wikipedia/commons/c/cc/Flag_of_Sinaloa.svg Size: 348.2529296875 KB\n",
                        "Flag: https://upload.wikimedia.org/wikipedia/commons/9/9f/Flag_of_Tamaulipas.svg Size: 352.6640625 KB\n",
                        "Flag: https://upload.wikimedia.org/wikipedia/commons/2/26/Flag_of_Tlaxcala.svg Size: 281.9599609375 KB\n",
                        "Flag: https://upload.wikimedia.org/wikipedia/commons/6/6a/Flag_of_Veracruz.svg Size: 357.66796875 KB\n",
                        "Flag: https://upload.wikimedia.org/wikipedia/commons/9/9f/Flag_of_Zacatecas.svg Size: 776.275390625 KB\n",
                        "Flag: https://upload.wikimedia.org/wikipedia/commons/f/f0/Flag_of_Ayeyarwady_Region.svg Size: 422.5703125 KB\n",
                        "Flag: https://upload.wikimedia.org/wikipedia/commons/d/dd/Flag_of_Sagaing_Region_%282019%29.svg Size: 124.0078125 KB\n",
                        "Flag: https://upload.wikimedia.org/wikipedia/commons/c/c3/Flag_of_Yangon_Region.svg Size: 129.0146484375 KB\n",
                        "Flag: https://upload.wikimedia.org/wikipedia/commons/e/ee/Flag_of_Kachin_State.svg Size: 302.61328125 KB\n",
                        "Flag: https://upload.wikimedia.org/wikipedia/commons/0/03/Flag_of_Mon_State_%282018%29.svg Size: 173.6083984375 KB\n",
                        "Flag: https://upload.wikimedia.org/wikipedia/commons/d/d1/Flag_of_Limburg_%28Netherlands%29.svg Size: 164.6240234375 KB\n",
                        "Flag: https://upload.wikimedia.org/wikipedia/commons/5/54/Flag_of_Zeeland.svg Size: 125.306640625 KB\n",
                        "Flag: https://upload.wikimedia.org/wikipedia/commons/5/56/Flag_of_Juigalpa.svg Size: 434.767578125 KB\n",
                        "Flag: https://upload.wikimedia.org/wikipedia/commons/4/43/Flag_of_Granada%2C_Nicaragua.svg Size: 1465.5771484375 KB\n",
                        "Flag: https://upload.wikimedia.org/wikipedia/commons/8/87/Flag_of_Leon%2C_Nicaragua.svg Size: 175.4287109375 KB\n",
                        "Flag: https://upload.wikimedia.org/wikipedia/commons/5/54/Flag_of_Managua.svg Size: 343.98828125 KB\n",
                        "Flag: https://upload.wikimedia.org/wikipedia/commons/c/c9/Flag_of_Masaya.svg Size: 1387.607421875 KB\n",
                        "Flag: https://upload.wikimedia.org/wikipedia/commons/6/66/Flag_of_Matagalpa.svg Size: 249.5966796875 KB\n",
                        "Flag: https://upload.wikimedia.org/wikipedia/commons/b/b4/Flag_of_Nueva_Segovia.svg Size: 1306.0693359375 KB\n",
                        "Flag: https://upload.wikimedia.org/wikipedia/commons/a/a8/Flag_of_Region_Autonoma_del_Atlantico_Norte.svg Size: 299.607421875 KB\n",
                        "Flag: https://upload.wikimedia.org/wikipedia/commons/e/ee/Bandera_de_la_Provincia_de_Col%C3%B3n.svg Size: 138.046875 KB\n",
                        "Flag: https://upload.wikimedia.org/wikipedia/commons/a/a5/Flag_of_Western_Highlands.svg Size: 231.6796875 KB\n",
                        "Flag: https://upload.wikimedia.org/wikipedia/commons/d/d5/Flag_of_Asunci%C3%B3n.svg Size: 194.470703125 KB\n",
                        "Flag: https://upload.wikimedia.org/wikipedia/commons/5/5c/Bandera_Regi%C3%B3n_Apurimac.svg Size: 100.18359375 KB\n",
                        "Flag: https://upload.wikimedia.org/wikipedia/commons/0/0b/Bandera_de_Arequipa.svg Size: 378.9443359375 KB\n",
                        "Flag: https://upload.wikimedia.org/wikipedia/commons/d/d9/Bandera_de_Cajamarca.svg Size: 315.5859375 KB\n",
                        "Flag: https://upload.wikimedia.org/wikipedia/commons/2/22/Bandera_del_Callao.svg Size: 163.845703125 KB\n",
                        "Flag: https://upload.wikimedia.org/wikipedia/commons/2/25/Flag_of_Tacna.svg Size: 268.4833984375 KB\n",
                        "Flag: https://upload.wikimedia.org/wikipedia/commons/f/f7/Bandera_de_Ucayali.svg Size: 478.5712890625 KB\n",
                        "Flag: https://upload.wikimedia.org/wikipedia/commons/1/11/Flag_of_Cebu_%28province%29.svg Size: 116.6005859375 KB\n",
                        "Flag: https://upload.wikimedia.org/wikipedia/commons/f/f2/Flag_of_Davao_Oriental.svg Size: 338.974609375 KB\n",
                        "Flag: https://upload.wikimedia.org/wikipedia/commons/c/ca/Flag_of_Isabela_%28province%29.svg Size: 1155.1396484375 KB\n",
                        "Flag: https://upload.wikimedia.org/wikipedia/commons/0/08/PH-LAG_Flag.svg Size: 104.7939453125 KB\n",
                        "Flag: https://upload.wikimedia.org/wikipedia/commons/e/e9/Flag_of_Misamis_Occidental.svg Size: 1012.51953125 KB\n",
                        "Flag: https://upload.wikimedia.org/wikipedia/commons/a/a1/Flag_of_Pangasinan.svg Size: 738.6640625 KB\n",
                        "Flag: https://upload.wikimedia.org/wikipedia/commons/7/71/Sulu_Province_Flag.svg Size: 170.8779296875 KB\n",
                        "Flag: https://upload.wikimedia.org/wikipedia/commons/e/e8/Flag_of_the_Province_of_Tarlac.svg Size: 2325.4599609375 KB\n",
                        "Flag: https://upload.wikimedia.org/wikipedia/commons/9/94/POL_wojew%C3%B3dztwo_podkarpackie_flag.svg Size: 335.3173828125 KB\n",
                        "Flag: https://upload.wikimedia.org/wikipedia/commons/6/66/RO_Alba_County_Flag.svg Size: 234.025390625 KB\n",
                        "Flag: https://upload.wikimedia.org/wikipedia/commons/1/10/Flag_of_Bihor_County%2C_Romania.svg Size: 323.0732421875 KB\n",
                        "Flag: https://upload.wikimedia.org/wikipedia/commons/5/55/ROU_Bucharest_Flag.svg Size: 276.580078125 KB\n",
                        "Flag: https://upload.wikimedia.org/wikipedia/commons/4/4b/Flag_of_Altai_Krai.svg Size: 111.0380859375 KB\n",
                        "Flag: https://upload.wikimedia.org/wikipedia/commons/a/a7/Flag_of_Krasnodar_Krai.svg Size: 2144.9208984375 KB\n",
                        "Flag: https://upload.wikimedia.org/wikipedia/commons/2/2d/Flag_of_Krasnoyarsk_Krai.svg Size: 123.1787109375 KB\n",
                        "Flag: https://upload.wikimedia.org/wikipedia/commons/b/b4/Flag_of_Stavropol_Krai.svg Size: 261.03515625 KB\n",
                        "Flag: https://upload.wikimedia.org/wikipedia/commons/1/16/Flag_of_Arkhangelsk_Oblast.svg Size: 385.869140625 KB\n",
                        "Flag: https://upload.wikimedia.org/wikipedia/commons/8/87/Flag_of_Astrakhan_Oblast.svg Size: 124.15234375 KB\n",
                        "Flag: https://upload.wikimedia.org/wikipedia/commons/2/2b/Flag_of_Belgorod_Oblast.svg Size: 162.8486328125 KB\n",
                        "Flag: https://upload.wikimedia.org/wikipedia/commons/5/5b/Flag_of_Ivanovo_Oblast.svg Size: 433.806640625 KB\n",
                        "Flag: https://upload.wikimedia.org/wikipedia/commons/e/e3/Flag_of_Kemerovo_Oblast.svg Size: 187.658203125 KB\n",
                        "Flag: https://upload.wikimedia.org/wikipedia/commons/e/eb/Flag_of_Kherson_Oblast_%28Russia%29.svg Size: 238.4033203125 KB\n",
                        "Flag: https://upload.wikimedia.org/wikipedia/commons/2/2c/Flag_of_Kostroma_Oblast.svg Size: 208.681640625 KB\n",
                        "Flag: https://upload.wikimedia.org/wikipedia/commons/7/70/Flag_of_Kursk_Oblast.svg Size: 232.3515625 KB\n",
                        "Flag: https://upload.wikimedia.org/wikipedia/commons/4/48/Flag_of_Moscow_oblast.svg Size: 218.7802734375 KB\n",
                        "Flag: https://upload.wikimedia.org/wikipedia/commons/d/d6/Flag_of_Orenburg_Oblast.svg Size: 470.1025390625 KB\n",
                        "Flag: https://upload.wikimedia.org/wikipedia/commons/0/05/Flag_of_Oryol_Oblast.svg Size: 480.490234375 KB\n",
                        "Flag: https://upload.wikimedia.org/wikipedia/commons/d/da/Flag_of_Penza_Oblast.svg Size: 254.0322265625 KB\n",
                        "Flag: https://upload.wikimedia.org/wikipedia/commons/1/13/Flag_of_Samara_Oblast.svg Size: 195.3681640625 KB\n",
                        "Flag: https://upload.wikimedia.org/wikipedia/commons/f/f5/Flag_of_Saratov_Oblast.svg Size: 266.435546875 KB\n",
                        "Flag: https://upload.wikimedia.org/wikipedia/commons/3/39/Flag_of_Tambov_Oblast.svg Size: 129.8203125 KB\n",
                        "Flag: https://upload.wikimedia.org/wikipedia/commons/5/50/Flag_of_Tomsk_Oblast.svg Size: 410.57421875 KB\n",
                        "Flag: https://upload.wikimedia.org/wikipedia/commons/a/af/Flag_of_Vologda_oblast.svg Size: 112.8486328125 KB\n",
                        "Flag: https://upload.wikimedia.org/wikipedia/commons/0/03/Flag_of_Moscow%2C_Russia.svg Size: 177.951171875 KB\n",
                        "Flag: https://upload.wikimedia.org/wikipedia/commons/c/ca/Flag_of_Saint_Petersburg.svg Size: 268.6142578125 KB\n",
                        "Flag: https://upload.wikimedia.org/wikipedia/commons/2/20/Flag_of_Andaluc%C3%ADa.svg Size: 151.6787109375 KB\n",
                        "Flag: https://upload.wikimedia.org/wikipedia/commons/1/18/Flag_of_Aragon.svg Size: 219.6826171875 KB\n",
                        "Flag: https://upload.wikimedia.org/wikipedia/commons/b/b0/Flag_of_the_Canary_Islands.svg Size: 107.6884765625 KB\n",
                        "Flag: https://upload.wikimedia.org/wikipedia/commons/3/30/Flag_of_Cantabria.svg Size: 310.9423828125 KB\n",
                        "Flag: https://upload.wikimedia.org/wikipedia/commons/1/13/Flag_of_Extremadura%2C_Spain_%28with_coat_of_arms%29.svg Size: 184.767578125 KB\n",
                        "Flag: https://upload.wikimedia.org/wikipedia/commons/d/db/Flag_of_La_Rioja_%28with_coat_of_arms%29.svg Size: 141.052734375 KB\n",
                        "Flag: https://upload.wikimedia.org/wikipedia/commons/3/36/Bandera_de_Navarra.svg Size: 157.931640625 KB\n",
                        "Flag: https://upload.wikimedia.org/wikipedia/commons/f/f7/Flag_of_Melilla.svg Size: 178.5537109375 KB\n",
                        "Flag: https://upload.wikimedia.org/wikipedia/commons/6/6d/Flag_of_the_Uva_Province_%28Sri_Lanka%29_SVG.svg Size: 106.2607421875 KB\n",
                        "Flag: https://upload.wikimedia.org/wikipedia/commons/a/a2/J%C3%A4mtlands_l%C3%A4n_vapenflagga.svg Size: 111.322265625 KB\n",
                        "Flag: https://upload.wikimedia.org/wikipedia/commons/2/26/V%C3%A4stra_G%C3%B6talands_l%C3%A4n_vapenflagga.svg Size: 196.1884765625 KB\n",
                        "Flag: https://upload.wikimedia.org/wikipedia/commons/1/1a/Flag_of_Taiwan_Province.svg Size: 204.8505859375 KB\n",
                        "Flag: https://upload.wikimedia.org/wikipedia/commons/8/89/Flag_of_Nantou_County.svg Size: 286.8916015625 KB\n",
                        "Flag: https://upload.wikimedia.org/wikipedia/commons/7/7a/Flag_of_Kaohsiung_City.svg Size: 111.515625 KB\n",
                        "Flag: https://upload.wikimedia.org/wikipedia/commons/b/b6/Flag_of_Bangkok.svg Size: 199.1171875 KB\n",
                        "Flag: https://upload.wikimedia.org/wikipedia/commons/4/40/Flag_of_Nakhon_Phanom_Province.svg Size: 140.6376953125 KB\n",
                        "Flag: https://upload.wikimedia.org/wikipedia/commons/2/21/%E0%B8%98%E0%B8%87%E0%B8%9B%E0%B8%A3%E0%B8%B0%E0%B8%88%E0%B8%B3%E0%B8%88%E0%B8%B1%E0%B8%87%E0%B8%AB%E0%B8%A7%E0%B8%B1%E0%B8%94%E0%B8%99%E0%B9%88%E0%B8%B2%E0%B8%99.svg Size: 100.0537109375 KB\n",
                        "Flag: https://upload.wikimedia.org/wikipedia/commons/0/07/%E0%B8%98%E0%B8%87%E0%B8%88%E0%B8%B1%E0%B8%87%E0%B8%AB%E0%B8%A7%E0%B8%B1%E0%B8%94%E0%B8%99%E0%B8%99%E0%B8%97%E0%B8%9A%E0%B8%B8%E0%B8%A3%E0%B8%B5.svg Size: 220.0517578125 KB\n",
                        "Flag: https://upload.wikimedia.org/wikipedia/commons/e/e5/Phayao_flag.svg Size: 710.404296875 KB\n",
                        "Flag: https://upload.wikimedia.org/wikipedia/commons/d/d7/Pitsanulok_flag.svg Size: 312.8466796875 KB\n",
                        "Flag: https://upload.wikimedia.org/wikipedia/commons/8/8f/Phrae_flag.svg Size: 152.69140625 KB\n",
                        "Flag: https://upload.wikimedia.org/wikipedia/commons/5/57/Provincial_Flag_of_Saraburi.svg Size: 3239.6826171875 KB\n",
                        "Flag: https://upload.wikimedia.org/wikipedia/commons/4/42/Flag_of_Sukhothai_Province.svg Size: 261.171875 KB\n",
                        "Flag: https://upload.wikimedia.org/wikipedia/commons/f/ff/Ubon_Ratchathani_Province_Flags.svg Size: 177.08984375 KB\n",
                        "Flag: https://upload.wikimedia.org/wikipedia/commons/8/85/Flag_of_Cherkasy_Oblast.svg Size: 274.728515625 KB\n",
                        "Flag: https://upload.wikimedia.org/wikipedia/commons/c/cf/Flag_of_Dnipropetrovsk_Oblast.svg Size: 341.4326171875 KB\n",
                        "Flag: https://upload.wikimedia.org/wikipedia/commons/b/b2/Flag_of_Kyiv_Oblast.svg Size: 265.578125 KB\n",
                        "Flag: https://upload.wikimedia.org/wikipedia/commons/7/77/Flag_of_Luhansk_Oblast.svg Size: 140.828125 KB\n",
                        "Flag: https://upload.wikimedia.org/wikipedia/commons/e/e1/Flag_of_Mykolaiv_Oblast.svg Size: 313.8046875 KB\n",
                        "Flag: https://upload.wikimedia.org/wikipedia/commons/3/35/Prapor_Vinnytskoyi_oblasti.svg Size: 437.8564453125 KB\n",
                        "Flag: https://upload.wikimedia.org/wikipedia/commons/b/b8/Flag_of_Zaporizhia_Oblast.svg Size: 149.20703125 KB\n",
                        "Flag: https://upload.wikimedia.org/wikipedia/commons/0/01/Flag_of_California.svg Size: 161.7509765625 KB\n",
                        "Flag: https://upload.wikimedia.org/wikipedia/commons/9/96/Flag_of_Connecticut.svg Size: 100.91796875 KB\n",
                        "Flag: https://upload.wikimedia.org/wikipedia/commons/c/c6/Flag_of_Delaware.svg Size: 104.6943359375 KB\n",
                        "Flag: https://upload.wikimedia.org/wikipedia/commons/f/f7/Flag_of_Florida.svg Size: 209.771484375 KB\n",
                        "Flag: https://upload.wikimedia.org/wikipedia/commons/a/a4/Flag_of_Idaho.svg Size: 620.8251953125 KB\n",
                        "Flag: https://upload.wikimedia.org/wikipedia/commons/0/01/Flag_of_Illinois.svg Size: 101.51953125 KB\n",
                        "Flag: https://upload.wikimedia.org/wikipedia/commons/a/aa/Flag_of_Iowa.svg Size: 165.9580078125 KB\n",
                        "Flag: https://upload.wikimedia.org/wikipedia/commons/d/da/Flag_of_Kansas.svg Size: 240.421875 KB\n",
                        "Flag: https://upload.wikimedia.org/wikipedia/commons/8/8d/Flag_of_Kentucky.svg Size: 131.908203125 KB\n",
                        "Flag: https://upload.wikimedia.org/wikipedia/commons/e/e0/Flag_of_Louisiana.svg Size: 629.2578125 KB\n",
                        "Flag: https://upload.wikimedia.org/wikipedia/commons/d/df/Flag_of_the_State_of_Maine.svg Size: 601.341796875 KB\n",
                        "Flag: https://upload.wikimedia.org/wikipedia/commons/f/f2/Flag_of_Massachusetts.svg Size: 124.9619140625 KB\n",
                        "Flag: https://upload.wikimedia.org/wikipedia/commons/b/b5/Flag_of_Michigan.svg Size: 246.029296875 KB\n",
                        "Flag: https://upload.wikimedia.org/wikipedia/commons/5/5a/Flag_of_Missouri.svg Size: 277.1630859375 KB\n",
                        "Flag: https://upload.wikimedia.org/wikipedia/commons/4/4d/Flag_of_Nebraska.svg Size: 193.6220703125 KB\n",
                        "Flag: https://upload.wikimedia.org/wikipedia/commons/f/f1/Flag_of_Nevada.svg Size: 128.5634765625 KB\n",
                        "Flag: https://upload.wikimedia.org/wikipedia/commons/2/28/Flag_of_New_Hampshire.svg Size: 102.97265625 KB\n",
                        "Flag: https://upload.wikimedia.org/wikipedia/commons/9/92/Flag_of_New_Jersey.svg Size: 148.298828125 KB\n",
                        "Flag: https://upload.wikimedia.org/wikipedia/commons/1/1a/Flag_of_New_York.svg Size: 121.9228515625 KB\n",
                        "Flag: https://upload.wikimedia.org/wikipedia/commons/e/ee/Flag_of_North_Dakota.svg Size: 333.337890625 KB\n",
                        "Flag: https://upload.wikimedia.org/wikipedia/commons/b/b9/Flag_of_Oregon.svg Size: 165.640625 KB\n",
                        "Flag: https://upload.wikimedia.org/wikipedia/commons/f/f7/Flag_of_Pennsylvania.svg Size: 469.1513671875 KB\n",
                        "Flag: https://upload.wikimedia.org/wikipedia/commons/1/1a/Flag_of_South_Dakota.svg Size: 205.77734375 KB\n",
                        "Flag: https://upload.wikimedia.org/wikipedia/commons/4/49/Flag_of_Vermont.svg Size: 357.5693359375 KB\n",
                        "Flag: https://upload.wikimedia.org/wikipedia/commons/4/47/Flag_of_Virginia.svg Size: 545.23046875 KB\n",
                        "Flag: https://upload.wikimedia.org/wikipedia/commons/5/54/Flag_of_Washington.svg Size: 253.998046875 KB\n",
                        "Flag: https://upload.wikimedia.org/wikipedia/commons/2/22/Flag_of_West_Virginia.svg Size: 568.1728515625 KB\n",
                        "Flag: https://upload.wikimedia.org/wikipedia/commons/2/22/Flag_of_Wisconsin.svg Size: 200.9638671875 KB\n",
                        "Flag: https://upload.wikimedia.org/wikipedia/commons/b/bc/Flag_of_Wyoming.svg Size: 182.939453125 KB\n",
                        "Flag: https://upload.wikimedia.org/wikipedia/commons/e/e0/Flag_of_the_Northern_Mariana_Islands.svg Size: 160.9990234375 KB\n",
                        "Flag: https://upload.wikimedia.org/wikipedia/commons/3/32/Flag_of_Salto_Department.svg Size: 208.1201171875 KB\n",
                        "Flag: https://upload.wikimedia.org/wikipedia/commons/1/1a/Flag_of_Apure_State.svg Size: 158.4892578125 KB\n",
                        "Flag: https://upload.wikimedia.org/wikipedia/commons/4/4f/Flag_of_Aragua_State.svg Size: 801.3544921875 KB\n",
                        "Flag: https://upload.wikimedia.org/wikipedia/commons/0/06/Flag_of_Bol%C3%ADvar_State.svg Size: 355.7431640625 KB\n",
                        "Flag: https://upload.wikimedia.org/wikipedia/commons/2/20/Flag_of_Delta_Amacuro_State.svg Size: 639.4345703125 KB\n",
                        "Flag: https://upload.wikimedia.org/wikipedia/commons/a/a2/Flag_of_Gu%C3%A1rico_State.svg Size: 327.5537109375 KB\n",
                        "Flag: https://upload.wikimedia.org/wikipedia/commons/c/c1/Flag_of_Sucre_State.svg Size: 1328.791015625 KB\n",
                        "Flag: https://upload.wikimedia.org/wikipedia/commons/3/35/Flag_of_Bulawayo.svg Size: 408.6943359375 KB\n",
                        "Flag: https://upload.wikimedia.org/wikipedia/commons/b/b8/Flag_of_the_Soviet_Union_%281922%E2%80%931923%29.svg Size: 409.685546875 KB\n"
                    ]
                }
            ],
            "source": [
                "maxSvgSize = 100\n",
                "\n",
                "for country in flagsRaw:\n",
                "    for flagData in flagsRaw[country]:\n",
                "        flag: str = flagData[\"flag\"]\n",
                "        extension = flag.split(\".\")[-1]\n",
                "        if extension != \"svg\" or \"upload.wikimedia.org\" not in flag:\n",
                "            continue\n",
                "        size = urlContentSize(flag)\n",
                "        if size > maxSvgSize:\n",
                "            print(\"Flag:\", flag, \"Size:\", size, \"KB\")\n",
                "\n",
                "            sections = flag.split(\"/\")\n",
                "            commons_index = sections.index('commons')\n",
                "            sections.insert(commons_index + 1, 'thumb')\n",
                "\n",
                "            filename = sections[-1]\n",
                "            addedFilename = \"/128px-\" + filename + \".png\"\n",
                "            sections.append(addedFilename)\n",
                "\n",
                "            newFlag = '/'.join(sections[:])\n",
                "            # print(\"New flag:\", newFlag, \"Size:\", urlContentSize(newFlag), \"KB\")\n",
                "            flagData[\"flag\"] = newFlag\n"
            ]
        },
        {
            "cell_type": "code",
            "execution_count": 28,
            "metadata": {},
            "outputs": [],
            "source": [
                "flags = {\n",
                "    country: [\n",
                "        {key: value for key, value in county.items() if key != 'flagRaw'}\n",
                "        for county in counties\n",
                "    ]\n",
                "    for country, counties in flagsRaw.items()\n",
                "}\n"
            ]
        },
        {
            "cell_type": "markdown",
            "metadata": {},
            "source": [
                "## Convert names to ISO 3166 codes\n"
            ]
        },
        {
            "cell_type": "code",
            "execution_count": 29,
            "metadata": {},
            "outputs": [
                {
                    "name": "stdout",
                    "output_type": "stream",
                    "text": [
                        "[{'name': 'Afghanistan', 'alpha-2': 'AF', 'alpha-3': 'AFG', 'country-code': '004', 'iso_3166-2': 'ISO 3166-2:AF', 'region': 'Asia', 'sub-region': 'Southern Asia', 'intermediate-region': '', 'region-code': '142', 'sub-region-code': '034', 'intermediate-region-code': ''}, {'name': 'Åland Islands', 'alpha-2': 'AX', 'alpha-3': 'ALA', 'country-code': '248', 'iso_3166-2': 'ISO 3166-2:AX', 'region': 'Europe', 'sub-region': 'Northern Europe', 'intermediate-region': '', 'region-code': '150', 'sub-region-code': '154', 'intermediate-region-code': ''}, {'name': 'Albania', 'alpha-2': 'AL', 'alpha-3': 'ALB', 'country-code': '008', 'iso_3166-2': 'ISO 3166-2:AL', 'region': 'Europe', 'sub-region': 'Southern Europe', 'intermediate-region': '', 'region-code': '150', 'sub-region-code': '039', 'intermediate-region-code': ''}, {'name': 'Algeria', 'alpha-2': 'DZ', 'alpha-3': 'DZA', 'country-code': '012', 'iso_3166-2': 'ISO 3166-2:DZ', 'region': 'Africa', 'sub-region': 'Northern Africa', 'intermediate-region': '', 'region-code': '002', 'sub-region-code': '015', 'intermediate-region-code': ''}, {'name': 'American Samoa', 'alpha-2': 'AS', 'alpha-3': 'ASM', 'country-code': '016', 'iso_3166-2': 'ISO 3166-2:AS', 'region': 'Oceania', 'sub-region': 'Polynesia', 'intermediate-region': '', 'region-code': '009', 'sub-region-code': '061', 'intermediate-region-code': ''}, {'name': 'Andorra', 'alpha-2': 'AD', 'alpha-3': 'AND', 'country-code': '020', 'iso_3166-2': 'ISO 3166-2:AD', 'region': 'Europe', 'sub-region': 'Southern Europe', 'intermediate-region': '', 'region-code': '150', 'sub-region-code': '039', 'intermediate-region-code': ''}, {'name': 'Angola', 'alpha-2': 'AO', 'alpha-3': 'AGO', 'country-code': '024', 'iso_3166-2': 'ISO 3166-2:AO', 'region': 'Africa', 'sub-region': 'Sub-Saharan Africa', 'intermediate-region': 'Middle Africa', 'region-code': '002', 'sub-region-code': '202', 'intermediate-region-code': '017'}, {'name': 'Anguilla', 'alpha-2': 'AI', 'alpha-3': 'AIA', 'country-code': '660', 'iso_3166-2': 'ISO 3166-2:AI', 'region': 'Americas', 'sub-region': 'Latin America and the Caribbean', 'intermediate-region': 'Caribbean', 'region-code': '019', 'sub-region-code': '419', 'intermediate-region-code': '029'}, {'name': 'Antarctica', 'alpha-2': 'AQ', 'alpha-3': 'ATA', 'country-code': '010', 'iso_3166-2': 'ISO 3166-2:AQ', 'region': '', 'sub-region': '', 'intermediate-region': '', 'region-code': '', 'sub-region-code': '', 'intermediate-region-code': ''}, {'name': 'Antigua and Barbuda', 'alpha-2': 'AG', 'alpha-3': 'ATG', 'country-code': '028', 'iso_3166-2': 'ISO 3166-2:AG', 'region': 'Americas', 'sub-region': 'Latin America and the Caribbean', 'intermediate-region': 'Caribbean', 'region-code': '019', 'sub-region-code': '419', 'intermediate-region-code': '029'}, {'name': 'Argentina', 'alpha-2': 'AR', 'alpha-3': 'ARG', 'country-code': '032', 'iso_3166-2': 'ISO 3166-2:AR', 'region': 'Americas', 'sub-region': 'Latin America and the Caribbean', 'intermediate-region': 'South America', 'region-code': '019', 'sub-region-code': '419', 'intermediate-region-code': '005'}, {'name': 'Armenia', 'alpha-2': 'AM', 'alpha-3': 'ARM', 'country-code': '051', 'iso_3166-2': 'ISO 3166-2:AM', 'region': 'Asia', 'sub-region': 'Western Asia', 'intermediate-region': '', 'region-code': '142', 'sub-region-code': '145', 'intermediate-region-code': ''}, {'name': 'Aruba', 'alpha-2': 'AW', 'alpha-3': 'ABW', 'country-code': '533', 'iso_3166-2': 'ISO 3166-2:AW', 'region': 'Americas', 'sub-region': 'Latin America and the Caribbean', 'intermediate-region': 'Caribbean', 'region-code': '019', 'sub-region-code': '419', 'intermediate-region-code': '029'}, {'name': 'Australia', 'alpha-2': 'AU', 'alpha-3': 'AUS', 'country-code': '036', 'iso_3166-2': 'ISO 3166-2:AU', 'region': 'Oceania', 'sub-region': 'Australia and New Zealand', 'intermediate-region': '', 'region-code': '009', 'sub-region-code': '053', 'intermediate-region-code': ''}, {'name': 'Austria', 'alpha-2': 'AT', 'alpha-3': 'AUT', 'country-code': '040', 'iso_3166-2': 'ISO 3166-2:AT', 'region': 'Europe', 'sub-region': 'Western Europe', 'intermediate-region': '', 'region-code': '150', 'sub-region-code': '155', 'intermediate-region-code': ''}, {'name': 'Azerbaijan', 'alpha-2': 'AZ', 'alpha-3': 'AZE', 'country-code': '031', 'iso_3166-2': 'ISO 3166-2:AZ', 'region': 'Asia', 'sub-region': 'Western Asia', 'intermediate-region': '', 'region-code': '142', 'sub-region-code': '145', 'intermediate-region-code': ''}, {'name': 'Bahamas', 'alpha-2': 'BS', 'alpha-3': 'BHS', 'country-code': '044', 'iso_3166-2': 'ISO 3166-2:BS', 'region': 'Americas', 'sub-region': 'Latin America and the Caribbean', 'intermediate-region': 'Caribbean', 'region-code': '019', 'sub-region-code': '419', 'intermediate-region-code': '029'}, {'name': 'Bahrain', 'alpha-2': 'BH', 'alpha-3': 'BHR', 'country-code': '048', 'iso_3166-2': 'ISO 3166-2:BH', 'region': 'Asia', 'sub-region': 'Western Asia', 'intermediate-region': '', 'region-code': '142', 'sub-region-code': '145', 'intermediate-region-code': ''}, {'name': 'Bangladesh', 'alpha-2': 'BD', 'alpha-3': 'BGD', 'country-code': '050', 'iso_3166-2': 'ISO 3166-2:BD', 'region': 'Asia', 'sub-region': 'Southern Asia', 'intermediate-region': '', 'region-code': '142', 'sub-region-code': '034', 'intermediate-region-code': ''}, {'name': 'Barbados', 'alpha-2': 'BB', 'alpha-3': 'BRB', 'country-code': '052', 'iso_3166-2': 'ISO 3166-2:BB', 'region': 'Americas', 'sub-region': 'Latin America and the Caribbean', 'intermediate-region': 'Caribbean', 'region-code': '019', 'sub-region-code': '419', 'intermediate-region-code': '029'}, {'name': 'Belarus', 'alpha-2': 'BY', 'alpha-3': 'BLR', 'country-code': '112', 'iso_3166-2': 'ISO 3166-2:BY', 'region': 'Europe', 'sub-region': 'Eastern Europe', 'intermediate-region': '', 'region-code': '150', 'sub-region-code': '151', 'intermediate-region-code': ''}, {'name': 'Belgium', 'alpha-2': 'BE', 'alpha-3': 'BEL', 'country-code': '056', 'iso_3166-2': 'ISO 3166-2:BE', 'region': 'Europe', 'sub-region': 'Western Europe', 'intermediate-region': '', 'region-code': '150', 'sub-region-code': '155', 'intermediate-region-code': ''}, {'name': 'Belize', 'alpha-2': 'BZ', 'alpha-3': 'BLZ', 'country-code': '084', 'iso_3166-2': 'ISO 3166-2:BZ', 'region': 'Americas', 'sub-region': 'Latin America and the Caribbean', 'intermediate-region': 'Central America', 'region-code': '019', 'sub-region-code': '419', 'intermediate-region-code': '013'}, {'name': 'Benin', 'alpha-2': 'BJ', 'alpha-3': 'BEN', 'country-code': '204', 'iso_3166-2': 'ISO 3166-2:BJ', 'region': 'Africa', 'sub-region': 'Sub-Saharan Africa', 'intermediate-region': 'Western Africa', 'region-code': '002', 'sub-region-code': '202', 'intermediate-region-code': '011'}, {'name': 'Bermuda', 'alpha-2': 'BM', 'alpha-3': 'BMU', 'country-code': '060', 'iso_3166-2': 'ISO 3166-2:BM', 'region': 'Americas', 'sub-region': 'Northern America', 'intermediate-region': '', 'region-code': '019', 'sub-region-code': '021', 'intermediate-region-code': ''}, {'name': 'Bhutan', 'alpha-2': 'BT', 'alpha-3': 'BTN', 'country-code': '064', 'iso_3166-2': 'ISO 3166-2:BT', 'region': 'Asia', 'sub-region': 'Southern Asia', 'intermediate-region': '', 'region-code': '142', 'sub-region-code': '034', 'intermediate-region-code': ''}, {'name': 'Bolivia (Plurinational State of)', 'alpha-2': 'BO', 'alpha-3': 'BOL', 'country-code': '068', 'iso_3166-2': 'ISO 3166-2:BO', 'region': 'Americas', 'sub-region': 'Latin America and the Caribbean', 'intermediate-region': 'South America', 'region-code': '019', 'sub-region-code': '419', 'intermediate-region-code': '005'}, {'name': 'Bonaire, Sint Eustatius and Saba', 'alpha-2': 'BQ', 'alpha-3': 'BES', 'country-code': '535', 'iso_3166-2': 'ISO 3166-2:BQ', 'region': 'Americas', 'sub-region': 'Latin America and the Caribbean', 'intermediate-region': 'Caribbean', 'region-code': '019', 'sub-region-code': '419', 'intermediate-region-code': '029'}, {'name': 'Bosnia and Herzegovina', 'alpha-2': 'BA', 'alpha-3': 'BIH', 'country-code': '070', 'iso_3166-2': 'ISO 3166-2:BA', 'region': 'Europe', 'sub-region': 'Southern Europe', 'intermediate-region': '', 'region-code': '150', 'sub-region-code': '039', 'intermediate-region-code': ''}, {'name': 'Botswana', 'alpha-2': 'BW', 'alpha-3': 'BWA', 'country-code': '072', 'iso_3166-2': 'ISO 3166-2:BW', 'region': 'Africa', 'sub-region': 'Sub-Saharan Africa', 'intermediate-region': 'Southern Africa', 'region-code': '002', 'sub-region-code': '202', 'intermediate-region-code': '018'}, {'name': 'Bouvet Island', 'alpha-2': 'BV', 'alpha-3': 'BVT', 'country-code': '074', 'iso_3166-2': 'ISO 3166-2:BV', 'region': 'Americas', 'sub-region': 'Latin America and the Caribbean', 'intermediate-region': 'South America', 'region-code': '019', 'sub-region-code': '419', 'intermediate-region-code': '005'}, {'name': 'Brazil', 'alpha-2': 'BR', 'alpha-3': 'BRA', 'country-code': '076', 'iso_3166-2': 'ISO 3166-2:BR', 'region': 'Americas', 'sub-region': 'Latin America and the Caribbean', 'intermediate-region': 'South America', 'region-code': '019', 'sub-region-code': '419', 'intermediate-region-code': '005'}, {'name': 'British Indian Ocean Territory', 'alpha-2': 'IO', 'alpha-3': 'IOT', 'country-code': '086', 'iso_3166-2': 'ISO 3166-2:IO', 'region': 'Africa', 'sub-region': 'Sub-Saharan Africa', 'intermediate-region': 'Eastern Africa', 'region-code': '002', 'sub-region-code': '202', 'intermediate-region-code': '014'}, {'name': 'Brunei Darussalam', 'alpha-2': 'BN', 'alpha-3': 'BRN', 'country-code': '096', 'iso_3166-2': 'ISO 3166-2:BN', 'region': 'Asia', 'sub-region': 'South-eastern Asia', 'intermediate-region': '', 'region-code': '142', 'sub-region-code': '035', 'intermediate-region-code': ''}, {'name': 'Bulgaria', 'alpha-2': 'BG', 'alpha-3': 'BGR', 'country-code': '100', 'iso_3166-2': 'ISO 3166-2:BG', 'region': 'Europe', 'sub-region': 'Eastern Europe', 'intermediate-region': '', 'region-code': '150', 'sub-region-code': '151', 'intermediate-region-code': ''}, {'name': 'Burkina Faso', 'alpha-2': 'BF', 'alpha-3': 'BFA', 'country-code': '854', 'iso_3166-2': 'ISO 3166-2:BF', 'region': 'Africa', 'sub-region': 'Sub-Saharan Africa', 'intermediate-region': 'Western Africa', 'region-code': '002', 'sub-region-code': '202', 'intermediate-region-code': '011'}, {'name': 'Burundi', 'alpha-2': 'BI', 'alpha-3': 'BDI', 'country-code': '108', 'iso_3166-2': 'ISO 3166-2:BI', 'region': 'Africa', 'sub-region': 'Sub-Saharan Africa', 'intermediate-region': 'Eastern Africa', 'region-code': '002', 'sub-region-code': '202', 'intermediate-region-code': '014'}, {'name': 'Cabo Verde', 'alpha-2': 'CV', 'alpha-3': 'CPV', 'country-code': '132', 'iso_3166-2': 'ISO 3166-2:CV', 'region': 'Africa', 'sub-region': 'Sub-Saharan Africa', 'intermediate-region': 'Western Africa', 'region-code': '002', 'sub-region-code': '202', 'intermediate-region-code': '011'}, {'name': 'Cambodia', 'alpha-2': 'KH', 'alpha-3': 'KHM', 'country-code': '116', 'iso_3166-2': 'ISO 3166-2:KH', 'region': 'Asia', 'sub-region': 'South-eastern Asia', 'intermediate-region': '', 'region-code': '142', 'sub-region-code': '035', 'intermediate-region-code': ''}, {'name': 'Cameroon', 'alpha-2': 'CM', 'alpha-3': 'CMR', 'country-code': '120', 'iso_3166-2': 'ISO 3166-2:CM', 'region': 'Africa', 'sub-region': 'Sub-Saharan Africa', 'intermediate-region': 'Middle Africa', 'region-code': '002', 'sub-region-code': '202', 'intermediate-region-code': '017'}, {'name': 'Canada', 'alpha-2': 'CA', 'alpha-3': 'CAN', 'country-code': '124', 'iso_3166-2': 'ISO 3166-2:CA', 'region': 'Americas', 'sub-region': 'Northern America', 'intermediate-region': '', 'region-code': '019', 'sub-region-code': '021', 'intermediate-region-code': ''}, {'name': 'Cayman Islands', 'alpha-2': 'KY', 'alpha-3': 'CYM', 'country-code': '136', 'iso_3166-2': 'ISO 3166-2:KY', 'region': 'Americas', 'sub-region': 'Latin America and the Caribbean', 'intermediate-region': 'Caribbean', 'region-code': '019', 'sub-region-code': '419', 'intermediate-region-code': '029'}, {'name': 'Central African Republic', 'alpha-2': 'CF', 'alpha-3': 'CAF', 'country-code': '140', 'iso_3166-2': 'ISO 3166-2:CF', 'region': 'Africa', 'sub-region': 'Sub-Saharan Africa', 'intermediate-region': 'Middle Africa', 'region-code': '002', 'sub-region-code': '202', 'intermediate-region-code': '017'}, {'name': 'Chad', 'alpha-2': 'TD', 'alpha-3': 'TCD', 'country-code': '148', 'iso_3166-2': 'ISO 3166-2:TD', 'region': 'Africa', 'sub-region': 'Sub-Saharan Africa', 'intermediate-region': 'Middle Africa', 'region-code': '002', 'sub-region-code': '202', 'intermediate-region-code': '017'}, {'name': 'Chile', 'alpha-2': 'CL', 'alpha-3': 'CHL', 'country-code': '152', 'iso_3166-2': 'ISO 3166-2:CL', 'region': 'Americas', 'sub-region': 'Latin America and the Caribbean', 'intermediate-region': 'South America', 'region-code': '019', 'sub-region-code': '419', 'intermediate-region-code': '005'}, {'name': 'China', 'alpha-2': 'CN', 'alpha-3': 'CHN', 'country-code': '156', 'iso_3166-2': 'ISO 3166-2:CN', 'region': 'Asia', 'sub-region': 'Eastern Asia', 'intermediate-region': '', 'region-code': '142', 'sub-region-code': '030', 'intermediate-region-code': ''}, {'name': 'Christmas Island', 'alpha-2': 'CX', 'alpha-3': 'CXR', 'country-code': '162', 'iso_3166-2': 'ISO 3166-2:CX', 'region': 'Oceania', 'sub-region': 'Australia and New Zealand', 'intermediate-region': '', 'region-code': '009', 'sub-region-code': '053', 'intermediate-region-code': ''}, {'name': 'Cocos (Keeling) Islands', 'alpha-2': 'CC', 'alpha-3': 'CCK', 'country-code': '166', 'iso_3166-2': 'ISO 3166-2:CC', 'region': 'Oceania', 'sub-region': 'Australia and New Zealand', 'intermediate-region': '', 'region-code': '009', 'sub-region-code': '053', 'intermediate-region-code': ''}, {'name': 'Colombia', 'alpha-2': 'CO', 'alpha-3': 'COL', 'country-code': '170', 'iso_3166-2': 'ISO 3166-2:CO', 'region': 'Americas', 'sub-region': 'Latin America and the Caribbean', 'intermediate-region': 'South America', 'region-code': '019', 'sub-region-code': '419', 'intermediate-region-code': '005'}, {'name': 'Comoros', 'alpha-2': 'KM', 'alpha-3': 'COM', 'country-code': '174', 'iso_3166-2': 'ISO 3166-2:KM', 'region': 'Africa', 'sub-region': 'Sub-Saharan Africa', 'intermediate-region': 'Eastern Africa', 'region-code': '002', 'sub-region-code': '202', 'intermediate-region-code': '014'}, {'name': 'Congo', 'alpha-2': 'CG', 'alpha-3': 'COG', 'country-code': '178', 'iso_3166-2': 'ISO 3166-2:CG', 'region': 'Africa', 'sub-region': 'Sub-Saharan Africa', 'intermediate-region': 'Middle Africa', 'region-code': '002', 'sub-region-code': '202', 'intermediate-region-code': '017'}, {'name': 'Congo, Democratic Republic of the', 'alpha-2': 'CD', 'alpha-3': 'COD', 'country-code': '180', 'iso_3166-2': 'ISO 3166-2:CD', 'region': 'Africa', 'sub-region': 'Sub-Saharan Africa', 'intermediate-region': 'Middle Africa', 'region-code': '002', 'sub-region-code': '202', 'intermediate-region-code': '017'}, {'name': 'Cook Islands', 'alpha-2': 'CK', 'alpha-3': 'COK', 'country-code': '184', 'iso_3166-2': 'ISO 3166-2:CK', 'region': 'Oceania', 'sub-region': 'Polynesia', 'intermediate-region': '', 'region-code': '009', 'sub-region-code': '061', 'intermediate-region-code': ''}, {'name': 'Costa Rica', 'alpha-2': 'CR', 'alpha-3': 'CRI', 'country-code': '188', 'iso_3166-2': 'ISO 3166-2:CR', 'region': 'Americas', 'sub-region': 'Latin America and the Caribbean', 'intermediate-region': 'Central America', 'region-code': '019', 'sub-region-code': '419', 'intermediate-region-code': '013'}, {'name': \"Côte d'Ivoire\", 'alpha-2': 'CI', 'alpha-3': 'CIV', 'country-code': '384', 'iso_3166-2': 'ISO 3166-2:CI', 'region': 'Africa', 'sub-region': 'Sub-Saharan Africa', 'intermediate-region': 'Western Africa', 'region-code': '002', 'sub-region-code': '202', 'intermediate-region-code': '011'}, {'name': 'Croatia', 'alpha-2': 'HR', 'alpha-3': 'HRV', 'country-code': '191', 'iso_3166-2': 'ISO 3166-2:HR', 'region': 'Europe', 'sub-region': 'Southern Europe', 'intermediate-region': '', 'region-code': '150', 'sub-region-code': '039', 'intermediate-region-code': ''}, {'name': 'Cuba', 'alpha-2': 'CU', 'alpha-3': 'CUB', 'country-code': '192', 'iso_3166-2': 'ISO 3166-2:CU', 'region': 'Americas', 'sub-region': 'Latin America and the Caribbean', 'intermediate-region': 'Caribbean', 'region-code': '019', 'sub-region-code': '419', 'intermediate-region-code': '029'}, {'name': 'Curaçao', 'alpha-2': 'CW', 'alpha-3': 'CUW', 'country-code': '531', 'iso_3166-2': 'ISO 3166-2:CW', 'region': 'Americas', 'sub-region': 'Latin America and the Caribbean', 'intermediate-region': 'Caribbean', 'region-code': '019', 'sub-region-code': '419', 'intermediate-region-code': '029'}, {'name': 'Cyprus', 'alpha-2': 'CY', 'alpha-3': 'CYP', 'country-code': '196', 'iso_3166-2': 'ISO 3166-2:CY', 'region': 'Asia', 'sub-region': 'Western Asia', 'intermediate-region': '', 'region-code': '142', 'sub-region-code': '145', 'intermediate-region-code': ''}, {'name': 'Czech Republic', 'alpha-2': 'CZ', 'alpha-3': 'CZE', 'country-code': '203', 'iso_3166-2': 'ISO 3166-2:CZ', 'region': 'Europe', 'sub-region': 'Eastern Europe', 'intermediate-region': '', 'region-code': '150', 'sub-region-code': '151', 'intermediate-region-code': ''}, {'name': 'Denmark', 'alpha-2': 'DK', 'alpha-3': 'DNK', 'country-code': '208', 'iso_3166-2': 'ISO 3166-2:DK', 'region': 'Europe', 'sub-region': 'Northern Europe', 'intermediate-region': '', 'region-code': '150', 'sub-region-code': '154', 'intermediate-region-code': ''}, {'name': 'Djibouti', 'alpha-2': 'DJ', 'alpha-3': 'DJI', 'country-code': '262', 'iso_3166-2': 'ISO 3166-2:DJ', 'region': 'Africa', 'sub-region': 'Sub-Saharan Africa', 'intermediate-region': 'Eastern Africa', 'region-code': '002', 'sub-region-code': '202', 'intermediate-region-code': '014'}, {'name': 'Dominica', 'alpha-2': 'DM', 'alpha-3': 'DMA', 'country-code': '212', 'iso_3166-2': 'ISO 3166-2:DM', 'region': 'Americas', 'sub-region': 'Latin America and the Caribbean', 'intermediate-region': 'Caribbean', 'region-code': '019', 'sub-region-code': '419', 'intermediate-region-code': '029'}, {'name': 'Dominican Republic', 'alpha-2': 'DO', 'alpha-3': 'DOM', 'country-code': '214', 'iso_3166-2': 'ISO 3166-2:DO', 'region': 'Americas', 'sub-region': 'Latin America and the Caribbean', 'intermediate-region': 'Caribbean', 'region-code': '019', 'sub-region-code': '419', 'intermediate-region-code': '029'}, {'name': 'Ecuador', 'alpha-2': 'EC', 'alpha-3': 'ECU', 'country-code': '218', 'iso_3166-2': 'ISO 3166-2:EC', 'region': 'Americas', 'sub-region': 'Latin America and the Caribbean', 'intermediate-region': 'South America', 'region-code': '019', 'sub-region-code': '419', 'intermediate-region-code': '005'}, {'name': 'Egypt', 'alpha-2': 'EG', 'alpha-3': 'EGY', 'country-code': '818', 'iso_3166-2': 'ISO 3166-2:EG', 'region': 'Africa', 'sub-region': 'Northern Africa', 'intermediate-region': '', 'region-code': '002', 'sub-region-code': '015', 'intermediate-region-code': ''}, {'name': 'El Salvador', 'alpha-2': 'SV', 'alpha-3': 'SLV', 'country-code': '222', 'iso_3166-2': 'ISO 3166-2:SV', 'region': 'Americas', 'sub-region': 'Latin America and the Caribbean', 'intermediate-region': 'Central America', 'region-code': '019', 'sub-region-code': '419', 'intermediate-region-code': '013'}, {'name': 'Equatorial Guinea', 'alpha-2': 'GQ', 'alpha-3': 'GNQ', 'country-code': '226', 'iso_3166-2': 'ISO 3166-2:GQ', 'region': 'Africa', 'sub-region': 'Sub-Saharan Africa', 'intermediate-region': 'Middle Africa', 'region-code': '002', 'sub-region-code': '202', 'intermediate-region-code': '017'}, {'name': 'Eritrea', 'alpha-2': 'ER', 'alpha-3': 'ERI', 'country-code': '232', 'iso_3166-2': 'ISO 3166-2:ER', 'region': 'Africa', 'sub-region': 'Sub-Saharan Africa', 'intermediate-region': 'Eastern Africa', 'region-code': '002', 'sub-region-code': '202', 'intermediate-region-code': '014'}, {'name': 'Estonia', 'alpha-2': 'EE', 'alpha-3': 'EST', 'country-code': '233', 'iso_3166-2': 'ISO 3166-2:EE', 'region': 'Europe', 'sub-region': 'Northern Europe', 'intermediate-region': '', 'region-code': '150', 'sub-region-code': '154', 'intermediate-region-code': ''}, {'name': 'Eswatini', 'alpha-2': 'SZ', 'alpha-3': 'SWZ', 'country-code': '748', 'iso_3166-2': 'ISO 3166-2:SZ', 'region': 'Africa', 'sub-region': 'Sub-Saharan Africa', 'intermediate-region': 'Southern Africa', 'region-code': '002', 'sub-region-code': '202', 'intermediate-region-code': '018'}, {'name': 'Ethiopia', 'alpha-2': 'ET', 'alpha-3': 'ETH', 'country-code': '231', 'iso_3166-2': 'ISO 3166-2:ET', 'region': 'Africa', 'sub-region': 'Sub-Saharan Africa', 'intermediate-region': 'Eastern Africa', 'region-code': '002', 'sub-region-code': '202', 'intermediate-region-code': '014'}, {'name': 'Falkland Islands (Malvinas)', 'alpha-2': 'FK', 'alpha-3': 'FLK', 'country-code': '238', 'iso_3166-2': 'ISO 3166-2:FK', 'region': 'Americas', 'sub-region': 'Latin America and the Caribbean', 'intermediate-region': 'South America', 'region-code': '019', 'sub-region-code': '419', 'intermediate-region-code': '005'}, {'name': 'Faroe Islands', 'alpha-2': 'FO', 'alpha-3': 'FRO', 'country-code': '234', 'iso_3166-2': 'ISO 3166-2:FO', 'region': 'Europe', 'sub-region': 'Northern Europe', 'intermediate-region': '', 'region-code': '150', 'sub-region-code': '154', 'intermediate-region-code': ''}, {'name': 'Fiji', 'alpha-2': 'FJ', 'alpha-3': 'FJI', 'country-code': '242', 'iso_3166-2': 'ISO 3166-2:FJ', 'region': 'Oceania', 'sub-region': 'Melanesia', 'intermediate-region': '', 'region-code': '009', 'sub-region-code': '054', 'intermediate-region-code': ''}, {'name': 'Finland', 'alpha-2': 'FI', 'alpha-3': 'FIN', 'country-code': '246', 'iso_3166-2': 'ISO 3166-2:FI', 'region': 'Europe', 'sub-region': 'Northern Europe', 'intermediate-region': '', 'region-code': '150', 'sub-region-code': '154', 'intermediate-region-code': ''}, {'name': 'France', 'alpha-2': 'FR', 'alpha-3': 'FRA', 'country-code': '250', 'iso_3166-2': 'ISO 3166-2:FR', 'region': 'Europe', 'sub-region': 'Western Europe', 'intermediate-region': '', 'region-code': '150', 'sub-region-code': '155', 'intermediate-region-code': ''}, {'name': 'French Guiana', 'alpha-2': 'GF', 'alpha-3': 'GUF', 'country-code': '254', 'iso_3166-2': 'ISO 3166-2:GF', 'region': 'Americas', 'sub-region': 'Latin America and the Caribbean', 'intermediate-region': 'South America', 'region-code': '019', 'sub-region-code': '419', 'intermediate-region-code': '005'}, {'name': 'French Polynesia', 'alpha-2': 'PF', 'alpha-3': 'PYF', 'country-code': '258', 'iso_3166-2': 'ISO 3166-2:PF', 'region': 'Oceania', 'sub-region': 'Polynesia', 'intermediate-region': '', 'region-code': '009', 'sub-region-code': '061', 'intermediate-region-code': ''}, {'name': 'French Southern Territories', 'alpha-2': 'TF', 'alpha-3': 'ATF', 'country-code': '260', 'iso_3166-2': 'ISO 3166-2:TF', 'region': 'Africa', 'sub-region': 'Sub-Saharan Africa', 'intermediate-region': 'Eastern Africa', 'region-code': '002', 'sub-region-code': '202', 'intermediate-region-code': '014'}, {'name': 'Gabon', 'alpha-2': 'GA', 'alpha-3': 'GAB', 'country-code': '266', 'iso_3166-2': 'ISO 3166-2:GA', 'region': 'Africa', 'sub-region': 'Sub-Saharan Africa', 'intermediate-region': 'Middle Africa', 'region-code': '002', 'sub-region-code': '202', 'intermediate-region-code': '017'}, {'name': 'Gambia', 'alpha-2': 'GM', 'alpha-3': 'GMB', 'country-code': '270', 'iso_3166-2': 'ISO 3166-2:GM', 'region': 'Africa', 'sub-region': 'Sub-Saharan Africa', 'intermediate-region': 'Western Africa', 'region-code': '002', 'sub-region-code': '202', 'intermediate-region-code': '011'}, {'name': 'Georgia', 'alpha-2': 'GE', 'alpha-3': 'GEO', 'country-code': '268', 'iso_3166-2': 'ISO 3166-2:GE', 'region': 'Asia', 'sub-region': 'Western Asia', 'intermediate-region': '', 'region-code': '142', 'sub-region-code': '145', 'intermediate-region-code': ''}, {'name': 'Germany', 'alpha-2': 'DE', 'alpha-3': 'DEU', 'country-code': '276', 'iso_3166-2': 'ISO 3166-2:DE', 'region': 'Europe', 'sub-region': 'Western Europe', 'intermediate-region': '', 'region-code': '150', 'sub-region-code': '155', 'intermediate-region-code': ''}, {'name': 'Ghana', 'alpha-2': 'GH', 'alpha-3': 'GHA', 'country-code': '288', 'iso_3166-2': 'ISO 3166-2:GH', 'region': 'Africa', 'sub-region': 'Sub-Saharan Africa', 'intermediate-region': 'Western Africa', 'region-code': '002', 'sub-region-code': '202', 'intermediate-region-code': '011'}, {'name': 'Gibraltar', 'alpha-2': 'GI', 'alpha-3': 'GIB', 'country-code': '292', 'iso_3166-2': 'ISO 3166-2:GI', 'region': 'Europe', 'sub-region': 'Southern Europe', 'intermediate-region': '', 'region-code': '150', 'sub-region-code': '039', 'intermediate-region-code': ''}, {'name': 'Greece', 'alpha-2': 'GR', 'alpha-3': 'GRC', 'country-code': '300', 'iso_3166-2': 'ISO 3166-2:GR', 'region': 'Europe', 'sub-region': 'Southern Europe', 'intermediate-region': '', 'region-code': '150', 'sub-region-code': '039', 'intermediate-region-code': ''}, {'name': 'Greenland', 'alpha-2': 'GL', 'alpha-3': 'GRL', 'country-code': '304', 'iso_3166-2': 'ISO 3166-2:GL', 'region': 'Americas', 'sub-region': 'Northern America', 'intermediate-region': '', 'region-code': '019', 'sub-region-code': '021', 'intermediate-region-code': ''}, {'name': 'Grenada', 'alpha-2': 'GD', 'alpha-3': 'GRD', 'country-code': '308', 'iso_3166-2': 'ISO 3166-2:GD', 'region': 'Americas', 'sub-region': 'Latin America and the Caribbean', 'intermediate-region': 'Caribbean', 'region-code': '019', 'sub-region-code': '419', 'intermediate-region-code': '029'}, {'name': 'Guadeloupe', 'alpha-2': 'GP', 'alpha-3': 'GLP', 'country-code': '312', 'iso_3166-2': 'ISO 3166-2:GP', 'region': 'Americas', 'sub-region': 'Latin America and the Caribbean', 'intermediate-region': 'Caribbean', 'region-code': '019', 'sub-region-code': '419', 'intermediate-region-code': '029'}, {'name': 'Guam', 'alpha-2': 'GU', 'alpha-3': 'GUM', 'country-code': '316', 'iso_3166-2': 'ISO 3166-2:GU', 'region': 'Oceania', 'sub-region': 'Micronesia', 'intermediate-region': '', 'region-code': '009', 'sub-region-code': '057', 'intermediate-region-code': ''}, {'name': 'Guatemala', 'alpha-2': 'GT', 'alpha-3': 'GTM', 'country-code': '320', 'iso_3166-2': 'ISO 3166-2:GT', 'region': 'Americas', 'sub-region': 'Latin America and the Caribbean', 'intermediate-region': 'Central America', 'region-code': '019', 'sub-region-code': '419', 'intermediate-region-code': '013'}, {'name': 'Guernsey', 'alpha-2': 'GG', 'alpha-3': 'GGY', 'country-code': '831', 'iso_3166-2': 'ISO 3166-2:GG', 'region': 'Europe', 'sub-region': 'Northern Europe', 'intermediate-region': 'Channel Islands', 'region-code': '150', 'sub-region-code': '154', 'intermediate-region-code': '830'}, {'name': 'Guinea', 'alpha-2': 'GN', 'alpha-3': 'GIN', 'country-code': '324', 'iso_3166-2': 'ISO 3166-2:GN', 'region': 'Africa', 'sub-region': 'Sub-Saharan Africa', 'intermediate-region': 'Western Africa', 'region-code': '002', 'sub-region-code': '202', 'intermediate-region-code': '011'}, {'name': 'Guinea-Bissau', 'alpha-2': 'GW', 'alpha-3': 'GNB', 'country-code': '624', 'iso_3166-2': 'ISO 3166-2:GW', 'region': 'Africa', 'sub-region': 'Sub-Saharan Africa', 'intermediate-region': 'Western Africa', 'region-code': '002', 'sub-region-code': '202', 'intermediate-region-code': '011'}, {'name': 'Guyana', 'alpha-2': 'GY', 'alpha-3': 'GUY', 'country-code': '328', 'iso_3166-2': 'ISO 3166-2:GY', 'region': 'Americas', 'sub-region': 'Latin America and the Caribbean', 'intermediate-region': 'South America', 'region-code': '019', 'sub-region-code': '419', 'intermediate-region-code': '005'}, {'name': 'Haiti', 'alpha-2': 'HT', 'alpha-3': 'HTI', 'country-code': '332', 'iso_3166-2': 'ISO 3166-2:HT', 'region': 'Americas', 'sub-region': 'Latin America and the Caribbean', 'intermediate-region': 'Caribbean', 'region-code': '019', 'sub-region-code': '419', 'intermediate-region-code': '029'}, {'name': 'Heard Island and McDonald Islands', 'alpha-2': 'HM', 'alpha-3': 'HMD', 'country-code': '334', 'iso_3166-2': 'ISO 3166-2:HM', 'region': 'Oceania', 'sub-region': 'Australia and New Zealand', 'intermediate-region': '', 'region-code': '009', 'sub-region-code': '053', 'intermediate-region-code': ''}, {'name': 'Holy See', 'alpha-2': 'VA', 'alpha-3': 'VAT', 'country-code': '336', 'iso_3166-2': 'ISO 3166-2:VA', 'region': 'Europe', 'sub-region': 'Southern Europe', 'intermediate-region': '', 'region-code': '150', 'sub-region-code': '039', 'intermediate-region-code': ''}, {'name': 'Honduras', 'alpha-2': 'HN', 'alpha-3': 'HND', 'country-code': '340', 'iso_3166-2': 'ISO 3166-2:HN', 'region': 'Americas', 'sub-region': 'Latin America and the Caribbean', 'intermediate-region': 'Central America', 'region-code': '019', 'sub-region-code': '419', 'intermediate-region-code': '013'}, {'name': 'Hong Kong', 'alpha-2': 'HK', 'alpha-3': 'HKG', 'country-code': '344', 'iso_3166-2': 'ISO 3166-2:HK', 'region': 'Asia', 'sub-region': 'Eastern Asia', 'intermediate-region': '', 'region-code': '142', 'sub-region-code': '030', 'intermediate-region-code': ''}, {'name': 'Hungary', 'alpha-2': 'HU', 'alpha-3': 'HUN', 'country-code': '348', 'iso_3166-2': 'ISO 3166-2:HU', 'region': 'Europe', 'sub-region': 'Eastern Europe', 'intermediate-region': '', 'region-code': '150', 'sub-region-code': '151', 'intermediate-region-code': ''}, {'name': 'Iceland', 'alpha-2': 'IS', 'alpha-3': 'ISL', 'country-code': '352', 'iso_3166-2': 'ISO 3166-2:IS', 'region': 'Europe', 'sub-region': 'Northern Europe', 'intermediate-region': '', 'region-code': '150', 'sub-region-code': '154', 'intermediate-region-code': ''}, {'name': 'India', 'alpha-2': 'IN', 'alpha-3': 'IND', 'country-code': '356', 'iso_3166-2': 'ISO 3166-2:IN', 'region': 'Asia', 'sub-region': 'Southern Asia', 'intermediate-region': '', 'region-code': '142', 'sub-region-code': '034', 'intermediate-region-code': ''}, {'name': 'Indonesia', 'alpha-2': 'ID', 'alpha-3': 'IDN', 'country-code': '360', 'iso_3166-2': 'ISO 3166-2:ID', 'region': 'Asia', 'sub-region': 'South-eastern Asia', 'intermediate-region': '', 'region-code': '142', 'sub-region-code': '035', 'intermediate-region-code': ''}, {'name': 'Iran (Islamic Republic of)', 'alpha-2': 'IR', 'alpha-3': 'IRN', 'country-code': '364', 'iso_3166-2': 'ISO 3166-2:IR', 'region': 'Asia', 'sub-region': 'Southern Asia', 'intermediate-region': '', 'region-code': '142', 'sub-region-code': '034', 'intermediate-region-code': ''}, {'name': 'Iraq', 'alpha-2': 'IQ', 'alpha-3': 'IRQ', 'country-code': '368', 'iso_3166-2': 'ISO 3166-2:IQ', 'region': 'Asia', 'sub-region': 'Western Asia', 'intermediate-region': '', 'region-code': '142', 'sub-region-code': '145', 'intermediate-region-code': ''}, {'name': 'Ireland', 'alpha-2': 'IE', 'alpha-3': 'IRL', 'country-code': '372', 'iso_3166-2': 'ISO 3166-2:IE', 'region': 'Europe', 'sub-region': 'Northern Europe', 'intermediate-region': '', 'region-code': '150', 'sub-region-code': '154', 'intermediate-region-code': ''}, {'name': 'Isle of Man', 'alpha-2': 'IM', 'alpha-3': 'IMN', 'country-code': '833', 'iso_3166-2': 'ISO 3166-2:IM', 'region': 'Europe', 'sub-region': 'Northern Europe', 'intermediate-region': '', 'region-code': '150', 'sub-region-code': '154', 'intermediate-region-code': ''}, {'name': 'Israel', 'alpha-2': 'IL', 'alpha-3': 'ISR', 'country-code': '376', 'iso_3166-2': 'ISO 3166-2:IL', 'region': 'Asia', 'sub-region': 'Western Asia', 'intermediate-region': '', 'region-code': '142', 'sub-region-code': '145', 'intermediate-region-code': ''}, {'name': 'Italy', 'alpha-2': 'IT', 'alpha-3': 'ITA', 'country-code': '380', 'iso_3166-2': 'ISO 3166-2:IT', 'region': 'Europe', 'sub-region': 'Southern Europe', 'intermediate-region': '', 'region-code': '150', 'sub-region-code': '039', 'intermediate-region-code': ''}, {'name': 'Jamaica', 'alpha-2': 'JM', 'alpha-3': 'JAM', 'country-code': '388', 'iso_3166-2': 'ISO 3166-2:JM', 'region': 'Americas', 'sub-region': 'Latin America and the Caribbean', 'intermediate-region': 'Caribbean', 'region-code': '019', 'sub-region-code': '419', 'intermediate-region-code': '029'}, {'name': 'Japan', 'alpha-2': 'JP', 'alpha-3': 'JPN', 'country-code': '392', 'iso_3166-2': 'ISO 3166-2:JP', 'region': 'Asia', 'sub-region': 'Eastern Asia', 'intermediate-region': '', 'region-code': '142', 'sub-region-code': '030', 'intermediate-region-code': ''}, {'name': 'Jersey', 'alpha-2': 'JE', 'alpha-3': 'JEY', 'country-code': '832', 'iso_3166-2': 'ISO 3166-2:JE', 'region': 'Europe', 'sub-region': 'Northern Europe', 'intermediate-region': 'Channel Islands', 'region-code': '150', 'sub-region-code': '154', 'intermediate-region-code': '830'}, {'name': 'Jordan', 'alpha-2': 'JO', 'alpha-3': 'JOR', 'country-code': '400', 'iso_3166-2': 'ISO 3166-2:JO', 'region': 'Asia', 'sub-region': 'Western Asia', 'intermediate-region': '', 'region-code': '142', 'sub-region-code': '145', 'intermediate-region-code': ''}, {'name': 'Kazakhstan', 'alpha-2': 'KZ', 'alpha-3': 'KAZ', 'country-code': '398', 'iso_3166-2': 'ISO 3166-2:KZ', 'region': 'Asia', 'sub-region': 'Central Asia', 'intermediate-region': '', 'region-code': '142', 'sub-region-code': '143', 'intermediate-region-code': ''}, {'name': 'Kenya', 'alpha-2': 'KE', 'alpha-3': 'KEN', 'country-code': '404', 'iso_3166-2': 'ISO 3166-2:KE', 'region': 'Africa', 'sub-region': 'Sub-Saharan Africa', 'intermediate-region': 'Eastern Africa', 'region-code': '002', 'sub-region-code': '202', 'intermediate-region-code': '014'}, {'name': 'Kiribati', 'alpha-2': 'KI', 'alpha-3': 'KIR', 'country-code': '296', 'iso_3166-2': 'ISO 3166-2:KI', 'region': 'Oceania', 'sub-region': 'Micronesia', 'intermediate-region': '', 'region-code': '009', 'sub-region-code': '057', 'intermediate-region-code': ''}, {'name': \"Korea (Democratic People's Republic of)\", 'alpha-2': 'KP', 'alpha-3': 'PRK', 'country-code': '408', 'iso_3166-2': 'ISO 3166-2:KP', 'region': 'Asia', 'sub-region': 'Eastern Asia', 'intermediate-region': '', 'region-code': '142', 'sub-region-code': '030', 'intermediate-region-code': ''}, {'name': 'South Korea', 'alpha-2': 'KR', 'alpha-3': 'KOR', 'country-code': '410', 'iso_3166-2': 'ISO 3166-2:KR', 'region': 'Asia', 'sub-region': 'Eastern Asia', 'intermediate-region': '', 'region-code': '142', 'sub-region-code': '030', 'intermediate-region-code': ''}, {'name': 'Kuwait', 'alpha-2': 'KW', 'alpha-3': 'KWT', 'country-code': '414', 'iso_3166-2': 'ISO 3166-2:KW', 'region': 'Asia', 'sub-region': 'Western Asia', 'intermediate-region': '', 'region-code': '142', 'sub-region-code': '145', 'intermediate-region-code': ''}, {'name': 'Kyrgyzstan', 'alpha-2': 'KG', 'alpha-3': 'KGZ', 'country-code': '417', 'iso_3166-2': 'ISO 3166-2:KG', 'region': 'Asia', 'sub-region': 'Central Asia', 'intermediate-region': '', 'region-code': '142', 'sub-region-code': '143', 'intermediate-region-code': ''}, {'name': \"Lao People's Democratic Republic\", 'alpha-2': 'LA', 'alpha-3': 'LAO', 'country-code': '418', 'iso_3166-2': 'ISO 3166-2:LA', 'region': 'Asia', 'sub-region': 'South-eastern Asia', 'intermediate-region': '', 'region-code': '142', 'sub-region-code': '035', 'intermediate-region-code': ''}, {'name': 'Latvia', 'alpha-2': 'LV', 'alpha-3': 'LVA', 'country-code': '428', 'iso_3166-2': 'ISO 3166-2:LV', 'region': 'Europe', 'sub-region': 'Northern Europe', 'intermediate-region': '', 'region-code': '150', 'sub-region-code': '154', 'intermediate-region-code': ''}, {'name': 'Lebanon', 'alpha-2': 'LB', 'alpha-3': 'LBN', 'country-code': '422', 'iso_3166-2': 'ISO 3166-2:LB', 'region': 'Asia', 'sub-region': 'Western Asia', 'intermediate-region': '', 'region-code': '142', 'sub-region-code': '145', 'intermediate-region-code': ''}, {'name': 'Lesotho', 'alpha-2': 'LS', 'alpha-3': 'LSO', 'country-code': '426', 'iso_3166-2': 'ISO 3166-2:LS', 'region': 'Africa', 'sub-region': 'Sub-Saharan Africa', 'intermediate-region': 'Southern Africa', 'region-code': '002', 'sub-region-code': '202', 'intermediate-region-code': '018'}, {'name': 'Liberia', 'alpha-2': 'LR', 'alpha-3': 'LBR', 'country-code': '430', 'iso_3166-2': 'ISO 3166-2:LR', 'region': 'Africa', 'sub-region': 'Sub-Saharan Africa', 'intermediate-region': 'Western Africa', 'region-code': '002', 'sub-region-code': '202', 'intermediate-region-code': '011'}, {'name': 'Libya', 'alpha-2': 'LY', 'alpha-3': 'LBY', 'country-code': '434', 'iso_3166-2': 'ISO 3166-2:LY', 'region': 'Africa', 'sub-region': 'Northern Africa', 'intermediate-region': '', 'region-code': '002', 'sub-region-code': '015', 'intermediate-region-code': ''}, {'name': 'Liechtenstein', 'alpha-2': 'LI', 'alpha-3': 'LIE', 'country-code': '438', 'iso_3166-2': 'ISO 3166-2:LI', 'region': 'Europe', 'sub-region': 'Western Europe', 'intermediate-region': '', 'region-code': '150', 'sub-region-code': '155', 'intermediate-region-code': ''}, {'name': 'Lithuania', 'alpha-2': 'LT', 'alpha-3': 'LTU', 'country-code': '440', 'iso_3166-2': 'ISO 3166-2:LT', 'region': 'Europe', 'sub-region': 'Northern Europe', 'intermediate-region': '', 'region-code': '150', 'sub-region-code': '154', 'intermediate-region-code': ''}, {'name': 'Luxembourg', 'alpha-2': 'LU', 'alpha-3': 'LUX', 'country-code': '442', 'iso_3166-2': 'ISO 3166-2:LU', 'region': 'Europe', 'sub-region': 'Western Europe', 'intermediate-region': '', 'region-code': '150', 'sub-region-code': '155', 'intermediate-region-code': ''}, {'name': 'Macao', 'alpha-2': 'MO', 'alpha-3': 'MAC', 'country-code': '446', 'iso_3166-2': 'ISO 3166-2:MO', 'region': 'Asia', 'sub-region': 'Eastern Asia', 'intermediate-region': '', 'region-code': '142', 'sub-region-code': '030', 'intermediate-region-code': ''}, {'name': 'Madagascar', 'alpha-2': 'MG', 'alpha-3': 'MDG', 'country-code': '450', 'iso_3166-2': 'ISO 3166-2:MG', 'region': 'Africa', 'sub-region': 'Sub-Saharan Africa', 'intermediate-region': 'Eastern Africa', 'region-code': '002', 'sub-region-code': '202', 'intermediate-region-code': '014'}, {'name': 'Malawi', 'alpha-2': 'MW', 'alpha-3': 'MWI', 'country-code': '454', 'iso_3166-2': 'ISO 3166-2:MW', 'region': 'Africa', 'sub-region': 'Sub-Saharan Africa', 'intermediate-region': 'Eastern Africa', 'region-code': '002', 'sub-region-code': '202', 'intermediate-region-code': '014'}, {'name': 'Malaysia', 'alpha-2': 'MY', 'alpha-3': 'MYS', 'country-code': '458', 'iso_3166-2': 'ISO 3166-2:MY', 'region': 'Asia', 'sub-region': 'South-eastern Asia', 'intermediate-region': '', 'region-code': '142', 'sub-region-code': '035', 'intermediate-region-code': ''}, {'name': 'Maldives', 'alpha-2': 'MV', 'alpha-3': 'MDV', 'country-code': '462', 'iso_3166-2': 'ISO 3166-2:MV', 'region': 'Asia', 'sub-region': 'Southern Asia', 'intermediate-region': '', 'region-code': '142', 'sub-region-code': '034', 'intermediate-region-code': ''}, {'name': 'Mali', 'alpha-2': 'ML', 'alpha-3': 'MLI', 'country-code': '466', 'iso_3166-2': 'ISO 3166-2:ML', 'region': 'Africa', 'sub-region': 'Sub-Saharan Africa', 'intermediate-region': 'Western Africa', 'region-code': '002', 'sub-region-code': '202', 'intermediate-region-code': '011'}, {'name': 'Malta', 'alpha-2': 'MT', 'alpha-3': 'MLT', 'country-code': '470', 'iso_3166-2': 'ISO 3166-2:MT', 'region': 'Europe', 'sub-region': 'Southern Europe', 'intermediate-region': '', 'region-code': '150', 'sub-region-code': '039', 'intermediate-region-code': ''}, {'name': 'Marshall Islands', 'alpha-2': 'MH', 'alpha-3': 'MHL', 'country-code': '584', 'iso_3166-2': 'ISO 3166-2:MH', 'region': 'Oceania', 'sub-region': 'Micronesia', 'intermediate-region': '', 'region-code': '009', 'sub-region-code': '057', 'intermediate-region-code': ''}, {'name': 'Martinique', 'alpha-2': 'MQ', 'alpha-3': 'MTQ', 'country-code': '474', 'iso_3166-2': 'ISO 3166-2:MQ', 'region': 'Americas', 'sub-region': 'Latin America and the Caribbean', 'intermediate-region': 'Caribbean', 'region-code': '019', 'sub-region-code': '419', 'intermediate-region-code': '029'}, {'name': 'Mauritania', 'alpha-2': 'MR', 'alpha-3': 'MRT', 'country-code': '478', 'iso_3166-2': 'ISO 3166-2:MR', 'region': 'Africa', 'sub-region': 'Sub-Saharan Africa', 'intermediate-region': 'Western Africa', 'region-code': '002', 'sub-region-code': '202', 'intermediate-region-code': '011'}, {'name': 'Mauritius', 'alpha-2': 'MU', 'alpha-3': 'MUS', 'country-code': '480', 'iso_3166-2': 'ISO 3166-2:MU', 'region': 'Africa', 'sub-region': 'Sub-Saharan Africa', 'intermediate-region': 'Eastern Africa', 'region-code': '002', 'sub-region-code': '202', 'intermediate-region-code': '014'}, {'name': 'Mayotte', 'alpha-2': 'YT', 'alpha-3': 'MYT', 'country-code': '175', 'iso_3166-2': 'ISO 3166-2:YT', 'region': 'Africa', 'sub-region': 'Sub-Saharan Africa', 'intermediate-region': 'Eastern Africa', 'region-code': '002', 'sub-region-code': '202', 'intermediate-region-code': '014'}, {'name': 'Mexico', 'alpha-2': 'MX', 'alpha-3': 'MEX', 'country-code': '484', 'iso_3166-2': 'ISO 3166-2:MX', 'region': 'Americas', 'sub-region': 'Latin America and the Caribbean', 'intermediate-region': 'Central America', 'region-code': '019', 'sub-region-code': '419', 'intermediate-region-code': '013'}, {'name': 'Federated States of Micronesia', 'alpha-2': 'FM', 'alpha-3': 'FSM', 'country-code': '583', 'iso_3166-2': 'ISO 3166-2:FM', 'region': 'Oceania', 'sub-region': 'Micronesia', 'intermediate-region': '', 'region-code': '009', 'sub-region-code': '057', 'intermediate-region-code': ''}, {'name': 'Moldova, Republic of', 'alpha-2': 'MD', 'alpha-3': 'MDA', 'country-code': '498', 'iso_3166-2': 'ISO 3166-2:MD', 'region': 'Europe', 'sub-region': 'Eastern Europe', 'intermediate-region': '', 'region-code': '150', 'sub-region-code': '151', 'intermediate-region-code': ''}, {'name': 'Monaco', 'alpha-2': 'MC', 'alpha-3': 'MCO', 'country-code': '492', 'iso_3166-2': 'ISO 3166-2:MC', 'region': 'Europe', 'sub-region': 'Western Europe', 'intermediate-region': '', 'region-code': '150', 'sub-region-code': '155', 'intermediate-region-code': ''}, {'name': 'Mongolia', 'alpha-2': 'MN', 'alpha-3': 'MNG', 'country-code': '496', 'iso_3166-2': 'ISO 3166-2:MN', 'region': 'Asia', 'sub-region': 'Eastern Asia', 'intermediate-region': '', 'region-code': '142', 'sub-region-code': '030', 'intermediate-region-code': ''}, {'name': 'Montenegro', 'alpha-2': 'ME', 'alpha-3': 'MNE', 'country-code': '499', 'iso_3166-2': 'ISO 3166-2:ME', 'region': 'Europe', 'sub-region': 'Southern Europe', 'intermediate-region': '', 'region-code': '150', 'sub-region-code': '039', 'intermediate-region-code': ''}, {'name': 'Montserrat', 'alpha-2': 'MS', 'alpha-3': 'MSR', 'country-code': '500', 'iso_3166-2': 'ISO 3166-2:MS', 'region': 'Americas', 'sub-region': 'Latin America and the Caribbean', 'intermediate-region': 'Caribbean', 'region-code': '019', 'sub-region-code': '419', 'intermediate-region-code': '029'}, {'name': 'Morocco', 'alpha-2': 'MA', 'alpha-3': 'MAR', 'country-code': '504', 'iso_3166-2': 'ISO 3166-2:MA', 'region': 'Africa', 'sub-region': 'Northern Africa', 'intermediate-region': '', 'region-code': '002', 'sub-region-code': '015', 'intermediate-region-code': ''}, {'name': 'Mozambique', 'alpha-2': 'MZ', 'alpha-3': 'MOZ', 'country-code': '508', 'iso_3166-2': 'ISO 3166-2:MZ', 'region': 'Africa', 'sub-region': 'Sub-Saharan Africa', 'intermediate-region': 'Eastern Africa', 'region-code': '002', 'sub-region-code': '202', 'intermediate-region-code': '014'}, {'name': 'Myanmar', 'alpha-2': 'MM', 'alpha-3': 'MMR', 'country-code': '104', 'iso_3166-2': 'ISO 3166-2:MM', 'region': 'Asia', 'sub-region': 'South-eastern Asia', 'intermediate-region': '', 'region-code': '142', 'sub-region-code': '035', 'intermediate-region-code': ''}, {'name': 'Namibia', 'alpha-2': 'NA', 'alpha-3': 'NAM', 'country-code': '516', 'iso_3166-2': 'ISO 3166-2:NA', 'region': 'Africa', 'sub-region': 'Sub-Saharan Africa', 'intermediate-region': 'Southern Africa', 'region-code': '002', 'sub-region-code': '202', 'intermediate-region-code': '018'}, {'name': 'Nauru', 'alpha-2': 'NR', 'alpha-3': 'NRU', 'country-code': '520', 'iso_3166-2': 'ISO 3166-2:NR', 'region': 'Oceania', 'sub-region': 'Micronesia', 'intermediate-region': '', 'region-code': '009', 'sub-region-code': '057', 'intermediate-region-code': ''}, {'name': 'Nepal', 'alpha-2': 'NP', 'alpha-3': 'NPL', 'country-code': '524', 'iso_3166-2': 'ISO 3166-2:NP', 'region': 'Asia', 'sub-region': 'Southern Asia', 'intermediate-region': '', 'region-code': '142', 'sub-region-code': '034', 'intermediate-region-code': ''}, {'name': 'Netherlands', 'alpha-2': 'NL', 'alpha-3': 'NLD', 'country-code': '528', 'iso_3166-2': 'ISO 3166-2:NL', 'region': 'Europe', 'sub-region': 'Western Europe', 'intermediate-region': '', 'region-code': '150', 'sub-region-code': '155', 'intermediate-region-code': ''}, {'name': 'New Caledonia', 'alpha-2': 'NC', 'alpha-3': 'NCL', 'country-code': '540', 'iso_3166-2': 'ISO 3166-2:NC', 'region': 'Oceania', 'sub-region': 'Melanesia', 'intermediate-region': '', 'region-code': '009', 'sub-region-code': '054', 'intermediate-region-code': ''}, {'name': 'New Zealand', 'alpha-2': 'NZ', 'alpha-3': 'NZL', 'country-code': '554', 'iso_3166-2': 'ISO 3166-2:NZ', 'region': 'Oceania', 'sub-region': 'Australia and New Zealand', 'intermediate-region': '', 'region-code': '009', 'sub-region-code': '053', 'intermediate-region-code': ''}, {'name': 'Nicaragua', 'alpha-2': 'NI', 'alpha-3': 'NIC', 'country-code': '558', 'iso_3166-2': 'ISO 3166-2:NI', 'region': 'Americas', 'sub-region': 'Latin America and the Caribbean', 'intermediate-region': 'Central America', 'region-code': '019', 'sub-region-code': '419', 'intermediate-region-code': '013'}, {'name': 'Niger', 'alpha-2': 'NE', 'alpha-3': 'NER', 'country-code': '562', 'iso_3166-2': 'ISO 3166-2:NE', 'region': 'Africa', 'sub-region': 'Sub-Saharan Africa', 'intermediate-region': 'Western Africa', 'region-code': '002', 'sub-region-code': '202', 'intermediate-region-code': '011'}, {'name': 'Nigeria', 'alpha-2': 'NG', 'alpha-3': 'NGA', 'country-code': '566', 'iso_3166-2': 'ISO 3166-2:NG', 'region': 'Africa', 'sub-region': 'Sub-Saharan Africa', 'intermediate-region': 'Western Africa', 'region-code': '002', 'sub-region-code': '202', 'intermediate-region-code': '011'}, {'name': 'Niue', 'alpha-2': 'NU', 'alpha-3': 'NIU', 'country-code': '570', 'iso_3166-2': 'ISO 3166-2:NU', 'region': 'Oceania', 'sub-region': 'Polynesia', 'intermediate-region': '', 'region-code': '009', 'sub-region-code': '061', 'intermediate-region-code': ''}, {'name': 'Norfolk Island', 'alpha-2': 'NF', 'alpha-3': 'NFK', 'country-code': '574', 'iso_3166-2': 'ISO 3166-2:NF', 'region': 'Oceania', 'sub-region': 'Australia and New Zealand', 'intermediate-region': '', 'region-code': '009', 'sub-region-code': '053', 'intermediate-region-code': ''}, {'name': 'North Macedonia', 'alpha-2': 'MK', 'alpha-3': 'MKD', 'country-code': '807', 'iso_3166-2': 'ISO 3166-2:MK', 'region': 'Europe', 'sub-region': 'Southern Europe', 'intermediate-region': '', 'region-code': '150', 'sub-region-code': '039', 'intermediate-region-code': ''}, {'name': 'Northern Mariana Islands', 'alpha-2': 'MP', 'alpha-3': 'MNP', 'country-code': '580', 'iso_3166-2': 'ISO 3166-2:MP', 'region': 'Oceania', 'sub-region': 'Micronesia', 'intermediate-region': '', 'region-code': '009', 'sub-region-code': '057', 'intermediate-region-code': ''}, {'name': 'Norway', 'alpha-2': 'NO', 'alpha-3': 'NOR', 'country-code': '578', 'iso_3166-2': 'ISO 3166-2:NO', 'region': 'Europe', 'sub-region': 'Northern Europe', 'intermediate-region': '', 'region-code': '150', 'sub-region-code': '154', 'intermediate-region-code': ''}, {'name': 'Oman', 'alpha-2': 'OM', 'alpha-3': 'OMN', 'country-code': '512', 'iso_3166-2': 'ISO 3166-2:OM', 'region': 'Asia', 'sub-region': 'Western Asia', 'intermediate-region': '', 'region-code': '142', 'sub-region-code': '145', 'intermediate-region-code': ''}, {'name': 'Pakistan', 'alpha-2': 'PK', 'alpha-3': 'PAK', 'country-code': '586', 'iso_3166-2': 'ISO 3166-2:PK', 'region': 'Asia', 'sub-region': 'Southern Asia', 'intermediate-region': '', 'region-code': '142', 'sub-region-code': '034', 'intermediate-region-code': ''}, {'name': 'Palau', 'alpha-2': 'PW', 'alpha-3': 'PLW', 'country-code': '585', 'iso_3166-2': 'ISO 3166-2:PW', 'region': 'Oceania', 'sub-region': 'Micronesia', 'intermediate-region': '', 'region-code': '009', 'sub-region-code': '057', 'intermediate-region-code': ''}, {'name': 'Palestine, State of', 'alpha-2': 'PS', 'alpha-3': 'PSE', 'country-code': '275', 'iso_3166-2': 'ISO 3166-2:PS', 'region': 'Asia', 'sub-region': 'Western Asia', 'intermediate-region': '', 'region-code': '142', 'sub-region-code': '145', 'intermediate-region-code': ''}, {'name': 'Panama', 'alpha-2': 'PA', 'alpha-3': 'PAN', 'country-code': '591', 'iso_3166-2': 'ISO 3166-2:PA', 'region': 'Americas', 'sub-region': 'Latin America and the Caribbean', 'intermediate-region': 'Central America', 'region-code': '019', 'sub-region-code': '419', 'intermediate-region-code': '013'}, {'name': 'Papua New Guinea', 'alpha-2': 'PG', 'alpha-3': 'PNG', 'country-code': '598', 'iso_3166-2': 'ISO 3166-2:PG', 'region': 'Oceania', 'sub-region': 'Melanesia', 'intermediate-region': '', 'region-code': '009', 'sub-region-code': '054', 'intermediate-region-code': ''}, {'name': 'Paraguay', 'alpha-2': 'PY', 'alpha-3': 'PRY', 'country-code': '600', 'iso_3166-2': 'ISO 3166-2:PY', 'region': 'Americas', 'sub-region': 'Latin America and the Caribbean', 'intermediate-region': 'South America', 'region-code': '019', 'sub-region-code': '419', 'intermediate-region-code': '005'}, {'name': 'Peru', 'alpha-2': 'PE', 'alpha-3': 'PER', 'country-code': '604', 'iso_3166-2': 'ISO 3166-2:PE', 'region': 'Americas', 'sub-region': 'Latin America and the Caribbean', 'intermediate-region': 'South America', 'region-code': '019', 'sub-region-code': '419', 'intermediate-region-code': '005'}, {'name': 'Philippines', 'alpha-2': 'PH', 'alpha-3': 'PHL', 'country-code': '608', 'iso_3166-2': 'ISO 3166-2:PH', 'region': 'Asia', 'sub-region': 'South-eastern Asia', 'intermediate-region': '', 'region-code': '142', 'sub-region-code': '035', 'intermediate-region-code': ''}, {'name': 'Pitcairn', 'alpha-2': 'PN', 'alpha-3': 'PCN', 'country-code': '612', 'iso_3166-2': 'ISO 3166-2:PN', 'region': 'Oceania', 'sub-region': 'Polynesia', 'intermediate-region': '', 'region-code': '009', 'sub-region-code': '061', 'intermediate-region-code': ''}, {'name': 'Poland', 'alpha-2': 'PL', 'alpha-3': 'POL', 'country-code': '616', 'iso_3166-2': 'ISO 3166-2:PL', 'region': 'Europe', 'sub-region': 'Eastern Europe', 'intermediate-region': '', 'region-code': '150', 'sub-region-code': '151', 'intermediate-region-code': ''}, {'name': 'Portugal', 'alpha-2': 'PT', 'alpha-3': 'PRT', 'country-code': '620', 'iso_3166-2': 'ISO 3166-2:PT', 'region': 'Europe', 'sub-region': 'Southern Europe', 'intermediate-region': '', 'region-code': '150', 'sub-region-code': '039', 'intermediate-region-code': ''}, {'name': 'Puerto Rico', 'alpha-2': 'PR', 'alpha-3': 'PRI', 'country-code': '630', 'iso_3166-2': 'ISO 3166-2:PR', 'region': 'Americas', 'sub-region': 'Latin America and the Caribbean', 'intermediate-region': 'Caribbean', 'region-code': '019', 'sub-region-code': '419', 'intermediate-region-code': '029'}, {'name': 'Qatar', 'alpha-2': 'QA', 'alpha-3': 'QAT', 'country-code': '634', 'iso_3166-2': 'ISO 3166-2:QA', 'region': 'Asia', 'sub-region': 'Western Asia', 'intermediate-region': '', 'region-code': '142', 'sub-region-code': '145', 'intermediate-region-code': ''}, {'name': 'Réunion', 'alpha-2': 'RE', 'alpha-3': 'REU', 'country-code': '638', 'iso_3166-2': 'ISO 3166-2:RE', 'region': 'Africa', 'sub-region': 'Sub-Saharan Africa', 'intermediate-region': 'Eastern Africa', 'region-code': '002', 'sub-region-code': '202', 'intermediate-region-code': '014'}, {'name': 'Romania', 'alpha-2': 'RO', 'alpha-3': 'ROU', 'country-code': '642', 'iso_3166-2': 'ISO 3166-2:RO', 'region': 'Europe', 'sub-region': 'Eastern Europe', 'intermediate-region': '', 'region-code': '150', 'sub-region-code': '151', 'intermediate-region-code': ''}, {'name': 'Russian Federation', 'alpha-2': 'RU', 'alpha-3': 'RUS', 'country-code': '643', 'iso_3166-2': 'ISO 3166-2:RU', 'region': 'Europe', 'sub-region': 'Eastern Europe', 'intermediate-region': '', 'region-code': '150', 'sub-region-code': '151', 'intermediate-region-code': ''}, {'name': 'Rwanda', 'alpha-2': 'RW', 'alpha-3': 'RWA', 'country-code': '646', 'iso_3166-2': 'ISO 3166-2:RW', 'region': 'Africa', 'sub-region': 'Sub-Saharan Africa', 'intermediate-region': 'Eastern Africa', 'region-code': '002', 'sub-region-code': '202', 'intermediate-region-code': '014'}, {'name': 'Saint Barthélemy', 'alpha-2': 'BL', 'alpha-3': 'BLM', 'country-code': '652', 'iso_3166-2': 'ISO 3166-2:BL', 'region': 'Americas', 'sub-region': 'Latin America and the Caribbean', 'intermediate-region': 'Caribbean', 'region-code': '019', 'sub-region-code': '419', 'intermediate-region-code': '029'}, {'name': 'Saint Helena, Ascension and Tristan da Cunha', 'alpha-2': 'SH', 'alpha-3': 'SHN', 'country-code': '654', 'iso_3166-2': 'ISO 3166-2:SH', 'region': 'Africa', 'sub-region': 'Sub-Saharan Africa', 'intermediate-region': 'Western Africa', 'region-code': '002', 'sub-region-code': '202', 'intermediate-region-code': '011'}, {'name': 'Saint Kitts and Nevis', 'alpha-2': 'KN', 'alpha-3': 'KNA', 'country-code': '659', 'iso_3166-2': 'ISO 3166-2:KN', 'region': 'Americas', 'sub-region': 'Latin America and the Caribbean', 'intermediate-region': 'Caribbean', 'region-code': '019', 'sub-region-code': '419', 'intermediate-region-code': '029'}, {'name': 'Saint Lucia', 'alpha-2': 'LC', 'alpha-3': 'LCA', 'country-code': '662', 'iso_3166-2': 'ISO 3166-2:LC', 'region': 'Americas', 'sub-region': 'Latin America and the Caribbean', 'intermediate-region': 'Caribbean', 'region-code': '019', 'sub-region-code': '419', 'intermediate-region-code': '029'}, {'name': 'Saint Martin (French part)', 'alpha-2': 'MF', 'alpha-3': 'MAF', 'country-code': '663', 'iso_3166-2': 'ISO 3166-2:MF', 'region': 'Americas', 'sub-region': 'Latin America and the Caribbean', 'intermediate-region': 'Caribbean', 'region-code': '019', 'sub-region-code': '419', 'intermediate-region-code': '029'}, {'name': 'Saint Pierre and Miquelon', 'alpha-2': 'PM', 'alpha-3': 'SPM', 'country-code': '666', 'iso_3166-2': 'ISO 3166-2:PM', 'region': 'Americas', 'sub-region': 'Northern America', 'intermediate-region': '', 'region-code': '019', 'sub-region-code': '021', 'intermediate-region-code': ''}, {'name': 'Saint Vincent and the Grenadines', 'alpha-2': 'VC', 'alpha-3': 'VCT', 'country-code': '670', 'iso_3166-2': 'ISO 3166-2:VC', 'region': 'Americas', 'sub-region': 'Latin America and the Caribbean', 'intermediate-region': 'Caribbean', 'region-code': '019', 'sub-region-code': '419', 'intermediate-region-code': '029'}, {'name': 'Samoa', 'alpha-2': 'WS', 'alpha-3': 'WSM', 'country-code': '882', 'iso_3166-2': 'ISO 3166-2:WS', 'region': 'Oceania', 'sub-region': 'Polynesia', 'intermediate-region': '', 'region-code': '009', 'sub-region-code': '061', 'intermediate-region-code': ''}, {'name': 'San Marino', 'alpha-2': 'SM', 'alpha-3': 'SMR', 'country-code': '674', 'iso_3166-2': 'ISO 3166-2:SM', 'region': 'Europe', 'sub-region': 'Southern Europe', 'intermediate-region': '', 'region-code': '150', 'sub-region-code': '039', 'intermediate-region-code': ''}, {'name': 'Sao Tome and Principe', 'alpha-2': 'ST', 'alpha-3': 'STP', 'country-code': '678', 'iso_3166-2': 'ISO 3166-2:ST', 'region': 'Africa', 'sub-region': 'Sub-Saharan Africa', 'intermediate-region': 'Middle Africa', 'region-code': '002', 'sub-region-code': '202', 'intermediate-region-code': '017'}, {'name': 'Saudi Arabia', 'alpha-2': 'SA', 'alpha-3': 'SAU', 'country-code': '682', 'iso_3166-2': 'ISO 3166-2:SA', 'region': 'Asia', 'sub-region': 'Western Asia', 'intermediate-region': '', 'region-code': '142', 'sub-region-code': '145', 'intermediate-region-code': ''}, {'name': 'Senegal', 'alpha-2': 'SN', 'alpha-3': 'SEN', 'country-code': '686', 'iso_3166-2': 'ISO 3166-2:SN', 'region': 'Africa', 'sub-region': 'Sub-Saharan Africa', 'intermediate-region': 'Western Africa', 'region-code': '002', 'sub-region-code': '202', 'intermediate-region-code': '011'}, {'name': 'Serbia', 'alpha-2': 'RS', 'alpha-3': 'SRB', 'country-code': '688', 'iso_3166-2': 'ISO 3166-2:RS', 'region': 'Europe', 'sub-region': 'Southern Europe', 'intermediate-region': '', 'region-code': '150', 'sub-region-code': '039', 'intermediate-region-code': ''}, {'name': 'Seychelles', 'alpha-2': 'SC', 'alpha-3': 'SYC', 'country-code': '690', 'iso_3166-2': 'ISO 3166-2:SC', 'region': 'Africa', 'sub-region': 'Sub-Saharan Africa', 'intermediate-region': 'Eastern Africa', 'region-code': '002', 'sub-region-code': '202', 'intermediate-region-code': '014'}, {'name': 'Sierra Leone', 'alpha-2': 'SL', 'alpha-3': 'SLE', 'country-code': '694', 'iso_3166-2': 'ISO 3166-2:SL', 'region': 'Africa', 'sub-region': 'Sub-Saharan Africa', 'intermediate-region': 'Western Africa', 'region-code': '002', 'sub-region-code': '202', 'intermediate-region-code': '011'}, {'name': 'Singapore', 'alpha-2': 'SG', 'alpha-3': 'SGP', 'country-code': '702', 'iso_3166-2': 'ISO 3166-2:SG', 'region': 'Asia', 'sub-region': 'South-eastern Asia', 'intermediate-region': '', 'region-code': '142', 'sub-region-code': '035', 'intermediate-region-code': ''}, {'name': 'Sint Maarten (Dutch part)', 'alpha-2': 'SX', 'alpha-3': 'SXM', 'country-code': '534', 'iso_3166-2': 'ISO 3166-2:SX', 'region': 'Americas', 'sub-region': 'Latin America and the Caribbean', 'intermediate-region': 'Caribbean', 'region-code': '019', 'sub-region-code': '419', 'intermediate-region-code': '029'}, {'name': 'Slovakia', 'alpha-2': 'SK', 'alpha-3': 'SVK', 'country-code': '703', 'iso_3166-2': 'ISO 3166-2:SK', 'region': 'Europe', 'sub-region': 'Eastern Europe', 'intermediate-region': '', 'region-code': '150', 'sub-region-code': '151', 'intermediate-region-code': ''}, {'name': 'Slovenia', 'alpha-2': 'SI', 'alpha-3': 'SVN', 'country-code': '705', 'iso_3166-2': 'ISO 3166-2:SI', 'region': 'Europe', 'sub-region': 'Southern Europe', 'intermediate-region': '', 'region-code': '150', 'sub-region-code': '039', 'intermediate-region-code': ''}, {'name': 'Solomon Islands', 'alpha-2': 'SB', 'alpha-3': 'SLB', 'country-code': '090', 'iso_3166-2': 'ISO 3166-2:SB', 'region': 'Oceania', 'sub-region': 'Melanesia', 'intermediate-region': '', 'region-code': '009', 'sub-region-code': '054', 'intermediate-region-code': ''}, {'name': 'Somalia', 'alpha-2': 'SO', 'alpha-3': 'SOM', 'country-code': '706', 'iso_3166-2': 'ISO 3166-2:SO', 'region': 'Africa', 'sub-region': 'Sub-Saharan Africa', 'intermediate-region': 'Eastern Africa', 'region-code': '002', 'sub-region-code': '202', 'intermediate-region-code': '014'}, {'name': 'South Africa', 'alpha-2': 'ZA', 'alpha-3': 'ZAF', 'country-code': '710', 'iso_3166-2': 'ISO 3166-2:ZA', 'region': 'Africa', 'sub-region': 'Sub-Saharan Africa', 'intermediate-region': 'Southern Africa', 'region-code': '002', 'sub-region-code': '202', 'intermediate-region-code': '018'}, {'name': 'South Georgia and the South Sandwich Islands', 'alpha-2': 'GS', 'alpha-3': 'SGS', 'country-code': '239', 'iso_3166-2': 'ISO 3166-2:GS', 'region': 'Americas', 'sub-region': 'Latin America and the Caribbean', 'intermediate-region': 'South America', 'region-code': '019', 'sub-region-code': '419', 'intermediate-region-code': '005'}, {'name': 'South Sudan', 'alpha-2': 'SS', 'alpha-3': 'SSD', 'country-code': '728', 'iso_3166-2': 'ISO 3166-2:SS', 'region': 'Africa', 'sub-region': 'Sub-Saharan Africa', 'intermediate-region': 'Eastern Africa', 'region-code': '002', 'sub-region-code': '202', 'intermediate-region-code': '014'}, {'name': 'Spain', 'alpha-2': 'ES', 'alpha-3': 'ESP', 'country-code': '724', 'iso_3166-2': 'ISO 3166-2:ES', 'region': 'Europe', 'sub-region': 'Southern Europe', 'intermediate-region': '', 'region-code': '150', 'sub-region-code': '039', 'intermediate-region-code': ''}, {'name': 'Sri Lanka', 'alpha-2': 'LK', 'alpha-3': 'LKA', 'country-code': '144', 'iso_3166-2': 'ISO 3166-2:LK', 'region': 'Asia', 'sub-region': 'Southern Asia', 'intermediate-region': '', 'region-code': '142', 'sub-region-code': '034', 'intermediate-region-code': ''}, {'name': 'Sudan', 'alpha-2': 'SD', 'alpha-3': 'SDN', 'country-code': '729', 'iso_3166-2': 'ISO 3166-2:SD', 'region': 'Africa', 'sub-region': 'Northern Africa', 'intermediate-region': '', 'region-code': '002', 'sub-region-code': '015', 'intermediate-region-code': ''}, {'name': 'Suriname', 'alpha-2': 'SR', 'alpha-3': 'SUR', 'country-code': '740', 'iso_3166-2': 'ISO 3166-2:SR', 'region': 'Americas', 'sub-region': 'Latin America and the Caribbean', 'intermediate-region': 'South America', 'region-code': '019', 'sub-region-code': '419', 'intermediate-region-code': '005'}, {'name': 'Svalbard and Jan Mayen', 'alpha-2': 'SJ', 'alpha-3': 'SJM', 'country-code': '744', 'iso_3166-2': 'ISO 3166-2:SJ', 'region': 'Europe', 'sub-region': 'Northern Europe', 'intermediate-region': '', 'region-code': '150', 'sub-region-code': '154', 'intermediate-region-code': ''}, {'name': 'Sweden', 'alpha-2': 'SE', 'alpha-3': 'SWE', 'country-code': '752', 'iso_3166-2': 'ISO 3166-2:SE', 'region': 'Europe', 'sub-region': 'Northern Europe', 'intermediate-region': '', 'region-code': '150', 'sub-region-code': '154', 'intermediate-region-code': ''}, {'name': 'Switzerland', 'alpha-2': 'CH', 'alpha-3': 'CHE', 'country-code': '756', 'iso_3166-2': 'ISO 3166-2:CH', 'region': 'Europe', 'sub-region': 'Western Europe', 'intermediate-region': '', 'region-code': '150', 'sub-region-code': '155', 'intermediate-region-code': ''}, {'name': 'Syrian Arab Republic', 'alpha-2': 'SY', 'alpha-3': 'SYR', 'country-code': '760', 'iso_3166-2': 'ISO 3166-2:SY', 'region': 'Asia', 'sub-region': 'Western Asia', 'intermediate-region': '', 'region-code': '142', 'sub-region-code': '145', 'intermediate-region-code': ''}, {'name': 'Taiwan, Province of China', 'alpha-2': 'TW', 'alpha-3': 'TWN', 'country-code': '158', 'iso_3166-2': 'ISO 3166-2:TW', 'region': 'Asia', 'sub-region': 'Eastern Asia', 'intermediate-region': '', 'region-code': '142', 'sub-region-code': '030', 'intermediate-region-code': ''}, {'name': 'Tajikistan', 'alpha-2': 'TJ', 'alpha-3': 'TJK', 'country-code': '762', 'iso_3166-2': 'ISO 3166-2:TJ', 'region': 'Asia', 'sub-region': 'Central Asia', 'intermediate-region': '', 'region-code': '142', 'sub-region-code': '143', 'intermediate-region-code': ''}, {'name': 'Tanzania, United Republic of', 'alpha-2': 'TZ', 'alpha-3': 'TZA', 'country-code': '834', 'iso_3166-2': 'ISO 3166-2:TZ', 'region': 'Africa', 'sub-region': 'Sub-Saharan Africa', 'intermediate-region': 'Eastern Africa', 'region-code': '002', 'sub-region-code': '202', 'intermediate-region-code': '014'}, {'name': 'Thailand', 'alpha-2': 'TH', 'alpha-3': 'THA', 'country-code': '764', 'iso_3166-2': 'ISO 3166-2:TH', 'region': 'Asia', 'sub-region': 'South-eastern Asia', 'intermediate-region': '', 'region-code': '142', 'sub-region-code': '035', 'intermediate-region-code': ''}, {'name': 'Timor-Leste', 'alpha-2': 'TL', 'alpha-3': 'TLS', 'country-code': '626', 'iso_3166-2': 'ISO 3166-2:TL', 'region': 'Asia', 'sub-region': 'South-eastern Asia', 'intermediate-region': '', 'region-code': '142', 'sub-region-code': '035', 'intermediate-region-code': ''}, {'name': 'Togo', 'alpha-2': 'TG', 'alpha-3': 'TGO', 'country-code': '768', 'iso_3166-2': 'ISO 3166-2:TG', 'region': 'Africa', 'sub-region': 'Sub-Saharan Africa', 'intermediate-region': 'Western Africa', 'region-code': '002', 'sub-region-code': '202', 'intermediate-region-code': '011'}, {'name': 'Tokelau', 'alpha-2': 'TK', 'alpha-3': 'TKL', 'country-code': '772', 'iso_3166-2': 'ISO 3166-2:TK', 'region': 'Oceania', 'sub-region': 'Polynesia', 'intermediate-region': '', 'region-code': '009', 'sub-region-code': '061', 'intermediate-region-code': ''}, {'name': 'Tonga', 'alpha-2': 'TO', 'alpha-3': 'TON', 'country-code': '776', 'iso_3166-2': 'ISO 3166-2:TO', 'region': 'Oceania', 'sub-region': 'Polynesia', 'intermediate-region': '', 'region-code': '009', 'sub-region-code': '061', 'intermediate-region-code': ''}, {'name': 'Trinidad and Tobago', 'alpha-2': 'TT', 'alpha-3': 'TTO', 'country-code': '780', 'iso_3166-2': 'ISO 3166-2:TT', 'region': 'Americas', 'sub-region': 'Latin America and the Caribbean', 'intermediate-region': 'Caribbean', 'region-code': '019', 'sub-region-code': '419', 'intermediate-region-code': '029'}, {'name': 'Tunisia', 'alpha-2': 'TN', 'alpha-3': 'TUN', 'country-code': '788', 'iso_3166-2': 'ISO 3166-2:TN', 'region': 'Africa', 'sub-region': 'Northern Africa', 'intermediate-region': '', 'region-code': '002', 'sub-region-code': '015', 'intermediate-region-code': ''}, {'name': 'Turkey', 'alpha-2': 'TR', 'alpha-3': 'TUR', 'country-code': '792', 'iso_3166-2': 'ISO 3166-2:TR', 'region': 'Asia', 'sub-region': 'Western Asia', 'intermediate-region': '', 'region-code': '142', 'sub-region-code': '145', 'intermediate-region-code': ''}, {'name': 'Turkmenistan', 'alpha-2': 'TM', 'alpha-3': 'TKM', 'country-code': '795', 'iso_3166-2': 'ISO 3166-2:TM', 'region': 'Asia', 'sub-region': 'Central Asia', 'intermediate-region': '', 'region-code': '142', 'sub-region-code': '143', 'intermediate-region-code': ''}, {'name': 'Turks and Caicos Islands', 'alpha-2': 'TC', 'alpha-3': 'TCA', 'country-code': '796', 'iso_3166-2': 'ISO 3166-2:TC', 'region': 'Americas', 'sub-region': 'Latin America and the Caribbean', 'intermediate-region': 'Caribbean', 'region-code': '019', 'sub-region-code': '419', 'intermediate-region-code': '029'}, {'name': 'Tuvalu', 'alpha-2': 'TV', 'alpha-3': 'TUV', 'country-code': '798', 'iso_3166-2': 'ISO 3166-2:TV', 'region': 'Oceania', 'sub-region': 'Polynesia', 'intermediate-region': '', 'region-code': '009', 'sub-region-code': '061', 'intermediate-region-code': ''}, {'name': 'Uganda', 'alpha-2': 'UG', 'alpha-3': 'UGA', 'country-code': '800', 'iso_3166-2': 'ISO 3166-2:UG', 'region': 'Africa', 'sub-region': 'Sub-Saharan Africa', 'intermediate-region': 'Eastern Africa', 'region-code': '002', 'sub-region-code': '202', 'intermediate-region-code': '014'}, {'name': 'Ukraine', 'alpha-2': 'UA', 'alpha-3': 'UKR', 'country-code': '804', 'iso_3166-2': 'ISO 3166-2:UA', 'region': 'Europe', 'sub-region': 'Eastern Europe', 'intermediate-region': '', 'region-code': '150', 'sub-region-code': '151', 'intermediate-region-code': ''}, {'name': 'United Arab Emirates', 'alpha-2': 'AE', 'alpha-3': 'ARE', 'country-code': '784', 'iso_3166-2': 'ISO 3166-2:AE', 'region': 'Asia', 'sub-region': 'Western Asia', 'intermediate-region': '', 'region-code': '142', 'sub-region-code': '145', 'intermediate-region-code': ''}, {'name': 'United Kingdom of Great Britain and Northern Ireland', 'alpha-2': 'GB', 'alpha-3': 'GBR', 'country-code': '826', 'iso_3166-2': 'ISO 3166-2:GB', 'region': 'Europe', 'sub-region': 'Northern Europe', 'intermediate-region': '', 'region-code': '150', 'sub-region-code': '154', 'intermediate-region-code': ''}, {'name': 'United States of America', 'alpha-2': 'US', 'alpha-3': 'USA', 'country-code': '840', 'iso_3166-2': 'ISO 3166-2:US', 'region': 'Americas', 'sub-region': 'Northern America', 'intermediate-region': '', 'region-code': '019', 'sub-region-code': '021', 'intermediate-region-code': ''}, {'name': 'United States Minor Outlying Islands', 'alpha-2': 'UM', 'alpha-3': 'UMI', 'country-code': '581', 'iso_3166-2': 'ISO 3166-2:UM', 'region': 'Oceania', 'sub-region': 'Micronesia', 'intermediate-region': '', 'region-code': '009', 'sub-region-code': '057', 'intermediate-region-code': ''}, {'name': 'Uruguay', 'alpha-2': 'UY', 'alpha-3': 'URY', 'country-code': '858', 'iso_3166-2': 'ISO 3166-2:UY', 'region': 'Americas', 'sub-region': 'Latin America and the Caribbean', 'intermediate-region': 'South America', 'region-code': '019', 'sub-region-code': '419', 'intermediate-region-code': '005'}, {'name': 'Uzbekistan', 'alpha-2': 'UZ', 'alpha-3': 'UZB', 'country-code': '860', 'iso_3166-2': 'ISO 3166-2:UZ', 'region': 'Asia', 'sub-region': 'Central Asia', 'intermediate-region': '', 'region-code': '142', 'sub-region-code': '143', 'intermediate-region-code': ''}, {'name': 'Vanuatu', 'alpha-2': 'VU', 'alpha-3': 'VUT', 'country-code': '548', 'iso_3166-2': 'ISO 3166-2:VU', 'region': 'Oceania', 'sub-region': 'Melanesia', 'intermediate-region': '', 'region-code': '009', 'sub-region-code': '054', 'intermediate-region-code': ''}, {'name': 'Venezuela (Bolivarian Republic of)', 'alpha-2': 'VE', 'alpha-3': 'VEN', 'country-code': '862', 'iso_3166-2': 'ISO 3166-2:VE', 'region': 'Americas', 'sub-region': 'Latin America and the Caribbean', 'intermediate-region': 'South America', 'region-code': '019', 'sub-region-code': '419', 'intermediate-region-code': '005'}, {'name': 'Viet Nam', 'alpha-2': 'VN', 'alpha-3': 'VNM', 'country-code': '704', 'iso_3166-2': 'ISO 3166-2:VN', 'region': 'Asia', 'sub-region': 'South-eastern Asia', 'intermediate-region': '', 'region-code': '142', 'sub-region-code': '035', 'intermediate-region-code': ''}, {'name': 'Virgin Islands (British)', 'alpha-2': 'VG', 'alpha-3': 'VGB', 'country-code': '092', 'iso_3166-2': 'ISO 3166-2:VG', 'region': 'Americas', 'sub-region': 'Latin America and the Caribbean', 'intermediate-region': 'Caribbean', 'region-code': '019', 'sub-region-code': '419', 'intermediate-region-code': '029'}, {'name': 'Virgin Islands (U.S.)', 'alpha-2': 'VI', 'alpha-3': 'VIR', 'country-code': '850', 'iso_3166-2': 'ISO 3166-2:VI', 'region': 'Americas', 'sub-region': 'Latin America and the Caribbean', 'intermediate-region': 'Caribbean', 'region-code': '019', 'sub-region-code': '419', 'intermediate-region-code': '029'}, {'name': 'Wallis and Futuna', 'alpha-2': 'WF', 'alpha-3': 'WLF', 'country-code': '876', 'iso_3166-2': 'ISO 3166-2:WF', 'region': 'Oceania', 'sub-region': 'Polynesia', 'intermediate-region': '', 'region-code': '009', 'sub-region-code': '061', 'intermediate-region-code': ''}, {'name': 'Western Sahara', 'alpha-2': 'EH', 'alpha-3': 'ESH', 'country-code': '732', 'iso_3166-2': 'ISO 3166-2:EH', 'region': 'Africa', 'sub-region': 'Northern Africa', 'intermediate-region': '', 'region-code': '002', 'sub-region-code': '015', 'intermediate-region-code': ''}, {'name': 'Yemen', 'alpha-2': 'YE', 'alpha-3': 'YEM', 'country-code': '887', 'iso_3166-2': 'ISO 3166-2:YE', 'region': 'Asia', 'sub-region': 'Western Asia', 'intermediate-region': '', 'region-code': '142', 'sub-region-code': '145', 'intermediate-region-code': ''}, {'name': 'Zambia', 'alpha-2': 'ZM', 'alpha-3': 'ZMB', 'country-code': '894', 'iso_3166-2': 'ISO 3166-2:ZM', 'region': 'Africa', 'sub-region': 'Sub-Saharan Africa', 'intermediate-region': 'Eastern Africa', 'region-code': '002', 'sub-region-code': '202', 'intermediate-region-code': '014'}, {'name': 'Zimbabwe', 'alpha-2': 'ZW', 'alpha-3': 'ZWE', 'country-code': '716', 'iso_3166-2': 'ISO 3166-2:ZW', 'region': 'Africa', 'sub-region': 'Sub-Saharan Africa', 'intermediate-region': 'Eastern Africa', 'region-code': '002', 'sub-region-code': '202', 'intermediate-region-code': '014'}]\n"
                    ]
                }
            ],
            "source": [
                "countriesJsonPath = \"./in/countries.json\"\n",
                "\n",
                "with open(countriesJsonPath, \"r\", encoding=\"utf-8\") as json_file:\n",
                "    countriesJson = json.load(json_file)\n",
                "print(countriesJson)"
            ]
        },
        {
            "cell_type": "code",
            "execution_count": 30,
            "metadata": {},
            "outputs": [
                {
                    "name": "stdout",
                    "output_type": "stream",
                    "text": [
                        "Country Confederate States of America not found in countries.json\n",
                        "Country Soviet Union not found in countries.json\n",
                        "Country Yugoslavia not found in countries.json\n",
                        "Country Notes not found in countries.json\n"
                    ]
                }
            ],
            "source": [
                "FlagsCodes = {}\n",
                "\n",
                "for country, regions in flags.items():\n",
                "    code = None\n",
                "    for countryJson in countriesJson:\n",
                "        countryName: str = countryJson[\"name\"]\n",
                "        if countryName.find(country) != -1 or country.find(countryName) != -1:\n",
                "            code = countryJson[\"alpha-2\"]\n",
                "            break\n",
                "        \n",
                "    if code is None:\n",
                "        print(f\"Country {country} not found in countries.json\")\n",
                "        continue\n",
                "\n",
                "    FlagsCodes[code] = {\n",
                "        \"name\": country,\n",
                "        \"regions\": regions\n",
                "    }\n"
            ]
        },
        {
            "cell_type": "code",
            "execution_count": 8,
            "metadata": {},
            "outputs": [],
            "source": [
                "flagCodesPath = \"out/flags_codes.json\""
            ]
        },
        {
            "cell_type": "code",
            "execution_count": 32,
            "metadata": {},
            "outputs": [],
            "source": [
                "\n",
                "json_data = json.dumps(FlagsCodes, indent=4, ensure_ascii=False).encode('utf8').decode()\n",
                "with open(flagCodesPath, \"w\") as json_file:\n",
                "    json_file.write(json_data)"
            ]
        },
        {
            "cell_type": "code",
            "execution_count": 9,
            "metadata": {},
            "outputs": [],
            "source": [
                "with open(flagCodesPath, \"r\", encoding=\"utf-8\") as json_file:\n",
                "    FlagsCodes = json.load(json_file)\n"
            ]
        },
        {
            "cell_type": "code",
            "execution_count": 10,
            "metadata": {},
            "outputs": [],
            "source": [
                "flags = FlagsCodes\n"
            ]
        },
        {
            "cell_type": "markdown",
            "metadata": {},
            "source": [
                "## Add Native name to countries\n"
            ]
        },
        {
            "cell_type": "code",
            "execution_count": 11,
            "metadata": {},
            "outputs": [],
            "source": [
                "countriesNativeJson = fetchData(\n",
                "    \"https://raw.githubusercontent.com/tomeralmog/zipcode-kml/master/countries.json\")\n"
            ]
        },
        {
            "cell_type": "code",
            "execution_count": 12,
            "metadata": {},
            "outputs": [
                {
                    "name": "stdout",
                    "output_type": "stream",
                    "text": [
                        "Country AQ Antarctica not found in countries.json\n",
                        "Country DM Dominican Republic not found in countries.json\n",
                        "Country LR Liberia not found in countries.json\n",
                        "Country SR Suriname not found in countries.json\n",
                        "Country TW Taiwan not found in countries.json\n"
                    ]
                }
            ],
            "source": [
                "for countryCode, country in flags.items():\n",
                "    countryName = country[\"name\"]\n",
                "    nativeCountryRows = [\n",
                "        countryRow for countryRow in countriesNativeJson if countryRow[\"countryName\"] == countryName]\n",
                "\n",
                "    if len(nativeCountryRows) == 0:\n",
                "        # Fix Netherlands and The Netherlands mismatch exception\n",
                "        exceptionCountries = {\"NL\": \"The Netherlands\",\n",
                "                              \"PT\": \"Portugual\", \"HR\": \"Czechia\", \"DO\": \"Dominica Republic\", \"CZ\": \"Czechia\"}\n",
                "        if countryCode in exceptionCountries.keys():\n",
                "            countryName = exceptionCountries[countryCode]\n",
                "            nativeCountryRows = [\n",
                "                countryRow for countryRow in countriesNativeJson if countryRow[\"countryName\"] == countryName]\n",
                "        else:\n",
                "            print(\n",
                "                f\"Country {countryCode} {countryName} not found in countries.json\")\n",
                "            continue\n",
                "\n",
                "    nativeCountryRow = nativeCountryRows[0]\n",
                "    nativeCountryName: str = nativeCountryRow[\"nativeCountryName\"]\n",
                "    nativeCountryName = nativeCountryName.split(\",\")[0].split(\"|\")[0]\n",
                "    country[\"nativeName\"] = nativeCountryName\n",
                "    # Reorder regions to appear after nativeName\n",
                "    regCopy = country[\"regions\"]\n",
                "    del country[\"regions\"]\n",
                "    country[\"regions\"] = regCopy\n"
            ]
        },
        {
            "cell_type": "markdown",
            "metadata": {},
            "source": [
                "## Add ISO 3166-2 codes to regions\n",
                "\n",
                "Using Open Street Maps API: https://nominatim.openstreetmap.org/ui/search.html\n"
            ]
        },
        {
            "cell_type": "code",
            "execution_count": 13,
            "metadata": {},
            "outputs": [],
            "source": [
                "urlSearch = \"https://nominatim.openstreetmap.org/search.php?q=$1&countrycodes=$2&format=jsonv2\"\n",
                "\n",
                "\n",
                "def getSearchURL(regionName, countryCode):\n",
                "    return urlSearch.replace(\"$1\", regionName).replace(\"$2\", countryCode)\n",
                "\n",
                "\n",
                "urlReverseId = \"https://nominatim.openstreetmap.org/details.php?osmtype=R&osmid=$1&format=json\"\n",
                "\n",
                "\n",
                "def getReverseIdURL(id):\n",
                "    return urlReverseId.replace(\"$1\", id)\n"
            ]
        },
        {
            "cell_type": "code",
            "execution_count": 14,
            "metadata": {},
            "outputs": [
                {
                    "name": "stdout",
                    "output_type": "stream",
                    "text": [
                        "AL\n",
                        "Request failed with status code: 403\n",
                        "No match data\n",
                        "Request failed with status code: 403\n",
                        "No match data\n",
                        "Request failed with status code: 403\n",
                        "No match data\n",
                        "Request failed with status code: 403\n",
                        "No match data\n",
                        "Request failed with status code: 403\n",
                        "No match data\n",
                        "Request failed with status code: 403\n",
                        "No match data\n",
                        "Request failed with status code: 403\n",
                        "No match data\n",
                        "Request failed with status code: 403\n",
                        "No match data\n",
                        "Request failed with status code: 403\n",
                        "No match data\n",
                        "Request failed with status code: 403\n",
                        "No match data\n",
                        "Request failed with status code: 403\n",
                        "No match data\n",
                        "AD\n"
                    ]
                },
                {
                    "ename": "KeyboardInterrupt",
                    "evalue": "",
                    "output_type": "error",
                    "traceback": [
                        "\u001b[1;31m---------------------------------------------------------------------------\u001b[0m",
                        "\u001b[1;31mKeyboardInterrupt\u001b[0m                         Traceback (most recent call last)",
                        "Cell \u001b[1;32mIn[14], line 42\u001b[0m\n\u001b[0;32m     39\u001b[0m \u001b[38;5;28mprint\u001b[39m(countryCode)\n\u001b[0;32m     40\u001b[0m regionsMap \u001b[38;5;241m=\u001b[39m {}\n\u001b[1;32m---> 42\u001b[0m \u001b[43mtime\u001b[49m\u001b[38;5;241;43m.\u001b[39;49m\u001b[43msleep\u001b[49m\u001b[43m(\u001b[49m\u001b[38;5;241;43m60\u001b[39;49m\u001b[43m)\u001b[49m\n\u001b[0;32m     43\u001b[0m \u001b[38;5;28;01mfor\u001b[39;00m region \u001b[38;5;129;01min\u001b[39;00m country[\u001b[38;5;124m'\u001b[39m\u001b[38;5;124mregions\u001b[39m\u001b[38;5;124m'\u001b[39m]:\n\u001b[0;32m     44\u001b[0m     name \u001b[38;5;241m=\u001b[39m region[\u001b[38;5;124m'\u001b[39m\u001b[38;5;124mname\u001b[39m\u001b[38;5;124m'\u001b[39m]\n",
                        "\u001b[1;31mKeyboardInterrupt\u001b[0m: "
                    ]
                }
            ],
            "source": [
                "import time\n",
                "flagsRegionCodes = copy.deepcopy(FlagsCodes)\n",
                "\n",
                "\n",
                "def addResult(regionsMap, region, name, matchData):\n",
                "    id = matchData['osm_id']\n",
                "    detailsUrl = getReverseIdURL(str(id))\n",
                "    print(id)\n",
                "    detailsData = fetchData(detailsUrl)\n",
                "\n",
                "    if detailsData is None:\n",
                "        print(\"No details data\")\n",
                "        print(region)\n",
                "        return False\n",
                "\n",
                "    isoCode = detailsData['names'].get('ISO3166-2')\n",
                "\n",
                "    if isoCode is None:\n",
                "        print(\"No ISO Code\")\n",
                "        print(region)\n",
                "        return False\n",
                "\n",
                "    nativeName = detailsData['names'].get('name')\n",
                "\n",
                "    if isoCode in regionsMap:\n",
                "        print(\"ISO code already exists ISO: \" + isoCode)\n",
                "        print(region)\n",
                "        return False\n",
                "\n",
                "    regionsMap[isoCode] = {\n",
                "        \"name\": name,\n",
                "        \"nativeName\": nativeName,\n",
                "        \"flag\": region['flag']\n",
                "    }\n",
                "    return True\n",
                "\n",
                "\n",
                "for countryCode, country in FlagsCodes.items():\n",
                "    print(countryCode)\n",
                "    regionsMap = {}\n",
                "    \n",
                "    time.sleep(60)\n",
                "    for region in country['regions']:\n",
                "        name = region['name']\n",
                "        api_url = getSearchURL(name, countryCode)\n",
                "\n",
                "        data = fetchData(api_url)\n",
                "        if data:\n",
                "            it = (d for d in data if d.get(\"type\") == \"administrative\")\n",
                "\n",
                "            matchData = next(it, None)\n",
                "\n",
                "            while matchData:\n",
                "                suceed = addResult(regionsMap, region, name, matchData)\n",
                "                if not suceed:\n",
                "                    matchData = next(it, None)\n",
                "                    if matchData is not None:\n",
                "                        print(\"Trying next match\")\n",
                "                else:\n",
                "                    matchData = None\n",
                "\n",
                "        else:\n",
                "            print(\"No match data\")\n",
                "\n",
                "    flagsRegionCodes[countryCode]['regions'] = regionsMap\n"
            ]
        },
        {
            "cell_type": "code",
            "execution_count": 39,
            "metadata": {},
            "outputs": [],
            "source": [
                "flags = flagsRegionCodes"
            ]
        },
        {
            "cell_type": "markdown",
            "metadata": {},
            "source": [
                "## Unescape characters in flags links"
            ]
        },
        {
            "cell_type": "code",
            "execution_count": 40,
            "metadata": {},
            "outputs": [],
            "source": [
                "\n",
                "for country in flags:\n",
                "    regions = flags[country]['regions']\n",
                "    for region in regions.values():\n",
                "        flag = region['flag']\n",
                "        region['flag'] = urllib.parse.unquote(flag)\n"
            ]
        },
        {
            "cell_type": "markdown",
            "metadata": {},
            "source": [
                "## Save final auto flags\n"
            ]
        },
        {
            "cell_type": "code",
            "execution_count": 41,
            "metadata": {},
            "outputs": [
                {
                    "name": "stdout",
                    "output_type": "stream",
                    "text": [
                        "JSON data has been saved to out/flags_auto.json\n"
                    ]
                }
            ],
            "source": [
                "json_data = json.dumps(\n",
                "    flags, indent=4, ensure_ascii=False).encode('utf8').decode()\n",
                "file_path = \"out/flags_auto.json\"\n",
                "with open(file_path, \"w\") as json_file:\n",
                "    json_file.write(json_data)\n",
                "\n",
                "print(\"JSON data has been saved to\", file_path)\n"
            ]
        }
    ],
    "metadata": {
        "kernelspec": {
            "display_name": "base",
            "language": "python",
            "name": "python3"
        },
        "language_info": {
            "codemirror_mode": {
                "name": "ipython",
                "version": 3
            },
            "file_extension": ".py",
            "mimetype": "text/x-python",
            "name": "python",
            "nbconvert_exporter": "python",
            "pygments_lexer": "ipython3",
            "version": "3.10.13"
        },
        "orig_nbformat": 4
    },
    "nbformat": 4,
    "nbformat_minor": 2
}
