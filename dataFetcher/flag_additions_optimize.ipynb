{
 "cells": [
  {
   "cell_type": "markdown",
   "metadata": {},
   "source": [
    "# Flag Additions Optimize\n",
    "\n",
    "Optimizes file removing escape characters and decreasing the flag size"
   ]
  },
  {
   "cell_type": "code",
   "execution_count": 8,
   "metadata": {},
   "outputs": [],
   "source": [
    "import requests\n",
    "import json\n",
    "import urllib"
   ]
  },
  {
   "cell_type": "markdown",
   "metadata": {},
   "source": [
    "## Open the file"
   ]
  },
  {
   "cell_type": "code",
   "execution_count": 9,
   "metadata": {},
   "outputs": [],
   "source": [
    "flagsPath = \"./in/flags_additions.json\"\n",
    "\n",
    "with open(flagsPath, \"r\", encoding=\"utf-8\") as json_file:\n",
    "    flags = json.load(json_file)"
   ]
  },
  {
   "cell_type": "markdown",
   "metadata": {},
   "source": [
    "## Unescape characters in flags links"
   ]
  },
  {
   "cell_type": "code",
   "execution_count": 10,
   "metadata": {},
   "outputs": [],
   "source": [
    "\n",
    "for country in flags:\n",
    "    regions = flags[country]['regions']\n",
    "    for region in regions.values():\n",
    "        flag = region['flag']\n",
    "        region['flag'] = urllib.parse.unquote(flag)\n"
   ]
  },
  {
   "cell_type": "markdown",
   "metadata": {},
   "source": [
    "## Reduce the flag size"
   ]
  },
  {
   "cell_type": "markdown",
   "metadata": {},
   "source": [
    "### Undo previous png optimization"
   ]
  },
  {
   "cell_type": "code",
   "execution_count": 4,
   "metadata": {},
   "outputs": [],
   "source": [
    "for country in flags.values():\n",
    "    for flagData in country[\"regions\"].values():\n",
    "        flag: str = flagData[\"flag\"]\n",
    "        if \"upload.wikimedia.org\" not in flag:\n",
    "            continue\n",
    "\n",
    "        textToMatch = \".svg\"\n",
    "        constainsSvg = flag.find(textToMatch)\n",
    "        if constainsSvg != -1:\n",
    "            flagData[\"flag\"] = flag[:constainsSvg + len(textToMatch)]\n"
   ]
  },
  {
   "cell_type": "code",
   "execution_count": 11,
   "metadata": {},
   "outputs": [],
   "source": [
    "image_url = \"https://upload.wikimedia.org/wikipedia/commons/4/43/Flag_of_Southwest_Papua.svg\"\n",
    "headers = {\n",
    "    \"User-Agent\": \"Mozilla/5.0 (Windows NT 10.0; Win64; x64) AppleWebKit/537.36 (KHTML, like Gecko) Chrome/58.0.3029.110 Safari/537.36\"}\n",
    "\n",
    "\n",
    "def urlContentSize(url):\n",
    "    response = requests.get(url, headers=headers)\n",
    "\n",
    "    if response.status_code == 200:\n",
    "        file_size_bytes = len(response.content)\n",
    "        return file_size_bytes / 1024\n",
    "    else:\n",
    "        print(\n",
    "            f\"Failed to fetch the image. Status code: {response.status_code}\")\n"
   ]
  },
  {
   "cell_type": "code",
   "execution_count": 12,
   "metadata": {},
   "outputs": [
    {
     "name": "stdout",
     "output_type": "stream",
     "text": [
      "Flag: https://upload.wikimedia.org/wikipedia/commons/c/c3/Coat_of_arms_of_Vidzeme.svg Size: 126.0595703125 KB\n",
      "Flag: https://upload.wikimedia.org/wikipedia/commons/b/b8/Flag_of_Zaporizhia_Oblast.svg Size: 149.20703125 KB\n"
     ]
    }
   ],
   "source": [
    "maxSvgSize = 100\n",
    "\n",
    "for country in flags.values():\n",
    "    for flagData in country[\"regions\"].values():\n",
    "        flag: str = flagData[\"flag\"]\n",
    "        extension = flag.split(\".\")[-1]\n",
    "        if extension != \"svg\" or \"upload.wikimedia.org\" not in flag:\n",
    "            continue\n",
    "        size = urlContentSize(flag)\n",
    "        if size > maxSvgSize:\n",
    "            print(\"Flag:\", flag, \"Size:\", size, \"KB\")\n",
    "\n",
    "            sections = flag.split(\"/\")\n",
    "            commons_index = sections.index('commons')\n",
    "            sections.insert(commons_index + 1, 'thumb')\n",
    "\n",
    "            filename = sections[-1]\n",
    "            addedFilename = \"/128px-\" + filename + \".png\"\n",
    "            sections.append(addedFilename)\n",
    "\n",
    "            newFlag = '/'.join(sections[:])\n",
    "            # print(\"New flag:\", newFlag)\n",
    "            # print(\"New flag:\", newFlag, \"Size:\", urlContentSize(newFlag), \"KB\")\n",
    "            flagData[\"flag\"] = newFlag\n"
   ]
  },
  {
   "cell_type": "code",
   "execution_count": 13,
   "metadata": {},
   "outputs": [
    {
     "name": "stdout",
     "output_type": "stream",
     "text": [
      "JSON data has been saved to ./in/flags_additions.json\n"
     ]
    }
   ],
   "source": [
    "json_data = json.dumps(\n",
    "    flags, indent=4, ensure_ascii=False).encode('utf8').decode()\n",
    "\n",
    "with open(flagsPath, \"w\") as json_file:\n",
    "    json_file.write(json_data)\n",
    "\n",
    "print(\"JSON data has been saved to\", flagsPath)\n"
   ]
  }
 ],
 "metadata": {
  "kernelspec": {
   "display_name": "base",
   "language": "python",
   "name": "python3"
  },
  "language_info": {
   "codemirror_mode": {
    "name": "ipython",
    "version": 3
   },
   "file_extension": ".py",
   "mimetype": "text/x-python",
   "name": "python",
   "nbconvert_exporter": "python",
   "pygments_lexer": "ipython3",
   "version": "3.10.12"
  },
  "orig_nbformat": 4
 },
 "nbformat": 4,
 "nbformat_minor": 2
}
