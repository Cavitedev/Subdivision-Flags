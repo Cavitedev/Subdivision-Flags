{
 "cells": [
  {
   "cell_type": "markdown",
   "metadata": {},
   "source": [
    "# Flag Additions Optimize\n",
    "\n",
    "Optimizes file removing escape characters and decreasing the flag size"
   ]
  },
  {
   "cell_type": "code",
   "execution_count": 20,
   "metadata": {},
   "outputs": [],
   "source": [
    "import requests\n",
    "import json\n",
    "import urllib"
   ]
  },
  {
   "cell_type": "markdown",
   "metadata": {},
   "source": [
    "## Open the file"
   ]
  },
  {
   "cell_type": "code",
   "execution_count": 21,
   "metadata": {},
   "outputs": [],
   "source": [
    "flagsPath = \"./in/flags_additions.json\"\n",
    "\n",
    "with open(flagsPath, \"r\", encoding=\"utf-8\") as json_file:\n",
    "    flags = json.load(json_file)"
   ]
  },
  {
   "cell_type": "markdown",
   "metadata": {},
   "source": [
    "## Unescape characters in flags links"
   ]
  },
  {
   "cell_type": "code",
   "execution_count": 22,
   "metadata": {},
   "outputs": [],
   "source": [
    "\n",
    "for country in flags:\n",
    "    regions = flags[country]['regions']\n",
    "    for region in regions.values():\n",
    "        flag = region['flag']\n",
    "        region['flag'] = urllib.parse.unquote(flag)\n"
   ]
  },
  {
   "cell_type": "markdown",
   "metadata": {},
   "source": [
    "## Reduce the flag size"
   ]
  },
  {
   "cell_type": "code",
   "execution_count": 23,
   "metadata": {},
   "outputs": [],
   "source": [
    "image_url = \"https://upload.wikimedia.org/wikipedia/commons/4/43/Flag_of_Southwest_Papua.svg\"\n",
    "headers = {\n",
    "    \"User-Agent\": \"Mozilla/5.0 (Windows NT 10.0; Win64; x64) AppleWebKit/537.36 (KHTML, like Gecko) Chrome/58.0.3029.110 Safari/537.36\"}\n",
    "\n",
    "\n",
    "def urlContentSize(url):\n",
    "    response = requests.get(url, headers=headers)\n",
    "\n",
    "    if response.status_code == 200:\n",
    "        file_size_bytes = len(response.content)\n",
    "        return file_size_bytes / 1024\n",
    "    else:\n",
    "        print(\n",
    "            f\"Failed to fetch the image. Status code: {response.status_code}\")\n"
   ]
  },
  {
   "cell_type": "code",
   "execution_count": 25,
   "metadata": {},
   "outputs": [
    {
     "name": "stdout",
     "output_type": "stream",
     "text": [
      "Flag: https://upload.wikimedia.org/wikipedia/commons/6/65/Flag_of_Cundinamarca.svg Size: 141.3740234375 KB\n",
      "New flag: https://upload.wikimedia.org/wikipedia/commons/thumb/6/65/Flag_of_Cundinamarca.svg//128px-Flag_of_Cundinamarca.svg.png\n",
      "Flag: https://upload.wikimedia.org/wikipedia/commons/9/9b/Flag_of_Guaviare.svg Size: 231.962890625 KB\n",
      "New flag: https://upload.wikimedia.org/wikipedia/commons/thumb/9/9b/Flag_of_Guaviare.svg//128px-Flag_of_Guaviare.svg.png\n",
      "Flag: https://upload.wikimedia.org/wikipedia/commons/3/39/Flag_of_Sucre_(Colombia).svg Size: 286.935546875 KB\n",
      "New flag: https://upload.wikimedia.org/wikipedia/commons/thumb/3/39/Flag_of_Sucre_(Colombia).svg//128px-Flag_of_Sucre_(Colombia).svg.png\n",
      "Flag: https://upload.wikimedia.org/wikipedia/commons/f/f7/Flag_of_South_Bohemian_Region.svg Size: 165.423828125 KB\n",
      "New flag: https://upload.wikimedia.org/wikipedia/commons/thumb/f/f7/Flag_of_South_Bohemian_Region.svg//128px-Flag_of_South_Bohemian_Region.svg.png\n",
      "Flag: https://upload.wikimedia.org/wikipedia/commons/d/d7/Flag_of_South_Moravian_Region.svg Size: 125.91796875 KB\n",
      "New flag: https://upload.wikimedia.org/wikipedia/commons/thumb/d/d7/Flag_of_South_Moravian_Region.svg//128px-Flag_of_South_Moravian_Region.svg.png\n",
      "Flag: https://upload.wikimedia.org/wikipedia/commons/0/0b/Flag_of_Karlovy_Vary_Region.svg Size: 134.62109375 KB\n",
      "New flag: https://upload.wikimedia.org/wikipedia/commons/thumb/0/0b/Flag_of_Karlovy_Vary_Region.svg//128px-Flag_of_Karlovy_Vary_Region.svg.png\n",
      "Flag: https://upload.wikimedia.org/wikipedia/commons/b/bc/Flag_of_Hradec_Kralove_Region.svg Size: 296.390625 KB\n",
      "New flag: https://upload.wikimedia.org/wikipedia/commons/thumb/b/bc/Flag_of_Hradec_Kralove_Region.svg//128px-Flag_of_Hradec_Kralove_Region.svg.png\n",
      "Flag: https://upload.wikimedia.org/wikipedia/commons/4/45/Flag_of_Liberec_Region.svg Size: 234.8310546875 KB\n",
      "New flag: https://upload.wikimedia.org/wikipedia/commons/thumb/4/45/Flag_of_Liberec_Region.svg//128px-Flag_of_Liberec_Region.svg.png\n",
      "Flag: https://upload.wikimedia.org/wikipedia/commons/f/f3/Flag_of_Moravian-Silesian_Region.svg Size: 182.2724609375 KB\n",
      "New flag: https://upload.wikimedia.org/wikipedia/commons/thumb/f/f3/Flag_of_Moravian-Silesian_Region.svg//128px-Flag_of_Moravian-Silesian_Region.svg.png\n",
      "Flag: https://upload.wikimedia.org/wikipedia/commons/4/4b/Flag_of_Plzen_Region.svg Size: 177.0791015625 KB\n",
      "New flag: https://upload.wikimedia.org/wikipedia/commons/thumb/4/4b/Flag_of_Plzen_Region.svg//128px-Flag_of_Plzen_Region.svg.png\n",
      "Flag: https://upload.wikimedia.org/wikipedia/commons/0/06/Flag_of_Central_Bohemian_Region.svg Size: 215.8447265625 KB\n",
      "New flag: https://upload.wikimedia.org/wikipedia/commons/thumb/0/06/Flag_of_Central_Bohemian_Region.svg//128px-Flag_of_Central_Bohemian_Region.svg.png\n",
      "Flag: https://upload.wikimedia.org/wikipedia/commons/1/13/Flag_of_Usti_nad_Labem_Region.svg Size: 530.8564453125 KB\n",
      "New flag: https://upload.wikimedia.org/wikipedia/commons/thumb/1/13/Flag_of_Usti_nad_Labem_Region.svg//128px-Flag_of_Usti_nad_Labem_Region.svg.png\n",
      "Flag: https://upload.wikimedia.org/wikipedia/commons/0/0f/Flag_of_Cantabria_(Official).svg Size: 186.9169921875 KB\n",
      "New flag: https://upload.wikimedia.org/wikipedia/commons/thumb/0/0f/Flag_of_Cantabria_(Official).svg//128px-Flag_of_Cantabria_(Official).svg.png\n",
      "Flag: https://upload.wikimedia.org/wikipedia/commons/d/db/Flag_of_La_Rioja_(with_coat_of_arms).svg Size: 141.052734375 KB\n",
      "New flag: https://upload.wikimedia.org/wikipedia/commons/thumb/d/db/Flag_of_La_Rioja_(with_coat_of_arms).svg//128px-Flag_of_La_Rioja_(with_coat_of_arms).svg.png\n",
      "Flag: https://upload.wikimedia.org/wikipedia/commons/2/21/Coat_of_arms_of_Mexico_City,_Mexico.svg Size: 966.544921875 KB\n",
      "New flag: https://upload.wikimedia.org/wikipedia/commons/thumb/2/21/Coat_of_arms_of_Mexico_City,_Mexico.svg//128px-Coat_of_arms_of_Mexico_City,_Mexico.svg.png\n",
      "Flag: https://upload.wikimedia.org/wikipedia/commons/b/b7/Flag_of_the_State_of_Mexico.svg Size: 666.2578125 KB\n",
      "New flag: https://upload.wikimedia.org/wikipedia/commons/thumb/b/b7/Flag_of_the_State_of_Mexico.svg//128px-Flag_of_the_State_of_Mexico.svg.png\n",
      "Flag: https://upload.wikimedia.org/wikipedia/commons/7/7a/Flag_of_Kaohsiung_City.svg Size: 111.515625 KB\n",
      "New flag: https://upload.wikimedia.org/wikipedia/commons/thumb/7/7a/Flag_of_Kaohsiung_City.svg//128px-Flag_of_Kaohsiung_City.svg.png\n",
      "Flag: https://upload.wikimedia.org/wikipedia/commons/8/89/Flag_of_Nantou_County.svg Size: 286.8916015625 KB\n",
      "New flag: https://upload.wikimedia.org/wikipedia/commons/thumb/8/89/Flag_of_Nantou_County.svg//128px-Flag_of_Nantou_County.svg.png\n"
     ]
    }
   ],
   "source": [
    "maxSvgSize = 100\n",
    "\n",
    "for country in flags.values():\n",
    "    for flagData in country[\"regions\"].values():\n",
    "        flag: str = flagData[\"flag\"]\n",
    "        extension = flag.split(\".\")[-1]\n",
    "        if extension != \"svg\" or \"upload.wikimedia.org\" not in flag:\n",
    "            continue\n",
    "        size = urlContentSize(flag)\n",
    "        if size > maxSvgSize:\n",
    "            print(\"Flag:\", flag, \"Size:\", size, \"KB\")\n",
    "\n",
    "            sections = flag.split(\"/\")\n",
    "            commons_index = sections.index('commons')\n",
    "            sections.insert(commons_index + 1, 'thumb')\n",
    "\n",
    "            filename = sections[-1]\n",
    "            addedFilename = \"/128px-\" + filename + \".png\"\n",
    "            sections.append(addedFilename)\n",
    "\n",
    "            newFlag = '/'.join(sections[:])\n",
    "            # print(\"New flag:\", newFlag)\n",
    "            # print(\"New flag:\", newFlag, \"Size:\", urlContentSize(newFlag), \"KB\")\n",
    "            flagData[\"flag\"] = newFlag\n"
   ]
  },
  {
   "cell_type": "code",
   "execution_count": 26,
   "metadata": {},
   "outputs": [
    {
     "name": "stdout",
     "output_type": "stream",
     "text": [
      "JSON data has been saved to ./in/flags_additions.json\n"
     ]
    }
   ],
   "source": [
    "json_data = json.dumps(\n",
    "    flags, indent=4, ensure_ascii=False).encode('utf8').decode()\n",
    "\n",
    "with open(flagsPath, \"w\") as json_file:\n",
    "    json_file.write(json_data)\n",
    "\n",
    "print(\"JSON data has been saved to\", flagsPath)\n"
   ]
  }
 ],
 "metadata": {
  "kernelspec": {
   "display_name": "base",
   "language": "python",
   "name": "python3"
  },
  "language_info": {
   "codemirror_mode": {
    "name": "ipython",
    "version": 3
   },
   "file_extension": ".py",
   "mimetype": "text/x-python",
   "name": "python",
   "nbconvert_exporter": "python",
   "pygments_lexer": "ipython3",
   "version": "3.10.12"
  },
  "orig_nbformat": 4
 },
 "nbformat": 4,
 "nbformat_minor": 2
}
